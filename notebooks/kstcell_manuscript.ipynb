{
 "cells": [
  {
   "cell_type": "markdown",
   "id": "c514e81a-723e-4251-a7c9-272251045b39",
   "metadata": {},
   "source": [
    "# Load libraries"
   ]
  },
  {
   "cell_type": "code",
   "execution_count": 151,
   "id": "9c609206-d950-49b3-a384-fa2131739ab1",
   "metadata": {},
   "outputs": [
    {
     "name": "stderr",
     "output_type": "stream",
     "text": [
      "\n",
      "Attaching package: ‘ComplexUpset’\n",
      "\n",
      "\n",
      "The following object is masked from ‘package:UpSetR’:\n",
      "\n",
      "    upset\n",
      "\n",
      "\n"
     ]
    }
   ],
   "source": [
    "#Switch off startup messages\n",
    "options(warn=0)\n",
    "#Switch of summarize messages\n",
    "options(dplyr.summarise.inform = FALSE)\n",
    "#Limit preview output to 5 lines\n",
    "options(repr.matrix.max.rows=3, repr.matrix.max.columns=5)\n",
    "library(tidyverse)\n",
    "library(ggpubr)\n",
    "library(patchwork)\n",
    "library(readxl)\n",
    "library(ggh4x)\n",
    "library(ggcorrplot)\n",
    "library(ComplexUpset)\n",
    "suppressPackageStartupMessages(library(ltm))\n",
    "suppressPackageStartupMessages(library(LymphoSeq2))"
   ]
  },
  {
   "cell_type": "markdown",
   "id": "3c86aa0e-914e-4783-8de1-4cce41af2787",
   "metadata": {},
   "source": [
    "# Load paths"
   ]
  },
  {
   "cell_type": "code",
   "execution_count": 8,
   "id": "1f9844a3-5af0-4c56-87f8-fbab1bc39503",
   "metadata": {
    "execution": {
     "iopub.execute_input": "2024-02-06T09:10:05.494296Z",
     "iopub.status.busy": "2024-02-06T09:10:05.491671Z",
     "iopub.status.idle": "2024-02-06T09:10:05.509496Z",
     "shell.execute_reply": "2024-02-06T09:10:05.508084Z"
    }
   },
   "outputs": [],
   "source": [
    "analysis_path <- \"~/zenodo\""
   ]
  },
  {
   "cell_type": "markdown",
   "id": "88cb86fb-ecd8-481b-895f-f08ba484da79",
   "metadata": {},
   "source": [
    "## Metadata path"
   ]
  },
  {
   "cell_type": "code",
   "execution_count": 9,
   "id": "a116e9e3-014a-459d-b889-a3c96d7140a9",
   "metadata": {
    "execution": {
     "iopub.execute_input": "2024-02-06T09:10:06.875011Z",
     "iopub.status.busy": "2024-02-06T09:10:06.872489Z",
     "iopub.status.idle": "2024-02-06T09:10:06.895461Z",
     "shell.execute_reply": "2024-02-06T09:10:06.894168Z"
    }
   },
   "outputs": [],
   "source": [
    "metadata_path <- str_c(analysis_path, \"KSTME_study_metadata.csv\", sep = \"/\")"
   ]
  },
  {
   "cell_type": "markdown",
   "id": "0d1006a4-3b05-47a1-8fc9-5bcd2890274b",
   "metadata": {},
   "source": [
    "## RNA-Seq reference path"
   ]
  },
  {
   "cell_type": "code",
   "execution_count": 19,
   "id": "361aede5-90de-4b2b-8f1b-859476e06486",
   "metadata": {
    "execution": {
     "iopub.execute_input": "2024-02-06T09:24:43.762363Z",
     "iopub.status.busy": "2024-02-06T09:24:43.759652Z",
     "iopub.status.idle": "2024-02-06T09:24:43.779917Z",
     "shell.execute_reply": "2024-02-06T09:24:43.778541Z"
    }
   },
   "outputs": [],
   "source": [
    "\n",
    "hiv_fasta_path <- str_c(analysis_path, \"hiv/GCF_000864765_protein.faa\", sep = \"/\")\n",
    "hhv8_fasta_path <- str_c(analysis_path, \"kshv/GCF_000838265_protein.faa\", sep = \"/\")\n",
    "#hiv_gene_expression_path <- str_c(analysis_path, \"rnaseq/hiv/salmon/kstme_hiv_genes_counts.tsv\", sep = \"/\")\n",
    "#hhv8_gene_expression_path <- str_c(analysis_path, \"rnaseq/hhv8/salmon/kstme_hhv8_genes_counts.tsv\", sep = \"/\")\n",
    "#ilc_path <- str_c(analysis_path, \"CRI_iAtlas_Portal_end_epi.csv\", sep = \"/\") \n",
    "#gtex_nses_expression_path <- str_c(analysis_path, \"cibersort_inputs/quant/gtex_nses/gene_tpm_2017-06-05_v8_skin_not_sun_exposed_suprapubic.gct\", sep = \"/\")\n",
    "#gtex_ses_expression_path <- str_c(analysis_path, \"cibersort_inputs/quant/gtex_ses/gene_tpm_2017-06-05_v8_skin_sun_exposed_lower_leg.gct\", sep = \"/\")\n",
    "#lidenge_batchone_expression_path <- str_c(analysis_path, \"rnaseq/human/cibersort_inputs/lidenge_batchone.tsv\", sep = \"/\")\n",
    "#lidenge_batchtwo_expression_path <- str_c(analysis_path, \"rnaseq/human/cibersort_inputs/lidenge_batchtwo.tsv\", sep = \"/\")\n",
    "#lidenge_batchthree_expression_path <- str_c(analysis_path, \"rnaseq/human/cibersort_inputs/lidenge_batchthree.tsv\", sep = \"/\")\n",
    "#lidenge_batchfour_expression_path <- str_c(analysis_path, \"rnaseq/human/cibersort_inputs/lidenge_batchfour.tsv\", sep = \"/\")\n",
    "#tso_expression_path <- str_c(analysis_path, \"rnaseq/human/cibersort_inputs/tso_epidemic.tsv\", sep = \"/\")\n",
    "#hippos_epidemic_expression <- str_c(analysis_path, \"rnaseq/human/cibersort_inputs/hippos_epidemic_merged.tsv\", sep = \"/\")\n",
    "#hippos_endemic_expression <- str_c(analysis_path, \"rnaseq/human/cibersort_inputs/hippos_endemic_merged.tsv\", sep = \"/\")\n",
    "# Targeted gene expression\n",
    "#targerted_expression_path <- str_c(analysis_path, \"nanostring/nanostring_counts.xlsx\", sep = \"/\")"
   ]
  },
  {
   "cell_type": "markdown",
   "id": "ea80288a-a9ef-47a0-b698-d18e44d2ea92",
   "metadata": {},
   "source": [
    "## RNA-Seq count path"
   ]
  },
  {
   "cell_type": "code",
   "execution_count": 25,
   "id": "3add10ae-c287-469a-875a-1cc72f715aa9",
   "metadata": {
    "execution": {
     "iopub.execute_input": "2024-02-06T09:31:25.265896Z",
     "iopub.status.busy": "2024-02-06T09:31:25.263171Z",
     "iopub.status.idle": "2024-02-06T09:31:25.290089Z",
     "shell.execute_reply": "2024-02-06T09:31:25.288787Z"
    }
   },
   "outputs": [],
   "source": [
    "hiv_gene_expression_path <- str_c(analysis_path, \"rnaseq/kstme_hiv_genes_counts.tsv\", sep = \"/\")\n",
    "hhv8_gene_expression_path <- str_c(analysis_path, \"rnaseq/kstme_hhv8_genes_counts.tsv\", sep = \"/\")\n",
    "cibersortx_results_path <- str_c(analysis_path, \"cibersort\", sep = \"/\")"
   ]
  },
  {
   "cell_type": "markdown",
   "id": "30b29034-93ae-4fd9-a71f-83551be055ed",
   "metadata": {
    "execution": {
     "iopub.execute_input": "2024-02-06T10:09:18.123208Z",
     "iopub.status.busy": "2024-02-06T10:09:18.120482Z",
     "iopub.status.idle": "2024-02-06T10:09:18.136963Z",
     "shell.execute_reply": "2024-02-06T10:09:18.135504Z"
    }
   },
   "source": [
    "## Nanostring input path"
   ]
  },
  {
   "cell_type": "code",
   "execution_count": 46,
   "id": "21da6f3b-55c8-4641-8ad6-33d4d269a79d",
   "metadata": {
    "execution": {
     "iopub.execute_input": "2024-02-06T10:12:45.278187Z",
     "iopub.status.busy": "2024-02-06T10:12:45.275393Z",
     "iopub.status.idle": "2024-02-06T10:12:45.293619Z",
     "shell.execute_reply": "2024-02-06T10:12:45.292235Z"
    }
   },
   "outputs": [],
   "source": [
    "targerted_expression_path <- str_c(analysis_path, \"nanostring/nanostring_counts.xlsx\", sep = \"/\")"
   ]
  },
  {
   "cell_type": "markdown",
   "id": "45b371b1-4baa-4e41-93de-f0048f581a83",
   "metadata": {},
   "source": [
    "## AIRR inputs path"
   ]
  },
  {
   "cell_type": "code",
   "execution_count": 115,
   "id": "68155309-31a6-40bf-a6db-c14904921248",
   "metadata": {
    "execution": {
     "iopub.execute_input": "2024-02-06T20:35:55.680840Z",
     "iopub.status.busy": "2024-02-06T20:35:55.677689Z",
     "iopub.status.idle": "2024-02-06T20:35:55.702935Z",
     "shell.execute_reply": "2024-02-06T20:35:55.701421Z"
    }
   },
   "outputs": [],
   "source": [
    "airr_seq_path <- str_c(analysis_path, \"airrseq\", sep = \"/\")\n",
    "compairr_results_path <- str_c(airr_seq_path, \"kstme_compairr_output.tsv\", sep = \"/\")\n",
    "antigen_db_path <- str_c(analysis_path, \"tcr_database/known_tcr_database.tsv\", sep = \"/\")\n",
    "kstme_gliph_clusters_path <- str_c(airr_seq_path, \"kstme_gliph_clusters.csv\", sep = \"/\")\n",
    "kstme_gliph_hlapred_path <- str_c(airr_seq_path, \"kstme_gliph_hla_preds.csv\", sep = \"/\")"
   ]
  },
  {
   "cell_type": "markdown",
   "id": "0460ced8-8045-46ee-8a3f-75b29618e9da",
   "metadata": {},
   "source": [
    "## Output paths"
   ]
  },
  {
   "cell_type": "code",
   "execution_count": 38,
   "id": "a9be8beb-1c58-4ff2-aeec-3a376d985619",
   "metadata": {
    "execution": {
     "iopub.execute_input": "2024-02-06T09:43:35.982405Z",
     "iopub.status.busy": "2024-02-06T09:43:35.979732Z",
     "iopub.status.idle": "2024-02-06T09:43:36.002345Z",
     "shell.execute_reply": "2024-02-06T09:43:36.000556Z"
    }
   },
   "outputs": [],
   "source": [
    "figures_path <- str_c(analysis_path, \"figures\", sep = \"/\")"
   ]
  },
  {
   "cell_type": "markdown",
   "id": "b9bf89e0-7f05-41ad-a62e-18cb51533f39",
   "metadata": {},
   "source": [
    "# Load metadata"
   ]
  },
  {
   "cell_type": "code",
   "execution_count": 13,
   "id": "9dbea068-cc34-420e-bcb9-28943ac9488f",
   "metadata": {
    "execution": {
     "iopub.execute_input": "2024-02-06T09:10:29.755214Z",
     "iopub.status.busy": "2024-02-06T09:10:29.752556Z",
     "iopub.status.idle": "2024-02-06T09:10:29.958844Z",
     "shell.execute_reply": "2024-02-06T09:10:29.957417Z"
    }
   },
   "outputs": [
    {
     "data": {
      "text/html": [
       "<table class=\"dataframe\">\n",
       "<caption>A spec_tbl_df: 748 × 49</caption>\n",
       "<thead>\n",
       "\t<tr><th scope=col>cohort</th><th scope=col>patient_id</th><th scope=col>repertoire_id</th><th scope=col>tra_repertoire_id</th><th scope=col>trb_repertoire_id</th><th scope=col>rna_libraries</th><th scope=col>nanostring_libraries</th><th scope=col>gex_library</th><th scope=col>vdj_library</th><th scope=col>sc_library_count</th><th scope=col>⋯</th><th scope=col>DRB345allele1</th><th scope=col>DRB345allele2</th><th scope=col>timestamp</th><th scope=col>HIV</th><th scope=col>CD4_count</th><th scope=col>KSHV_plasma</th><th scope=col>phenotype</th><th scope=col>DPBallele2</th><th scope=col>ebv_status</th><th scope=col>bl_status</th></tr>\n",
       "\t<tr><th scope=col>&lt;chr&gt;</th><th scope=col>&lt;chr&gt;</th><th scope=col>&lt;chr&gt;</th><th scope=col>&lt;chr&gt;</th><th scope=col>&lt;chr&gt;</th><th scope=col>&lt;chr&gt;</th><th scope=col>&lt;chr&gt;</th><th scope=col>&lt;chr&gt;</th><th scope=col>&lt;chr&gt;</th><th scope=col>&lt;dbl&gt;</th><th scope=col>⋯</th><th scope=col>&lt;chr&gt;</th><th scope=col>&lt;chr&gt;</th><th scope=col>&lt;chr&gt;</th><th scope=col>&lt;dbl&gt;</th><th scope=col>&lt;dbl&gt;</th><th scope=col>&lt;dbl&gt;</th><th scope=col>&lt;chr&gt;</th><th scope=col>&lt;chr&gt;</th><th scope=col>&lt;chr&gt;</th><th scope=col>&lt;chr&gt;</th></tr>\n",
       "</thead>\n",
       "<tbody>\n",
       "\t<tr><td>Hippos</td><td>008_001</td><td>008_001_A</td><td>NA       </td><td>008_001_A</td><td>NA          </td><td>001-A</td><td>NA</td><td>NA</td><td>NA</td><td>⋯</td><td>DRB3*01:01:02</td><td>DRB3*03:01:01</td><td>1/12/23</td><td>276908</td><td>127</td><td>0</td><td>Epidemic KS</td><td>NA</td><td>NA</td><td>NA</td></tr>\n",
       "\t<tr><td>Hippos</td><td>008_001</td><td>008_001_B</td><td>008_001_B</td><td>008_001_B</td><td>008-001-B-12</td><td>001-B</td><td>NA</td><td>NA</td><td>NA</td><td>⋯</td><td>DRB3*01:01:02</td><td>DRB3*03:01:01</td><td>1/12/23</td><td>276908</td><td>127</td><td>0</td><td>Epidemic KS</td><td>NA</td><td>NA</td><td>NA</td></tr>\n",
       "\t<tr><td>⋮</td><td>⋮</td><td>⋮</td><td>⋮</td><td>⋮</td><td>⋮</td><td>⋮</td><td>⋮</td><td>⋮</td><td>⋮</td><td>⋱</td><td>⋮</td><td>⋮</td><td>⋮</td><td>⋮</td><td>⋮</td><td>⋮</td><td>⋮</td><td>⋮</td><td>⋮</td><td>⋮</td></tr>\n",
       "\t<tr><td>BL - Uganda</td><td>009_0249</td><td>MVQ194745A</td><td>NA</td><td>MVQ194745A</td><td>NA</td><td>NA</td><td>NA</td><td>NA</td><td>NA</td><td>⋯</td><td>DRB3*01:01:02</td><td>DRB3*02:02:01</td><td>NA</td><td>NA</td><td>NA</td><td>NA</td><td>BL</td><td>DPB1*105:01</td><td>Positive</td><td>Positive</td></tr>\n",
       "</tbody>\n",
       "</table>\n"
      ],
      "text/latex": [
       "A spec\\_tbl\\_df: 748 × 49\n",
       "\\begin{tabular}{lllllllllllllllllllll}\n",
       " cohort & patient\\_id & repertoire\\_id & tra\\_repertoire\\_id & trb\\_repertoire\\_id & rna\\_libraries & nanostring\\_libraries & gex\\_library & vdj\\_library & sc\\_library\\_count & ⋯ & DRB345allele1 & DRB345allele2 & timestamp & HIV & CD4\\_count & KSHV\\_plasma & phenotype & DPBallele2 & ebv\\_status & bl\\_status\\\\\n",
       " <chr> & <chr> & <chr> & <chr> & <chr> & <chr> & <chr> & <chr> & <chr> & <dbl> & ⋯ & <chr> & <chr> & <chr> & <dbl> & <dbl> & <dbl> & <chr> & <chr> & <chr> & <chr>\\\\\n",
       "\\hline\n",
       "\t Hippos & 008\\_001 & 008\\_001\\_A & NA        & 008\\_001\\_A & NA           & 001-A & NA & NA & NA & ⋯ & DRB3*01:01:02 & DRB3*03:01:01 & 1/12/23 & 276908 & 127 & 0 & Epidemic KS & NA & NA & NA\\\\\n",
       "\t Hippos & 008\\_001 & 008\\_001\\_B & 008\\_001\\_B & 008\\_001\\_B & 008-001-B-12 & 001-B & NA & NA & NA & ⋯ & DRB3*01:01:02 & DRB3*03:01:01 & 1/12/23 & 276908 & 127 & 0 & Epidemic KS & NA & NA & NA\\\\\n",
       "\t ⋮ & ⋮ & ⋮ & ⋮ & ⋮ & ⋮ & ⋮ & ⋮ & ⋮ & ⋮ & ⋱ & ⋮ & ⋮ & ⋮ & ⋮ & ⋮ & ⋮ & ⋮ & ⋮ & ⋮ & ⋮\\\\\n",
       "\t BL - Uganda & 009\\_0249 & MVQ194745A & NA & MVQ194745A & NA & NA & NA & NA & NA & ⋯ & DRB3*01:01:02 & DRB3*02:02:01 & NA & NA & NA & NA & BL & DPB1*105:01 & Positive & Positive\\\\\n",
       "\\end{tabular}\n"
      ],
      "text/markdown": [
       "\n",
       "A spec_tbl_df: 748 × 49\n",
       "\n",
       "| cohort &lt;chr&gt; | patient_id &lt;chr&gt; | repertoire_id &lt;chr&gt; | tra_repertoire_id &lt;chr&gt; | trb_repertoire_id &lt;chr&gt; | rna_libraries &lt;chr&gt; | nanostring_libraries &lt;chr&gt; | gex_library &lt;chr&gt; | vdj_library &lt;chr&gt; | sc_library_count &lt;dbl&gt; | ⋯ ⋯ | DRB345allele1 &lt;chr&gt; | DRB345allele2 &lt;chr&gt; | timestamp &lt;chr&gt; | HIV &lt;dbl&gt; | CD4_count &lt;dbl&gt; | KSHV_plasma &lt;dbl&gt; | phenotype &lt;chr&gt; | DPBallele2 &lt;chr&gt; | ebv_status &lt;chr&gt; | bl_status &lt;chr&gt; |\n",
       "|---|---|---|---|---|---|---|---|---|---|---|---|---|---|---|---|---|---|---|---|---|\n",
       "| Hippos | 008_001 | 008_001_A | NA        | 008_001_A | NA           | 001-A | NA | NA | NA | ⋯ | DRB3*01:01:02 | DRB3*03:01:01 | 1/12/23 | 276908 | 127 | 0 | Epidemic KS | NA | NA | NA |\n",
       "| Hippos | 008_001 | 008_001_B | 008_001_B | 008_001_B | 008-001-B-12 | 001-B | NA | NA | NA | ⋯ | DRB3*01:01:02 | DRB3*03:01:01 | 1/12/23 | 276908 | 127 | 0 | Epidemic KS | NA | NA | NA |\n",
       "| ⋮ | ⋮ | ⋮ | ⋮ | ⋮ | ⋮ | ⋮ | ⋮ | ⋮ | ⋮ | ⋱ | ⋮ | ⋮ | ⋮ | ⋮ | ⋮ | ⋮ | ⋮ | ⋮ | ⋮ | ⋮ |\n",
       "| BL - Uganda | 009_0249 | MVQ194745A | NA | MVQ194745A | NA | NA | NA | NA | NA | ⋯ | DRB3*01:01:02 | DRB3*02:02:01 | NA | NA | NA | NA | BL | DPB1*105:01 | Positive | Positive |\n",
       "\n"
      ],
      "text/plain": [
       "    cohort      patient_id repertoire_id tra_repertoire_id trb_repertoire_id\n",
       "1   Hippos      008_001    008_001_A     NA                008_001_A        \n",
       "2   Hippos      008_001    008_001_B     008_001_B         008_001_B        \n",
       "⋮   ⋮           ⋮          ⋮             ⋮                 ⋮                \n",
       "748 BL - Uganda 009_0249   MVQ194745A    NA                MVQ194745A       \n",
       "    rna_libraries nanostring_libraries gex_library vdj_library sc_library_count\n",
       "1   NA            001-A                NA          NA          NA              \n",
       "2   008-001-B-12  001-B                NA          NA          NA              \n",
       "⋮   ⋮             ⋮                    ⋮           ⋮           ⋮               \n",
       "748 NA            NA                   NA          NA          NA              \n",
       "    ⋯ DRB345allele1 DRB345allele2 timestamp HIV    CD4_count KSHV_plasma\n",
       "1   ⋯ DRB3*01:01:02 DRB3*03:01:01 1/12/23   276908 127       0          \n",
       "2   ⋯ DRB3*01:01:02 DRB3*03:01:01 1/12/23   276908 127       0          \n",
       "⋮   ⋱ ⋮             ⋮             ⋮         ⋮      ⋮         ⋮          \n",
       "748 ⋯ DRB3*01:01:02 DRB3*02:02:01 NA        NA     NA        NA         \n",
       "    phenotype   DPBallele2  ebv_status bl_status\n",
       "1   Epidemic KS NA          NA         NA       \n",
       "2   Epidemic KS NA          NA         NA       \n",
       "⋮   ⋮           ⋮           ⋮          ⋮        \n",
       "748 BL          DPB1*105:01 Positive   Positive "
      ]
     },
     "metadata": {},
     "output_type": "display_data"
    }
   ],
   "source": [
    "study_metadata <- read_csv(metadata_path, show_col_types = FALSE)\n",
    "study_metadata"
   ]
  },
  {
   "attachments": {},
   "cell_type": "markdown",
   "id": "6724e3f0-2a5d-40eb-8a1a-f93672b9be07",
   "metadata": {
    "jp-MarkdownHeadingCollapsed": true
   },
   "source": [
    "# KSHV and HIV gene expression in KS tumors and M2 macrophages and CD8+ T-cells abundance in KS tumors\n",
    "\n",
    "## Prepare HIV gene expression table"
   ]
  },
  {
   "cell_type": "code",
   "execution_count": 14,
   "id": "13a45aa5-304d-4a78-b23b-2c33c70471ea",
   "metadata": {
    "execution": {
     "iopub.execute_input": "2024-02-06T09:11:56.281008Z",
     "iopub.status.busy": "2024-02-06T09:11:56.278262Z",
     "iopub.status.idle": "2024-02-06T09:11:56.425390Z",
     "shell.execute_reply": "2024-02-06T09:11:56.424027Z"
    }
   },
   "outputs": [
    {
     "data": {
      "text/html": [
       "<style>\n",
       ".dl-inline {width: auto; margin:0; padding: 0}\n",
       ".dl-inline>dt, .dl-inline>dd {float: none; width: auto; display: inline-block}\n",
       ".dl-inline>dt::after {content: \":\\0020\"; padding-right: .5ex}\n",
       ".dl-inline>dt:not(:first-of-type) {padding-left: .5ex}\n",
       "</style><dl class=dl-inline><dt>NP_057849.4</dt><dd>'Gag-Pol'</dd><dt>NP_057850.1</dt><dd>'Pr55(Gag)'</dd><dt>NP_057851.1</dt><dd>'Vif'</dd><dt>NP_057852.2</dt><dd>'Vpr'</dd><dt>NP_057853.1</dt><dd>'Tat'</dd><dt>NP_057854.1</dt><dd>'Rev'</dd></dl>\n"
      ],
      "text/latex": [
       "\\begin{description*}\n",
       "\\item[NP\\textbackslash{}\\_057849.4] 'Gag-Pol'\n",
       "\\item[NP\\textbackslash{}\\_057850.1] 'Pr55(Gag)'\n",
       "\\item[NP\\textbackslash{}\\_057851.1] 'Vif'\n",
       "\\item[NP\\textbackslash{}\\_057852.2] 'Vpr'\n",
       "\\item[NP\\textbackslash{}\\_057853.1] 'Tat'\n",
       "\\item[NP\\textbackslash{}\\_057854.1] 'Rev'\n",
       "\\end{description*}\n"
      ],
      "text/markdown": [
       "NP_057849.4\n",
       ":   'Gag-Pol'NP_057850.1\n",
       ":   'Pr55(Gag)'NP_057851.1\n",
       ":   'Vif'NP_057852.2\n",
       ":   'Vpr'NP_057853.1\n",
       ":   'Tat'NP_057854.1\n",
       ":   'Rev'\n",
       "\n"
      ],
      "text/plain": [
       "NP_057849.4 NP_057850.1 NP_057851.1 NP_057852.2 NP_057853.1 NP_057854.1 \n",
       "  \"Gag-Pol\" \"Pr55(Gag)\"       \"Vif\"       \"Vpr\"       \"Tat\"       \"Rev\" "
      ]
     },
     "metadata": {},
     "output_type": "display_data"
    }
   ],
   "source": [
    "suppressWarnings({\n",
    "hiv_dictionary <- read.table(hiv_fasta_path, sep=\"\\n\")$V1[grep(\">\", readLines(hiv_fasta_path))] |>\n",
    "  as_tibble() |>\n",
    "  separate(value, into = c(\"pid\", \"gene_name\", \"org\"), sep = \"\\\\s\") |>\n",
    "  mutate(pid = str_remove(pid, \">\"),\n",
    "    gene_name = if_else(gene_name == \"Envelope\", \"Env\", gene_name)) |>\n",
    "    pull(gene_name)\n",
    "names(hiv_dictionary) <- read.table(hiv_fasta_path, sep=\"\\n\")$V1[grep(\">\", readLines(hiv_fasta_path))] |>\n",
    "  as_tibble() |>\n",
    "  separate(value, into = c(\"pid\", \"gene_name\", \"org\"), sep = \"\\\\s\") |>\n",
    "  mutate(pid = str_remove(pid, \">\"),\n",
    "    gene_name = if_else(gene_name == \"Envelope\", \"Env\", gene_name)) |>\n",
    "    pull(pid)\n",
    "head(hiv_dictionary)})"
   ]
  },
  {
   "cell_type": "code",
   "execution_count": 17,
   "id": "62f4af21-0777-4ced-9ae2-57445ef262bb",
   "metadata": {
    "execution": {
     "iopub.execute_input": "2024-02-06T09:19:13.198383Z",
     "iopub.status.busy": "2024-02-06T09:19:13.195640Z",
     "iopub.status.idle": "2024-02-06T09:19:13.495339Z",
     "shell.execute_reply": "2024-02-06T09:19:13.493904Z"
    }
   },
   "outputs": [
    {
     "data": {
      "text/html": [
       "<table class=\"dataframe\">\n",
       "<caption>A tibble: 10 × 44</caption>\n",
       "<thead>\n",
       "\t<tr><th scope=col>Name</th><th scope=col>008_001_B</th><th scope=col>008_001_C</th><th scope=col>008_001_I</th><th scope=col>008_003_C</th><th scope=col>008_004_D</th><th scope=col>008_005_C</th><th scope=col>008_006_B</th><th scope=col>008_006_C</th><th scope=col>008_007_B</th><th scope=col>⋯</th><th scope=col>008_029_C</th><th scope=col>008_030_B</th><th scope=col>008_030_C</th><th scope=col>008_032_B</th><th scope=col>008_034_B</th><th scope=col>008_037_B</th><th scope=col>008_122_B</th><th scope=col>008_140_B</th><th scope=col>008_175_B</th><th scope=col>008_211_D</th></tr>\n",
       "\t<tr><th scope=col>&lt;chr&gt;</th><th scope=col>&lt;dbl&gt;</th><th scope=col>&lt;dbl&gt;</th><th scope=col>&lt;dbl&gt;</th><th scope=col>&lt;dbl&gt;</th><th scope=col>&lt;dbl&gt;</th><th scope=col>&lt;dbl&gt;</th><th scope=col>&lt;dbl&gt;</th><th scope=col>&lt;dbl&gt;</th><th scope=col>&lt;dbl&gt;</th><th scope=col>⋯</th><th scope=col>&lt;dbl&gt;</th><th scope=col>&lt;dbl&gt;</th><th scope=col>&lt;dbl&gt;</th><th scope=col>&lt;dbl&gt;</th><th scope=col>&lt;dbl&gt;</th><th scope=col>&lt;dbl&gt;</th><th scope=col>&lt;dbl&gt;</th><th scope=col>&lt;dbl&gt;</th><th scope=col>&lt;dbl&gt;</th><th scope=col>&lt;dbl&gt;</th></tr>\n",
       "</thead>\n",
       "<tbody>\n",
       "\t<tr><td>Vpr</td><td>    0.0</td><td>0</td><td>109427.0</td><td>     0</td><td>     0</td><td>0</td><td>0</td><td>146631</td><td>108206</td><td>⋯</td><td>146745</td><td> 36466.7</td><td>532094</td><td> 77129.1</td><td>0</td><td>73775.5</td><td>0</td><td>821708</td><td>0</td><td>0</td></tr>\n",
       "\t<tr><td>Tat</td><td>57184.7</td><td>0</td><td> 55645.2</td><td>658517</td><td>392418</td><td>0</td><td>0</td><td>     0</td><td>     0</td><td>⋯</td><td>227184</td><td>142175.0</td><td>     0</td><td>142841.0</td><td>0</td><td>20955.2</td><td>0</td><td>     0</td><td>0</td><td>0</td></tr>\n",
       "\t<tr><td>⋮</td><td>⋮</td><td>⋮</td><td>⋮</td><td>⋮</td><td>⋮</td><td>⋮</td><td>⋮</td><td>⋮</td><td>⋮</td><td>⋱</td><td>⋮</td><td>⋮</td><td>⋮</td><td>⋮</td><td>⋮</td><td>⋮</td><td>⋮</td><td>⋮</td><td>⋮</td><td>⋮</td></tr>\n",
       "\t<tr><td>Gag-Pol</td><td>22543</td><td>1e+06</td><td>133181</td><td>60348.7</td><td>47980.9</td><td>365910</td><td>36689.5</td><td>26865.4</td><td>158001</td><td>⋯</td><td>142685</td><td>137332</td><td>117102</td><td>144536</td><td>16121</td><td>117851</td><td>0</td><td>0</td><td>0</td><td>222382</td></tr>\n",
       "</tbody>\n",
       "</table>\n"
      ],
      "text/latex": [
       "A tibble: 10 × 44\n",
       "\\begin{tabular}{lllllllllllllllllllll}\n",
       " Name & 008\\_001\\_B & 008\\_001\\_C & 008\\_001\\_I & 008\\_003\\_C & 008\\_004\\_D & 008\\_005\\_C & 008\\_006\\_B & 008\\_006\\_C & 008\\_007\\_B & ⋯ & 008\\_029\\_C & 008\\_030\\_B & 008\\_030\\_C & 008\\_032\\_B & 008\\_034\\_B & 008\\_037\\_B & 008\\_122\\_B & 008\\_140\\_B & 008\\_175\\_B & 008\\_211\\_D\\\\\n",
       " <chr> & <dbl> & <dbl> & <dbl> & <dbl> & <dbl> & <dbl> & <dbl> & <dbl> & <dbl> & ⋯ & <dbl> & <dbl> & <dbl> & <dbl> & <dbl> & <dbl> & <dbl> & <dbl> & <dbl> & <dbl>\\\\\n",
       "\\hline\n",
       "\t Vpr &     0.0 & 0 & 109427.0 &      0 &      0 & 0 & 0 & 146631 & 108206 & ⋯ & 146745 &  36466.7 & 532094 &  77129.1 & 0 & 73775.5 & 0 & 821708 & 0 & 0\\\\\n",
       "\t Tat & 57184.7 & 0 &  55645.2 & 658517 & 392418 & 0 & 0 &      0 &      0 & ⋯ & 227184 & 142175.0 &      0 & 142841.0 & 0 & 20955.2 & 0 &      0 & 0 & 0\\\\\n",
       "\t ⋮ & ⋮ & ⋮ & ⋮ & ⋮ & ⋮ & ⋮ & ⋮ & ⋮ & ⋮ & ⋱ & ⋮ & ⋮ & ⋮ & ⋮ & ⋮ & ⋮ & ⋮ & ⋮ & ⋮ & ⋮\\\\\n",
       "\t Gag-Pol & 22543 & 1e+06 & 133181 & 60348.7 & 47980.9 & 365910 & 36689.5 & 26865.4 & 158001 & ⋯ & 142685 & 137332 & 117102 & 144536 & 16121 & 117851 & 0 & 0 & 0 & 222382\\\\\n",
       "\\end{tabular}\n"
      ],
      "text/markdown": [
       "\n",
       "A tibble: 10 × 44\n",
       "\n",
       "| Name &lt;chr&gt; | 008_001_B &lt;dbl&gt; | 008_001_C &lt;dbl&gt; | 008_001_I &lt;dbl&gt; | 008_003_C &lt;dbl&gt; | 008_004_D &lt;dbl&gt; | 008_005_C &lt;dbl&gt; | 008_006_B &lt;dbl&gt; | 008_006_C &lt;dbl&gt; | 008_007_B &lt;dbl&gt; | ⋯ ⋯ | 008_029_C &lt;dbl&gt; | 008_030_B &lt;dbl&gt; | 008_030_C &lt;dbl&gt; | 008_032_B &lt;dbl&gt; | 008_034_B &lt;dbl&gt; | 008_037_B &lt;dbl&gt; | 008_122_B &lt;dbl&gt; | 008_140_B &lt;dbl&gt; | 008_175_B &lt;dbl&gt; | 008_211_D &lt;dbl&gt; |\n",
       "|---|---|---|---|---|---|---|---|---|---|---|---|---|---|---|---|---|---|---|---|---|\n",
       "| Vpr |     0.0 | 0 | 109427.0 |      0 |      0 | 0 | 0 | 146631 | 108206 | ⋯ | 146745 |  36466.7 | 532094 |  77129.1 | 0 | 73775.5 | 0 | 821708 | 0 | 0 |\n",
       "| Tat | 57184.7 | 0 |  55645.2 | 658517 | 392418 | 0 | 0 |      0 |      0 | ⋯ | 227184 | 142175.0 |      0 | 142841.0 | 0 | 20955.2 | 0 |      0 | 0 | 0 |\n",
       "| ⋮ | ⋮ | ⋮ | ⋮ | ⋮ | ⋮ | ⋮ | ⋮ | ⋮ | ⋮ | ⋱ | ⋮ | ⋮ | ⋮ | ⋮ | ⋮ | ⋮ | ⋮ | ⋮ | ⋮ | ⋮ |\n",
       "| Gag-Pol | 22543 | 1e+06 | 133181 | 60348.7 | 47980.9 | 365910 | 36689.5 | 26865.4 | 158001 | ⋯ | 142685 | 137332 | 117102 | 144536 | 16121 | 117851 | 0 | 0 | 0 | 222382 |\n",
       "\n"
      ],
      "text/plain": [
       "   Name    008_001_B 008_001_C 008_001_I 008_003_C 008_004_D 008_005_C\n",
       "1  Vpr         0.0   0         109427.0       0         0    0        \n",
       "2  Tat     57184.7   0          55645.2  658517    392418    0        \n",
       "⋮  ⋮       ⋮         ⋮         ⋮         ⋮         ⋮         ⋮        \n",
       "10 Gag-Pol 22543     1e+06     133181    60348.7   47980.9   365910   \n",
       "   008_006_B 008_006_C 008_007_B ⋯ 008_029_C 008_030_B 008_030_C 008_032_B\n",
       "1  0         146631    108206    ⋯ 146745     36466.7  532094     77129.1 \n",
       "2  0              0         0    ⋯ 227184    142175.0       0    142841.0 \n",
       "⋮  ⋮         ⋮         ⋮         ⋱ ⋮         ⋮         ⋮         ⋮        \n",
       "10 36689.5   26865.4   158001    ⋯ 142685    137332    117102    144536   \n",
       "   008_034_B 008_037_B 008_122_B 008_140_B 008_175_B 008_211_D\n",
       "1  0         73775.5   0         821708    0         0        \n",
       "2  0         20955.2   0              0    0         0        \n",
       "⋮  ⋮         ⋮         ⋮         ⋮         ⋮         ⋮        \n",
       "10 16121     117851    0         0         0         222382   "
      ]
     },
     "metadata": {},
     "output_type": "display_data"
    }
   ],
   "source": [
    "# Prepare HIV gene expression table\n",
    "hiv_expression_table <- read_tsv(hiv_gene_expression_path,\n",
    "    show_col_types = FALSE) |>\n",
    "  mutate(Name = str_remove_all(Name, \"lcl\\\\|NC_001802.1_cds_|_\\\\d+$\"),\n",
    "    Name = hiv_dictionary[Name]) \n",
    "hiv_gene_names <- hiv_expression_table |>\n",
    "  pull(Name)\n",
    "hiv_expression_table"
   ]
  },
  {
   "cell_type": "markdown",
   "id": "8bfd44cf-0bed-4b58-ac40-bb15c01cff3c",
   "metadata": {
    "jp-MarkdownHeadingCollapsed": true
   },
   "source": [
    "## Prepare KSHV gene expression table"
   ]
  },
  {
   "cell_type": "code",
   "execution_count": 20,
   "id": "48684257-aa09-424b-af5a-bfd08f8356c1",
   "metadata": {
    "execution": {
     "iopub.execute_input": "2024-02-06T09:25:18.547699Z",
     "iopub.status.busy": "2024-02-06T09:25:18.544986Z",
     "iopub.status.idle": "2024-02-06T09:25:18.621555Z",
     "shell.execute_reply": "2024-02-06T09:25:18.620105Z"
    }
   },
   "outputs": [
    {
     "data": {
      "text/html": [
       "<style>\n",
       ".dl-inline {width: auto; margin:0; padding: 0}\n",
       ".dl-inline>dt, .dl-inline>dd {float: none; width: auto; display: inline-block}\n",
       ".dl-inline>dt::after {content: \":\\0020\"; padding-right: .5ex}\n",
       ".dl-inline>dt:not(:first-of-type) {padding-left: .5ex}\n",
       "</style><dl class=dl-inline><dt>YP_001129350.1</dt><dd>'K1'</dd><dt>YP_001129351.1</dt><dd>'ORF4'</dd><dt>YP_001129352.1</dt><dd>'ORF6'</dd><dt>YP_001129353.1</dt><dd>'ORF7'</dd><dt>YP_001129354.1</dt><dd>'ORF8'</dd><dt>YP_001129355.1</dt><dd>'ORF9'</dd></dl>\n"
      ],
      "text/latex": [
       "\\begin{description*}\n",
       "\\item[YP\\textbackslash{}\\_001129350.1] 'K1'\n",
       "\\item[YP\\textbackslash{}\\_001129351.1] 'ORF4'\n",
       "\\item[YP\\textbackslash{}\\_001129352.1] 'ORF6'\n",
       "\\item[YP\\textbackslash{}\\_001129353.1] 'ORF7'\n",
       "\\item[YP\\textbackslash{}\\_001129354.1] 'ORF8'\n",
       "\\item[YP\\textbackslash{}\\_001129355.1] 'ORF9'\n",
       "\\end{description*}\n"
      ],
      "text/markdown": [
       "YP_001129350.1\n",
       ":   'K1'YP_001129351.1\n",
       ":   'ORF4'YP_001129352.1\n",
       ":   'ORF6'YP_001129353.1\n",
       ":   'ORF7'YP_001129354.1\n",
       ":   'ORF8'YP_001129355.1\n",
       ":   'ORF9'\n",
       "\n"
      ],
      "text/plain": [
       "YP_001129350.1 YP_001129351.1 YP_001129352.1 YP_001129353.1 YP_001129354.1 \n",
       "          \"K1\"         \"ORF4\"         \"ORF6\"         \"ORF7\"         \"ORF8\" \n",
       "YP_001129355.1 \n",
       "        \"ORF9\" "
      ]
     },
     "metadata": {},
     "output_type": "display_data"
    }
   ],
   "source": [
    "# Prepare HHV8 gene dictionary\n",
    "suppressWarnings({\n",
    "hhv8_dictionary <- read.table(hhv8_fasta_path, sep=\"\\n\")$V1[grep(\">\", readLines(hhv8_fasta_path))] |>\n",
    "  as_tibble() |>\n",
    "  separate(value, into = c(\"pid\", \"gene_name\", \"org\"), sep = \"\\\\s\") |>\n",
    "  mutate(pid = str_remove(pid, \">\"),\n",
    "    gene_name = if_else(gene_name == \"Envelope\", \"Env\", gene_name)) |>\n",
    "    pull(gene_name)\n",
    "names(hhv8_dictionary) <- read.table(hhv8_fasta_path, sep=\"\\n\")$V1[grep(\">\", readLines(hhv8_fasta_path))] |>\n",
    "  as_tibble() |>\n",
    "  separate(value, into = c(\"pid\", \"gene_name\", \"org\"), sep = \"\\\\s\") |>\n",
    "  mutate(pid = str_remove(pid, \">\"),\n",
    "    gene_name = if_else(gene_name == \"Envelope\", \"Env\", gene_name)) |>\n",
    "    pull(pid)\n",
    "head(hhv8_dictionary)})"
   ]
  },
  {
   "cell_type": "code",
   "execution_count": 24,
   "id": "d2e3dbdf-1a9b-401e-b397-84b92fe33dd0",
   "metadata": {
    "execution": {
     "iopub.execute_input": "2024-02-06T09:27:59.610471Z",
     "iopub.status.busy": "2024-02-06T09:27:59.608038Z",
     "iopub.status.idle": "2024-02-06T09:27:59.783248Z",
     "shell.execute_reply": "2024-02-06T09:27:59.781857Z"
    }
   },
   "outputs": [
    {
     "data": {
      "text/html": [
       "<table class=\"dataframe\">\n",
       "<caption>A tibble: 86 × 52</caption>\n",
       "<thead>\n",
       "\t<tr><th scope=col>Name</th><th scope=col>008_001_B</th><th scope=col>008_001_C</th><th scope=col>008_001_I</th><th scope=col>008_003_C</th><th scope=col>008_004_D</th><th scope=col>008_005_C</th><th scope=col>008_006_B</th><th scope=col>008_006_C</th><th scope=col>008_007_B</th><th scope=col>⋯</th><th scope=col>008_098_C</th><th scope=col>008_122_B</th><th scope=col>008_140_B</th><th scope=col>008_140_D</th><th scope=col>008_175_B</th><th scope=col>008_189_B</th><th scope=col>008_196_C</th><th scope=col>008_211_D</th><th scope=col>008_216_D</th><th scope=col>008_234_D</th></tr>\n",
       "\t<tr><th scope=col>&lt;chr&gt;</th><th scope=col>&lt;dbl&gt;</th><th scope=col>&lt;dbl&gt;</th><th scope=col>&lt;dbl&gt;</th><th scope=col>&lt;dbl&gt;</th><th scope=col>&lt;dbl&gt;</th><th scope=col>&lt;dbl&gt;</th><th scope=col>&lt;dbl&gt;</th><th scope=col>&lt;dbl&gt;</th><th scope=col>&lt;dbl&gt;</th><th scope=col>⋯</th><th scope=col>&lt;dbl&gt;</th><th scope=col>&lt;dbl&gt;</th><th scope=col>&lt;dbl&gt;</th><th scope=col>&lt;dbl&gt;</th><th scope=col>&lt;dbl&gt;</th><th scope=col>&lt;dbl&gt;</th><th scope=col>&lt;dbl&gt;</th><th scope=col>&lt;dbl&gt;</th><th scope=col>&lt;dbl&gt;</th><th scope=col>&lt;dbl&gt;</th></tr>\n",
       "</thead>\n",
       "<tbody>\n",
       "\t<tr><td>ORF43</td><td>313.259</td><td>22.1425</td><td>1172.3</td><td>194.571</td><td> 618.727</td><td>0</td><td>  15.0339</td><td>  69.0059</td><td>  0.000</td><td>⋯</td><td>  0.000</td><td>0</td><td> 163.988</td><td>   0.00</td><td>791.9940</td><td>  28.4459</td><td> 98.8281</td><td>  0.000</td><td>296.225</td><td>640.235</td></tr>\n",
       "\t<tr><td>ORF4 </td><td>116.006</td><td>24.6127</td><td>   0.0</td><td>648.511</td><td>1721.300</td><td>0</td><td>4563.1200</td><td>3313.0000</td><td>344.554</td><td>⋯</td><td>729.133</td><td>0</td><td>1569.200</td><td>2361.93</td><td> 84.9846</td><td>1699.8700</td><td>278.5380</td><td>239.734</td><td>  0.000</td><td>385.946</td></tr>\n",
       "\t<tr><td>⋮</td><td>⋮</td><td>⋮</td><td>⋮</td><td>⋮</td><td>⋮</td><td>⋮</td><td>⋮</td><td>⋮</td><td>⋮</td><td>⋱</td><td>⋮</td><td>⋮</td><td>⋮</td><td>⋮</td><td>⋮</td><td>⋮</td><td>⋮</td><td>⋮</td><td>⋮</td><td>⋮</td></tr>\n",
       "\t<tr><td>ORF48</td><td>661.551</td><td>154.753</td><td>0</td><td>0</td><td>988.613</td><td>0</td><td>0</td><td>54.8616</td><td>491.718</td><td>⋯</td><td>0</td><td>4012.77</td><td>976.673</td><td>148.605</td><td>1934.2</td><td>195.304</td><td>678.042</td><td>273.398</td><td>499.925</td><td>1770.07</td></tr>\n",
       "</tbody>\n",
       "</table>\n"
      ],
      "text/latex": [
       "A tibble: 86 × 52\n",
       "\\begin{tabular}{lllllllllllllllllllll}\n",
       " Name & 008\\_001\\_B & 008\\_001\\_C & 008\\_001\\_I & 008\\_003\\_C & 008\\_004\\_D & 008\\_005\\_C & 008\\_006\\_B & 008\\_006\\_C & 008\\_007\\_B & ⋯ & 008\\_098\\_C & 008\\_122\\_B & 008\\_140\\_B & 008\\_140\\_D & 008\\_175\\_B & 008\\_189\\_B & 008\\_196\\_C & 008\\_211\\_D & 008\\_216\\_D & 008\\_234\\_D\\\\\n",
       " <chr> & <dbl> & <dbl> & <dbl> & <dbl> & <dbl> & <dbl> & <dbl> & <dbl> & <dbl> & ⋯ & <dbl> & <dbl> & <dbl> & <dbl> & <dbl> & <dbl> & <dbl> & <dbl> & <dbl> & <dbl>\\\\\n",
       "\\hline\n",
       "\t ORF43 & 313.259 & 22.1425 & 1172.3 & 194.571 &  618.727 & 0 &   15.0339 &   69.0059 &   0.000 & ⋯ &   0.000 & 0 &  163.988 &    0.00 & 791.9940 &   28.4459 &  98.8281 &   0.000 & 296.225 & 640.235\\\\\n",
       "\t ORF4  & 116.006 & 24.6127 &    0.0 & 648.511 & 1721.300 & 0 & 4563.1200 & 3313.0000 & 344.554 & ⋯ & 729.133 & 0 & 1569.200 & 2361.93 &  84.9846 & 1699.8700 & 278.5380 & 239.734 &   0.000 & 385.946\\\\\n",
       "\t ⋮ & ⋮ & ⋮ & ⋮ & ⋮ & ⋮ & ⋮ & ⋮ & ⋮ & ⋮ & ⋱ & ⋮ & ⋮ & ⋮ & ⋮ & ⋮ & ⋮ & ⋮ & ⋮ & ⋮ & ⋮\\\\\n",
       "\t ORF48 & 661.551 & 154.753 & 0 & 0 & 988.613 & 0 & 0 & 54.8616 & 491.718 & ⋯ & 0 & 4012.77 & 976.673 & 148.605 & 1934.2 & 195.304 & 678.042 & 273.398 & 499.925 & 1770.07\\\\\n",
       "\\end{tabular}\n"
      ],
      "text/markdown": [
       "\n",
       "A tibble: 86 × 52\n",
       "\n",
       "| Name &lt;chr&gt; | 008_001_B &lt;dbl&gt; | 008_001_C &lt;dbl&gt; | 008_001_I &lt;dbl&gt; | 008_003_C &lt;dbl&gt; | 008_004_D &lt;dbl&gt; | 008_005_C &lt;dbl&gt; | 008_006_B &lt;dbl&gt; | 008_006_C &lt;dbl&gt; | 008_007_B &lt;dbl&gt; | ⋯ ⋯ | 008_098_C &lt;dbl&gt; | 008_122_B &lt;dbl&gt; | 008_140_B &lt;dbl&gt; | 008_140_D &lt;dbl&gt; | 008_175_B &lt;dbl&gt; | 008_189_B &lt;dbl&gt; | 008_196_C &lt;dbl&gt; | 008_211_D &lt;dbl&gt; | 008_216_D &lt;dbl&gt; | 008_234_D &lt;dbl&gt; |\n",
       "|---|---|---|---|---|---|---|---|---|---|---|---|---|---|---|---|---|---|---|---|---|\n",
       "| ORF43 | 313.259 | 22.1425 | 1172.3 | 194.571 |  618.727 | 0 |   15.0339 |   69.0059 |   0.000 | ⋯ |   0.000 | 0 |  163.988 |    0.00 | 791.9940 |   28.4459 |  98.8281 |   0.000 | 296.225 | 640.235 |\n",
       "| ORF4  | 116.006 | 24.6127 |    0.0 | 648.511 | 1721.300 | 0 | 4563.1200 | 3313.0000 | 344.554 | ⋯ | 729.133 | 0 | 1569.200 | 2361.93 |  84.9846 | 1699.8700 | 278.5380 | 239.734 |   0.000 | 385.946 |\n",
       "| ⋮ | ⋮ | ⋮ | ⋮ | ⋮ | ⋮ | ⋮ | ⋮ | ⋮ | ⋮ | ⋱ | ⋮ | ⋮ | ⋮ | ⋮ | ⋮ | ⋮ | ⋮ | ⋮ | ⋮ | ⋮ |\n",
       "| ORF48 | 661.551 | 154.753 | 0 | 0 | 988.613 | 0 | 0 | 54.8616 | 491.718 | ⋯ | 0 | 4012.77 | 976.673 | 148.605 | 1934.2 | 195.304 | 678.042 | 273.398 | 499.925 | 1770.07 |\n",
       "\n"
      ],
      "text/plain": [
       "   Name  008_001_B 008_001_C 008_001_I 008_003_C 008_004_D 008_005_C 008_006_B\n",
       "1  ORF43 313.259   22.1425   1172.3    194.571    618.727  0           15.0339\n",
       "2  ORF4  116.006   24.6127      0.0    648.511   1721.300  0         4563.1200\n",
       "⋮  ⋮     ⋮         ⋮         ⋮         ⋮         ⋮         ⋮         ⋮        \n",
       "86 ORF48 661.551   154.753   0         0         988.613   0         0        \n",
       "   008_006_C 008_007_B ⋯ 008_098_C 008_122_B 008_140_B 008_140_D 008_175_B\n",
       "1    69.0059   0.000   ⋯   0.000   0          163.988     0.00   791.9940 \n",
       "2  3313.0000 344.554   ⋯ 729.133   0         1569.200  2361.93    84.9846 \n",
       "⋮  ⋮         ⋮         ⋱ ⋮         ⋮         ⋮         ⋮         ⋮        \n",
       "86 54.8616   491.718   ⋯ 0         4012.77   976.673   148.605   1934.2   \n",
       "   008_189_B 008_196_C 008_211_D 008_216_D 008_234_D\n",
       "1    28.4459  98.8281    0.000   296.225   640.235  \n",
       "2  1699.8700 278.5380  239.734     0.000   385.946  \n",
       "⋮  ⋮         ⋮         ⋮         ⋮         ⋮        \n",
       "86 195.304   678.042   273.398   499.925   1770.07  "
      ]
     },
     "metadata": {},
     "output_type": "display_data"
    }
   ],
   "source": [
    "# Prepare HHV8 gene expression data\n",
    "hhv8_expression_table <- read_tsv(hhv8_gene_expression_path,\n",
    "    show_col_types = FALSE) |>\n",
    "  dplyr::mutate(Name = str_remove_all(Name, \"lcl\\\\|NC_009333.1_cds_|_\\\\d+$\"),\n",
    "    Name = hhv8_dictionary[Name])\n",
    "# Break up KSHV genes into groups based on stage of expression\n",
    "#https://journals.plos.org/plospathogens/article?id=10.1371/journal.ppat.1001013#s5\n",
    "#https://www.ncbi.nlm.nih.gov/pmc/articles/PMC3894221/\n",
    "kshv_groups <- c(\"vIRF-3\" = \"La\", \"ORF73\" = \"La\", \"K4.2\" = \"IE\", \"ORF45\" = \"IE\",\n",
    "  \"ORF48\" = \"IE\", \"ORF50\" = \"IE\", \"K8\" = \"IE\", \"ORF70\" = \"E1\", \"ORF10\" = \"E1\",\n",
    "  \"ORF56\" = \"E1\", \"ORF11\" = \"E1\", \"K3\" = \"E1\", \"ORF40\" = \"E1\", \"ORF59\" = \"E1\",\n",
    "  \"K15\" = \"E1\", \"ORF54\" = \"E1\", \"ORF2\" = \"E2\", \"K1\" = \"E2\", \"K2\" = \"E2\",\n",
    "  \"ORF46\" = \"E2\", \"ORF9\" = \"E2\", \"K5\" = \"E2\", \"K7\" = \"E2\", \"K6\" = \"E2\",\n",
    "  \"vIRF-1\" = \"E2\", \"K14\" = \"E2\", \"vIRF-2\" = \"E2\", \"ORF49\" = \"E2\", \"ORF74\" = \"E2\",\n",
    "  \"ORF7\" = \"E2\", \"ORF6\" = \"E2\", \"ORF44\" = \"E3\", \"ORF31\" = \"E3\", \"ORF19\" = \"E3\",\n",
    "  \"ORF37\" = \"E3\",  \"ORF57\" = \"E3\", \"ORF17\" = \"E3\", \"ORF36\" = \"E3\", \"ORF29\" = \"E3\",\n",
    "  \"ORF21\" = \"E3\", \"ORF61\" = \"E3\", \"ORF60\" = \"E3\", \"ORF66\" = \"E3\", \"ORF16\" = \"E3\",\n",
    "  \"vIRF-4\" = \"E3\", \"ORF69\" = \"E3\", \"ORF23\" = \"L4\", \"ORF22\" = \"L4\", \"ORF25\" = \"L4\",\n",
    "  \"ORF20\" = \"L4\", \"ORF26\" = \"L4\", \"ORF24\" = \"L4\", \"ORF27\" = \"L4\", \"ORF30\" = \"L4\",\n",
    "  \"ORF28\" = \"L4\", \"ORF34\" = \"L4\", \"ORF18\" = \"L4\", \"ORF35\" = \"L4\", \"ORF63\" = \"L4\",\n",
    "  \"ORF62\" = \"L4\", \"ORF65\" = \"L4\", \"ORF32\" = \"L4\", \"ORF38\" = \"L4\", \"ORF33\" = \"L4\", \n",
    "  \"ORF43\" = \"L4\", \"ORF64\" = \"L4\", \"ORF67\" = \"L4\", \"ORF68\" = \"L4\", \"ORF42\" = \"L5\",\n",
    "  \"ORF4\" = \"L5\", \"ORF39\" = \"L5\", \"K8.1\" = \"L5\", \"ORF8\" = \"L5\", \"ORF47\" = \"L5\",\n",
    "  \"ORF75\" = \"L5\", \"ORF58\" = \"L5\", \"ORF52\" = \"L5\", \"ORF53\" = \"L5\", \"ORF55\" = \"L5\",\n",
    "  \"K12\" = \"La\", \"K4\" = \"E1\", \"K4.1\" = \"E1\", \"ORF17.5\" = \"E2\", \"ORF67A\" = \"L5\",\n",
    "  \"ORF71\" = \"La\", \"ORF72\" = \"La\" )\n",
    "  hhv8_expression_table"
   ]
  },
  {
   "cell_type": "markdown",
   "id": "29a121c5-c169-4ed8-8434-d119395ae8bf",
   "metadata": {
    "jp-MarkdownHeadingCollapsed": true
   },
   "source": [
    "## Prepare CibersortX results"
   ]
  },
  {
   "cell_type": "code",
   "execution_count": 26,
   "id": "ec5c5212-9cb0-48e2-9405-56b23e692f28",
   "metadata": {
    "execution": {
     "iopub.execute_input": "2024-02-06T09:31:30.722671Z",
     "iopub.status.busy": "2024-02-06T09:31:30.720016Z",
     "iopub.status.idle": "2024-02-06T09:31:30.949112Z",
     "shell.execute_reply": "2024-02-06T09:31:30.947643Z"
    }
   },
   "outputs": [
    {
     "data": {
      "text/html": [
       "<table class=\"dataframe\">\n",
       "<caption>A tibble: 51 × 23</caption>\n",
       "<thead>\n",
       "\t<tr><th scope=col>Mixture</th><th scope=col>B cells naive</th><th scope=col>B cells memory</th><th scope=col>Plasma cells</th><th scope=col>T cells CD8</th><th scope=col>T cells CD4 naive</th><th scope=col>T cells CD4 memory resting</th><th scope=col>T cells CD4 memory activated</th><th scope=col>T cells follicular helper</th><th scope=col>T cells regulatory (Tregs)</th><th scope=col>⋯</th><th scope=col>Monocytes</th><th scope=col>Macrophages M0</th><th scope=col>Macrophages M1</th><th scope=col>Macrophages M2</th><th scope=col>Dendritic cells resting</th><th scope=col>Dendritic cells activated</th><th scope=col>Mast cells resting</th><th scope=col>Mast cells activated</th><th scope=col>Eosinophils</th><th scope=col>Neutrophils</th></tr>\n",
       "\t<tr><th scope=col>&lt;chr&gt;</th><th scope=col>&lt;dbl&gt;</th><th scope=col>&lt;dbl&gt;</th><th scope=col>&lt;dbl&gt;</th><th scope=col>&lt;dbl&gt;</th><th scope=col>&lt;dbl&gt;</th><th scope=col>&lt;dbl&gt;</th><th scope=col>&lt;dbl&gt;</th><th scope=col>&lt;dbl&gt;</th><th scope=col>&lt;dbl&gt;</th><th scope=col>⋯</th><th scope=col>&lt;dbl&gt;</th><th scope=col>&lt;dbl&gt;</th><th scope=col>&lt;dbl&gt;</th><th scope=col>&lt;dbl&gt;</th><th scope=col>&lt;dbl&gt;</th><th scope=col>&lt;dbl&gt;</th><th scope=col>&lt;dbl&gt;</th><th scope=col>&lt;dbl&gt;</th><th scope=col>&lt;dbl&gt;</th><th scope=col>&lt;dbl&gt;</th></tr>\n",
       "</thead>\n",
       "<tbody>\n",
       "\t<tr><td>008_061_C</td><td>7.912886</td><td>0</td><td>3.921065</td><td>19.70740</td><td>0</td><td>3.996909</td><td>1.182755</td><td>5.857817</td><td>0.5966646</td><td>⋯</td><td>1.163889</td><td>10.835613</td><td>11.778665</td><td>23.80936</td><td>1.952961</td><td>0</td><td>2.600103</td><td>0</td><td>0</td><td>0.0000000</td></tr>\n",
       "\t<tr><td>008_098_B</td><td>6.596161</td><td>0</td><td>3.678067</td><td>21.50593</td><td>0</td><td>0.000000</td><td>9.657895</td><td>3.845360</td><td>0.9626662</td><td>⋯</td><td>0.000000</td><td> 1.311762</td><td> 6.150924</td><td>39.87146</td><td>0.000000</td><td>0</td><td>0.000000</td><td>0</td><td>0</td><td>0.2309073</td></tr>\n",
       "\t<tr><td>⋮</td><td>⋮</td><td>⋮</td><td>⋮</td><td>⋮</td><td>⋮</td><td>⋮</td><td>⋮</td><td>⋮</td><td>⋮</td><td>⋱</td><td>⋮</td><td>⋮</td><td>⋮</td><td>⋮</td><td>⋮</td><td>⋮</td><td>⋮</td><td>⋮</td><td>⋮</td><td>⋮</td></tr>\n",
       "\t<tr><td>008_037_B</td><td>7.057123</td><td>0</td><td>14.34114</td><td>18.42728</td><td>0</td><td>0</td><td>0</td><td>14.77712</td><td>0.3843394</td><td>⋯</td><td>0.5192566</td><td>8.19816</td><td>7.489275</td><td>20.11378</td><td>0</td><td>0</td><td>3.648959</td><td>0</td><td>0</td><td>0</td></tr>\n",
       "</tbody>\n",
       "</table>\n"
      ],
      "text/latex": [
       "A tibble: 51 × 23\n",
       "\\begin{tabular}{lllllllllllllllllllll}\n",
       " Mixture & B cells naive & B cells memory & Plasma cells & T cells CD8 & T cells CD4 naive & T cells CD4 memory resting & T cells CD4 memory activated & T cells follicular helper & T cells regulatory (Tregs) & ⋯ & Monocytes & Macrophages M0 & Macrophages M1 & Macrophages M2 & Dendritic cells resting & Dendritic cells activated & Mast cells resting & Mast cells activated & Eosinophils & Neutrophils\\\\\n",
       " <chr> & <dbl> & <dbl> & <dbl> & <dbl> & <dbl> & <dbl> & <dbl> & <dbl> & <dbl> & ⋯ & <dbl> & <dbl> & <dbl> & <dbl> & <dbl> & <dbl> & <dbl> & <dbl> & <dbl> & <dbl>\\\\\n",
       "\\hline\n",
       "\t 008\\_061\\_C & 7.912886 & 0 & 3.921065 & 19.70740 & 0 & 3.996909 & 1.182755 & 5.857817 & 0.5966646 & ⋯ & 1.163889 & 10.835613 & 11.778665 & 23.80936 & 1.952961 & 0 & 2.600103 & 0 & 0 & 0.0000000\\\\\n",
       "\t 008\\_098\\_B & 6.596161 & 0 & 3.678067 & 21.50593 & 0 & 0.000000 & 9.657895 & 3.845360 & 0.9626662 & ⋯ & 0.000000 &  1.311762 &  6.150924 & 39.87146 & 0.000000 & 0 & 0.000000 & 0 & 0 & 0.2309073\\\\\n",
       "\t ⋮ & ⋮ & ⋮ & ⋮ & ⋮ & ⋮ & ⋮ & ⋮ & ⋮ & ⋮ & ⋱ & ⋮ & ⋮ & ⋮ & ⋮ & ⋮ & ⋮ & ⋮ & ⋮ & ⋮ & ⋮\\\\\n",
       "\t 008\\_037\\_B & 7.057123 & 0 & 14.34114 & 18.42728 & 0 & 0 & 0 & 14.77712 & 0.3843394 & ⋯ & 0.5192566 & 8.19816 & 7.489275 & 20.11378 & 0 & 0 & 3.648959 & 0 & 0 & 0\\\\\n",
       "\\end{tabular}\n"
      ],
      "text/markdown": [
       "\n",
       "A tibble: 51 × 23\n",
       "\n",
       "| Mixture &lt;chr&gt; | B cells naive &lt;dbl&gt; | B cells memory &lt;dbl&gt; | Plasma cells &lt;dbl&gt; | T cells CD8 &lt;dbl&gt; | T cells CD4 naive &lt;dbl&gt; | T cells CD4 memory resting &lt;dbl&gt; | T cells CD4 memory activated &lt;dbl&gt; | T cells follicular helper &lt;dbl&gt; | T cells regulatory (Tregs) &lt;dbl&gt; | ⋯ ⋯ | Monocytes &lt;dbl&gt; | Macrophages M0 &lt;dbl&gt; | Macrophages M1 &lt;dbl&gt; | Macrophages M2 &lt;dbl&gt; | Dendritic cells resting &lt;dbl&gt; | Dendritic cells activated &lt;dbl&gt; | Mast cells resting &lt;dbl&gt; | Mast cells activated &lt;dbl&gt; | Eosinophils &lt;dbl&gt; | Neutrophils &lt;dbl&gt; |\n",
       "|---|---|---|---|---|---|---|---|---|---|---|---|---|---|---|---|---|---|---|---|---|\n",
       "| 008_061_C | 7.912886 | 0 | 3.921065 | 19.70740 | 0 | 3.996909 | 1.182755 | 5.857817 | 0.5966646 | ⋯ | 1.163889 | 10.835613 | 11.778665 | 23.80936 | 1.952961 | 0 | 2.600103 | 0 | 0 | 0.0000000 |\n",
       "| 008_098_B | 6.596161 | 0 | 3.678067 | 21.50593 | 0 | 0.000000 | 9.657895 | 3.845360 | 0.9626662 | ⋯ | 0.000000 |  1.311762 |  6.150924 | 39.87146 | 0.000000 | 0 | 0.000000 | 0 | 0 | 0.2309073 |\n",
       "| ⋮ | ⋮ | ⋮ | ⋮ | ⋮ | ⋮ | ⋮ | ⋮ | ⋮ | ⋮ | ⋱ | ⋮ | ⋮ | ⋮ | ⋮ | ⋮ | ⋮ | ⋮ | ⋮ | ⋮ | ⋮ |\n",
       "| 008_037_B | 7.057123 | 0 | 14.34114 | 18.42728 | 0 | 0 | 0 | 14.77712 | 0.3843394 | ⋯ | 0.5192566 | 8.19816 | 7.489275 | 20.11378 | 0 | 0 | 3.648959 | 0 | 0 | 0 |\n",
       "\n"
      ],
      "text/plain": [
       "   Mixture   B cells naive B cells memory Plasma cells T cells CD8\n",
       "1  008_061_C 7.912886      0              3.921065     19.70740   \n",
       "2  008_098_B 6.596161      0              3.678067     21.50593   \n",
       "⋮  ⋮         ⋮             ⋮              ⋮            ⋮          \n",
       "51 008_037_B 7.057123      0              14.34114     18.42728   \n",
       "   T cells CD4 naive T cells CD4 memory resting T cells CD4 memory activated\n",
       "1  0                 3.996909                   1.182755                    \n",
       "2  0                 0.000000                   9.657895                    \n",
       "⋮  ⋮                 ⋮                          ⋮                           \n",
       "51 0                 0                          0                           \n",
       "   T cells follicular helper T cells regulatory (Tregs) ⋯ Monocytes\n",
       "1  5.857817                  0.5966646                  ⋯ 1.163889 \n",
       "2  3.845360                  0.9626662                  ⋯ 0.000000 \n",
       "⋮  ⋮                         ⋮                          ⋱ ⋮        \n",
       "51 14.77712                  0.3843394                  ⋯ 0.5192566\n",
       "   Macrophages M0 Macrophages M1 Macrophages M2 Dendritic cells resting\n",
       "1  10.835613      11.778665      23.80936       1.952961               \n",
       "2   1.311762       6.150924      39.87146       0.000000               \n",
       "⋮  ⋮              ⋮              ⋮              ⋮                      \n",
       "51 8.19816        7.489275       20.11378       0                      \n",
       "   Dendritic cells activated Mast cells resting Mast cells activated\n",
       "1  0                         2.600103           0                   \n",
       "2  0                         0.000000           0                   \n",
       "⋮  ⋮                         ⋮                  ⋮                   \n",
       "51 0                         3.648959           0                   \n",
       "   Eosinophils Neutrophils\n",
       "1  0           0.0000000  \n",
       "2  0           0.2309073  \n",
       "⋮  ⋮           ⋮          \n",
       "51 0           0          "
      ]
     },
     "metadata": {},
     "output_type": "display_data"
    }
   ],
   "source": [
    "# Load and format CibersortX results\n",
    "cibersort_table <- list.files(cibersortx_results_path, pattern = \"hippos\",\n",
    "    full.names = TRUE) |>\n",
    "    map_df(~read_csv(.x, show_col_types = FALSE)) |>\n",
    "    mutate(Mixture = str_remove(Mixture, \"_quant\"),\n",
    "        Mixture = str_replace_all(Mixture, \"-\", \"_\"),\n",
    "        Mixture = str_extract(Mixture, \"008_\\\\d+_\\\\w\")) |>\n",
    "    dplyr::select(-`P-value`, -Correlation, -RMSE) |> \n",
    "    pivot_longer(c(-Mixture, -`Absolute score (sig.score)`), names_to = \"cell_type\", values_to = \"score\") |>\n",
    "    mutate(percentage = (score*100)/`Absolute score (sig.score)`) |>\n",
    "    pivot_wider(id_cols = Mixture, names_from = cell_type, values_from = percentage)\n",
    "cibersort_table "
   ]
  },
  {
   "cell_type": "markdown",
   "id": "bfa4f754-9a40-48ef-80f1-e5088bf81c69",
   "metadata": {
    "jp-MarkdownHeadingCollapsed": true
   },
   "source": [
    "## Reformat HIV expression table"
   ]
  },
  {
   "cell_type": "code",
   "execution_count": 27,
   "id": "3383aa87-71ce-409f-bd42-609f3da65403",
   "metadata": {
    "execution": {
     "iopub.execute_input": "2024-02-06T09:32:58.304886Z",
     "iopub.status.busy": "2024-02-06T09:32:58.302146Z",
     "iopub.status.idle": "2024-02-06T09:32:58.347890Z",
     "shell.execute_reply": "2024-02-06T09:32:58.346503Z"
    }
   },
   "outputs": [
    {
     "data": {
      "text/html": [
       "<table class=\"dataframe\">\n",
       "<caption>A tibble: 510 × 2</caption>\n",
       "<thead>\n",
       "\t<tr><th scope=col>samples</th><th scope=col>Name</th></tr>\n",
       "\t<tr><th scope=col>&lt;chr&gt;</th><th scope=col>&lt;chr&gt;</th></tr>\n",
       "</thead>\n",
       "<tbody>\n",
       "\t<tr><td>008_061_C</td><td>Vpr</td></tr>\n",
       "\t<tr><td>008_061_C</td><td>Tat</td></tr>\n",
       "\t<tr><td>⋮</td><td>⋮</td></tr>\n",
       "\t<tr><td>008_037_B</td><td>Gag-Pol</td></tr>\n",
       "</tbody>\n",
       "</table>\n"
      ],
      "text/latex": [
       "A tibble: 510 × 2\n",
       "\\begin{tabular}{ll}\n",
       " samples & Name\\\\\n",
       " <chr> & <chr>\\\\\n",
       "\\hline\n",
       "\t 008\\_061\\_C & Vpr\\\\\n",
       "\t 008\\_061\\_C & Tat\\\\\n",
       "\t ⋮ & ⋮\\\\\n",
       "\t 008\\_037\\_B & Gag-Pol\\\\\n",
       "\\end{tabular}\n"
      ],
      "text/markdown": [
       "\n",
       "A tibble: 510 × 2\n",
       "\n",
       "| samples &lt;chr&gt; | Name &lt;chr&gt; |\n",
       "|---|---|\n",
       "| 008_061_C | Vpr |\n",
       "| 008_061_C | Tat |\n",
       "| ⋮ | ⋮ |\n",
       "| 008_037_B | Gag-Pol |\n",
       "\n"
      ],
      "text/plain": [
       "    samples   Name   \n",
       "1   008_061_C Vpr    \n",
       "2   008_061_C Tat    \n",
       "⋮   ⋮         ⋮      \n",
       "510 008_037_B Gag-Pol"
      ]
     },
     "metadata": {},
     "output_type": "display_data"
    }
   ],
   "source": [
    "# Generate HIV sample list table\n",
    "# We will need this table to generate the final heatmap. \n",
    "# Since many samples do not show expression of HIV, this table will help\n",
    "# generate a full table with 51 samples\n",
    "sample_list <- cibersort_table |> \n",
    "  pull(Mixture)\n",
    "hiv_gene_list <- hiv_expression_table |>\n",
    "  pull(Name)\n",
    "\n",
    "hiv_sample_table <- expand_grid(sample_list, hiv_gene_list) |>\n",
    "  mutate(tpm = NULL) |>\n",
    "  dplyr::rename(samples = sample_list, Name = hiv_gene_list)\n",
    "sample_table <- cibersort_table |> \n",
    "  pull(Mixture) |> \n",
    "  as_tibble() |> \n",
    "  dplyr::rename(samples = value)\n",
    "hiv_sample_table"
   ]
  },
  {
   "cell_type": "markdown",
   "id": "5845d206-d84f-4329-89d6-6959d443fe39",
   "metadata": {
    "jp-MarkdownHeadingCollapsed": true
   },
   "source": [
    "## Format RNA-Seq metadata"
   ]
  },
  {
   "cell_type": "code",
   "execution_count": 28,
   "id": "6e566e0f-4fa8-4ed1-a5f4-e2135d99a27a",
   "metadata": {
    "execution": {
     "iopub.execute_input": "2024-02-06T09:34:51.085890Z",
     "iopub.status.busy": "2024-02-06T09:34:51.083163Z",
     "iopub.status.idle": "2024-02-06T09:34:51.232170Z",
     "shell.execute_reply": "2024-02-06T09:34:51.230715Z"
    }
   },
   "outputs": [
    {
     "data": {
      "text/html": [
       "<table class=\"dataframe\">\n",
       "<caption>A tibble: 110 × 5</caption>\n",
       "<thead>\n",
       "\t<tr><th scope=col>cohort</th><th scope=col>repertoire_id</th><th scope=col>rna_libraries</th><th scope=col>tissue_type</th><th scope=col>phenotype</th></tr>\n",
       "\t<tr><th scope=col>&lt;chr&gt;</th><th scope=col>&lt;chr&gt;</th><th scope=col>&lt;chr&gt;</th><th scope=col>&lt;chr&gt;</th><th scope=col>&lt;chr&gt;</th></tr>\n",
       "</thead>\n",
       "<tbody>\n",
       "\t<tr><td>Hippos</td><td>008_001_B</td><td>008-001-B-12</td><td>Tumor</td><td>Epidemic KS</td></tr>\n",
       "\t<tr><td>Hippos</td><td>008_001_C</td><td>008-001-C-13</td><td>Tumor</td><td>Epidemic KS</td></tr>\n",
       "\t<tr><td>⋮</td><td>⋮</td><td>⋮</td><td>⋮</td><td>⋮</td></tr>\n",
       "\t<tr><td>TsoEtAl</td><td>SRR5787177</td><td>p23</td><td>Tumor</td><td>Epidemic KS</td></tr>\n",
       "</tbody>\n",
       "</table>\n"
      ],
      "text/latex": [
       "A tibble: 110 × 5\n",
       "\\begin{tabular}{lllll}\n",
       " cohort & repertoire\\_id & rna\\_libraries & tissue\\_type & phenotype\\\\\n",
       " <chr> & <chr> & <chr> & <chr> & <chr>\\\\\n",
       "\\hline\n",
       "\t Hippos & 008\\_001\\_B & 008-001-B-12 & Tumor & Epidemic KS\\\\\n",
       "\t Hippos & 008\\_001\\_C & 008-001-C-13 & Tumor & Epidemic KS\\\\\n",
       "\t ⋮ & ⋮ & ⋮ & ⋮ & ⋮\\\\\n",
       "\t TsoEtAl & SRR5787177 & p23 & Tumor & Epidemic KS\\\\\n",
       "\\end{tabular}\n"
      ],
      "text/markdown": [
       "\n",
       "A tibble: 110 × 5\n",
       "\n",
       "| cohort &lt;chr&gt; | repertoire_id &lt;chr&gt; | rna_libraries &lt;chr&gt; | tissue_type &lt;chr&gt; | phenotype &lt;chr&gt; |\n",
       "|---|---|---|---|---|\n",
       "| Hippos | 008_001_B | 008-001-B-12 | Tumor | Epidemic KS |\n",
       "| Hippos | 008_001_C | 008-001-C-13 | Tumor | Epidemic KS |\n",
       "| ⋮ | ⋮ | ⋮ | ⋮ | ⋮ |\n",
       "| TsoEtAl | SRR5787177 | p23 | Tumor | Epidemic KS |\n",
       "\n"
      ],
      "text/plain": [
       "    cohort  repertoire_id rna_libraries tissue_type phenotype  \n",
       "1   Hippos  008_001_B     008-001-B-12  Tumor       Epidemic KS\n",
       "2   Hippos  008_001_C     008-001-C-13  Tumor       Epidemic KS\n",
       "⋮   ⋮       ⋮             ⋮             ⋮           ⋮          \n",
       "110 TsoEtAl SRR5787177    p23           Tumor       Epidemic KS"
      ]
     },
     "metadata": {},
     "output_type": "display_data"
    }
   ],
   "source": [
    "# Prep RNA-Seq metadata\n",
    "rna_seq_metadata <-  study_metadata |> \n",
    "  filter(!is.na(rna_libraries)) |> \n",
    "  dplyr::select(cohort, repertoire_id, rna_libraries, tissue_type, phenotype)\n",
    "rna_seq_metadata"
   ]
  },
  {
   "cell_type": "markdown",
   "id": "f7868264-007e-4e0f-9ece-95614fb35ede",
   "metadata": {
    "jp-MarkdownHeadingCollapsed": true
   },
   "source": [
    "## Figure 1 : Epidemic and endemic KS tumors show both lytic and latent KSHV gene expression and contain abundant macrophages with M2 polarization and CD8+ T-cells. "
   ]
  },
  {
   "cell_type": "code",
   "execution_count": 30,
   "id": "d01549b7-6ab1-466d-a589-db562bf376fa",
   "metadata": {
    "execution": {
     "iopub.execute_input": "2024-02-06T09:40:08.262653Z",
     "iopub.status.busy": "2024-02-06T09:40:08.261210Z",
     "iopub.status.idle": "2024-02-06T09:40:08.279048Z",
     "shell.execute_reply": "2024-02-06T09:40:08.277753Z"
    }
   },
   "outputs": [],
   "source": [
    "plot_order <- cibersort_table |> \n",
    "    left_join(rna_seq_metadata, by = c(\"Mixture\" = \"repertoire_id\")) |>\n",
    "    arrange(phenotype, `Macrophages M2`) |>\n",
    "    pull(Mixture)"
   ]
  },
  {
   "cell_type": "code",
   "execution_count": 31,
   "id": "4f2e0b21-e8e1-4872-894c-87f9615bcf6e",
   "metadata": {
    "execution": {
     "iopub.execute_input": "2024-02-06T09:40:13.635606Z",
     "iopub.status.busy": "2024-02-06T09:40:13.632981Z",
     "iopub.status.idle": "2024-02-06T09:40:13.686508Z",
     "shell.execute_reply": "2024-02-06T09:40:13.685111Z"
    }
   },
   "outputs": [],
   "source": [
    "# Plot cibersortX panel\n",
    "cibersort_plot <- cibersort_table |>\n",
    "  pivot_longer(cols = `B cells naive`:Neutrophils, names_to = \"cell_type\", \n",
    "    values_to = \"abundance\" ) |> \n",
    "  left_join(rna_seq_metadata, by = c(\"Mixture\" = \"repertoire_id\")) |>\n",
    "  mutate(Mixture = factor(Mixture, levels = plot_order)) |>\n",
    "  ggplot(aes(x = cell_type, y = Mixture, fill = abundance)) +\n",
    "  geom_tile(color = \"white\", lwd = 0.25, linetype = 1) +\n",
    "  labs(y = \"TRB repertoire ID\", x = \"Cell type\", fill = \"Cell type\\nabundance\") +\n",
    "  ggtitle(\"Immune cell-type\\ncomposition\") +\n",
    "  scale_fill_viridis_b(option = \"plasma\") + \n",
    "  theme_classic(base_size = 20) +\n",
    "  facet_grid(rows = vars(phenotype),scales = \"free\", space = \"free\", margins = F) +\n",
    "  theme(axis.text.x = element_text(angle = 90, vjust = 0.5, hjust = 1, face=\"bold\"),  \n",
    "    axis.title.x = element_blank(), \n",
    "    axis.text.y = element_blank(), axis.line.y = element_blank(), \n",
    "    axis.title.y = element_blank(), axis.ticks.y = element_blank(), \n",
    "    strip.background.x = element_blank(), \n",
    "    strip.background.y = element_rect(linewidth = 2, color = \"black\", linetype = 1), \n",
    "    strip.text.y.right = element_text(face = \"bold\"),\n",
    "    strip.placement = \"inside\", plot.title = element_text(face = \"bold\")) "
   ]
  },
  {
   "cell_type": "code",
   "execution_count": 32,
   "id": "93f9c078-4c82-46df-a4d1-c577b3dad90f",
   "metadata": {
    "execution": {
     "iopub.execute_input": "2024-02-06T09:40:28.407968Z",
     "iopub.status.busy": "2024-02-06T09:40:28.404938Z",
     "iopub.status.idle": "2024-02-06T09:40:28.650724Z",
     "shell.execute_reply": "2024-02-06T09:40:28.648923Z"
    }
   },
   "outputs": [
    {
     "name": "stderr",
     "output_type": "stream",
     "text": [
      "\u001b[1m\u001b[22mJoining with `by = join_by(Name, samples)`\n"
     ]
    }
   ],
   "source": [
    "# Plot HIV gene expression panel\n",
    "hiv_plot <- hiv_expression_table |>\n",
    "  pivot_longer(-Name, names_to = \"samples\",\n",
    "    values_to = \"tpm\") |>\n",
    "  full_join(hiv_sample_table) |> \n",
    "  left_join(rna_seq_metadata, by = c(\"samples\" = \"repertoire_id\")) |>\n",
    "  mutate(tpm = if_else(tpm == 0, NA_integer_, tpm),\n",
    "    samples = factor(samples, levels = plot_order)) |>\n",
    "  ggplot(aes(x = Name, y = samples, fill = tpm)) +\n",
    "  geom_tile(color = \"white\", lwd = 0.25, linetype = 1) +\n",
    "  labs(x = \"Gene\", fill = \"TPM\") +\n",
    "  ggtitle(\"HIV gene\\nexpression\") +\n",
    "  scale_fill_viridis_c(option = \"viridis\", \n",
    "    trans = scales::pseudo_log_trans(sigma = 0.001),\n",
    "    breaks = c(0, 10, 100, 1000, 10000, 100000, 1000000)) +\n",
    "  theme_classic(base_size = 20) +\n",
    "  facet_grid(rows = vars(phenotype), scales = \"free\", space = \"free\", \n",
    "    margins = F) +\n",
    "  theme(axis.text.x = element_text(angle = 90, vjust = 0.5, hjust = 1, face=\"bold\"), \n",
    "    axis.title.x = element_blank(), legend.position = \"none\", \n",
    "    axis.text.y = element_blank(), axis.line.y = element_blank(), \n",
    "    axis.title.y = element_blank(), axis.ticks.y = element_blank(),  \n",
    "    strip.background = element_blank(), strip.text.y = element_blank(),\n",
    "    strip.placement = \"inside\", plot.title = element_text(face = \"bold\")) "
   ]
  },
  {
   "cell_type": "code",
   "execution_count": 33,
   "id": "2979246e-4228-4d10-ae24-61f086799342",
   "metadata": {
    "execution": {
     "iopub.execute_input": "2024-02-06T09:40:32.529242Z",
     "iopub.status.busy": "2024-02-06T09:40:32.526042Z",
     "iopub.status.idle": "2024-02-06T09:40:32.594559Z",
     "shell.execute_reply": "2024-02-06T09:40:32.593096Z"
    }
   },
   "outputs": [
    {
     "name": "stderr",
     "output_type": "stream",
     "text": [
      "\u001b[1m\u001b[22mJoining with `by = join_by(samples)`\n"
     ]
    }
   ],
   "source": [
    "# Plot KSHV gene expression\n",
    "kshv_plot <- hhv8_expression_table |>\n",
    "  pivot_longer(col = `008_001_B`:`008_234_D`, names_to = \"samples\",\n",
    "    values_to = \"tpm\") |>\n",
    "  mutate(tpm = if_else(tpm == 0, NA_integer_, tpm)) |>\n",
    "  right_join(sample_table) |> \n",
    "  left_join(rna_seq_metadata, by = c(\"samples\" = \"repertoire_id\")) |>\n",
    "  mutate(stage = factor(kshv_groups[Name], \n",
    "    levels =c(\"La\", \"IE\", \"E1\", \"E2\", \"E3\", \"L4\", \"L5\", NA)),\n",
    "    samples = factor(samples, levels = plot_order)) |>\n",
    "  ggplot(aes(x = Name, y = samples, fill = tpm)) +\n",
    "  geom_tile(color = \"white\", lwd = 0.25, linetype = 1) +\n",
    "  labs(x = \"Gene\", fill = \"TPM\", y = \"Sample ID\") +\n",
    "  ggtitle(\"KSHV gene\\nexpression\") +\n",
    "  scale_fill_viridis_c(option = \"viridis\", \n",
    "    trans = scales::pseudo_log_trans(sigma = 0.001),\n",
    "    breaks = c(0, 10, 100, 1000, 10000, 100000, 1000000)) +\n",
    "  theme_classic(base_size = 20) +\n",
    "  facet_grid(rows = vars(phenotype), cols = vars(stage), scales = \"free\", \n",
    "    space = \"free\", margins = F)  +\n",
    "  theme(axis.text.x = element_text(angle = 90, vjust = 0.5, hjust = 1, face=\"bold\"),\n",
    "    axis.text.y = element_text(face = \"bold\"),\n",
    "    axis.title.x = element_blank(),panel.spacing.x = unit(0.25, \"lines\"),\n",
    "    strip.text.y = element_blank(), strip.text.x = element_text(face=\"bold\"),\n",
    "    strip.placement = \"inside\", axis.title.y = element_text(face = \"bold\"),\n",
    "    plot.title = element_text(face = \"bold\")) "
   ]
  },
  {
   "cell_type": "code",
   "execution_count": 36,
   "id": "03f95a0f-9cc6-489c-bf29-3d396f5fac4b",
   "metadata": {
    "execution": {
     "iopub.execute_input": "2024-02-06T09:41:05.982629Z",
     "iopub.status.busy": "2024-02-06T09:41:05.979975Z",
     "iopub.status.idle": "2024-02-06T09:41:06.084850Z",
     "shell.execute_reply": "2024-02-06T09:41:06.083399Z"
    }
   },
   "outputs": [],
   "source": [
    "# Plot cell type boxplot\n",
    "cohort_palette <- c(\"Epidemic KS\" = \"#e41a1c\", \"Endemic KS\" = \"#377eb8\")\n",
    "cibersort_boxplots <- cibersort_table |>\n",
    "  pivot_longer(`B cells naive`:Neutrophils, names_to = \"cell_type\", \n",
    "    values_to = \"abundance\") |>\n",
    "  filter(cell_type %in% c(\"Macrophages M2\", \n",
    "    \"T cells CD4 memory activated\", \"T cells CD4 memory resting\",\n",
    "    \"T cells CD8\", \"T cells follicular helper\")) |>\n",
    "  left_join(rna_seq_metadata, by = c(\"Mixture\" = \"repertoire_id\")) |>\n",
    "  mutate(cell_type = case_when(cell_type == \"T cells CD4 memory activated\" ~ \"T cells CD4\\nmemory activated\",\n",
    "    cell_type == \"T cells CD4 memory resting\" ~ \"T cells CD4\\nmemory resting\",\n",
    "    cell_type == \"T cells follicular helper\" ~ \"T cells\\nfollicular helper\",\n",
    "    TRUE ~ cell_type)) |>\n",
    "  ggboxplot(x = \"phenotype\", y = \"abundance\", color = \"phenotype\", \n",
    "    facet.by = \"cell_type\", nrow = 1) |>\n",
    "  ggpar(xlab = \"Cohort\", ylab = \"Abundance\", legend.title = \"Cohort\",\n",
    "    ggtheme = theme_classic(base_size = 20), ylim = c(0, 60),\n",
    "    legend = \"right\", palette = cohort_palette,\n",
    "    panel.labs.font = list(face = \"bold\")) +\n",
    "  stat_compare_means(comparisons = list(c(\"Endemic KS\", \"Epidemic KS\")),\n",
    "    size = 5, label = \"p.signif\") +\n",
    "  theme(strip.text.x = element_text(face=\"bold\"),\n",
    "    axis.text.x = element_blank(), axis.ticks.x = element_blank(),\n",
    "    axis.title = element_text(face = \"bold\"))"
   ]
  },
  {
   "cell_type": "code",
   "execution_count": 37,
   "id": "003aed7e-9be4-4a39-adc9-b60d33b1bc33",
   "metadata": {
    "execution": {
     "iopub.execute_input": "2024-02-06T09:42:07.520145Z",
     "iopub.status.busy": "2024-02-06T09:42:07.517660Z",
     "iopub.status.idle": "2024-02-06T09:42:07.562195Z",
     "shell.execute_reply": "2024-02-06T09:42:07.560865Z"
    }
   },
   "outputs": [],
   "source": [
    "## Plot correlation scatter plot for M2 macrophages and CD8 T-cells\n",
    "tcell_mac_corr_plot <- cibersort_table |>\n",
    "    left_join(rna_seq_metadata, by = c(\"Mixture\" = \"repertoire_id\")) |>\n",
    "    ggplot(aes(x = `Macrophages M2`, y = `T cells CD8`, color = phenotype)) +\n",
    "    geom_point() +\n",
    "    labs(ylab = \"T cells CD8 (%)\",\n",
    "        xlab = \"Macrophage M2 (%)\") +\n",
    "    geom_smooth(method = \"glm\", aes(fill=phenotype)) +\n",
    "    ylim(0, 50) + \n",
    "    stat_cor(p.accuracy = 0.001, r.accuracy = 0.01, size = 8)+\n",
    "    scale_color_manual(values = cohort_palette) + \n",
    "    scale_fill_manual(values = cohort_palette) + \n",
    "    theme_classic(base_size = 20) +\n",
    "    theme(axis.title = element_text(face = \"bold\"),\n",
    "        legend.position = \"none\")"
   ]
  },
  {
   "cell_type": "code",
   "execution_count": 43,
   "id": "ced5d740-6e63-4b97-8867-de2b51014643",
   "metadata": {
    "execution": {
     "iopub.execute_input": "2024-02-06T09:46:10.744058Z",
     "iopub.status.busy": "2024-02-06T09:46:10.741001Z",
     "iopub.status.idle": "2024-02-06T09:46:17.278475Z",
     "shell.execute_reply": "2024-02-06T09:46:17.276520Z"
    }
   },
   "outputs": [
    {
     "name": "stderr",
     "output_type": "stream",
     "text": [
      "\u001b[1m\u001b[22m`geom_smooth()` using formula = 'y ~ x'\n",
      "\u001b[1m\u001b[22m`geom_smooth()` using formula = 'y ~ x'\n",
      "\u001b[1m\u001b[22m`geom_smooth()` using formula = 'y ~ x'\n"
     ]
    }
   ],
   "source": [
    "# Assemble all panels of Figure 1\n",
    "figure_one_layout <- \"\n",
    "1111111111111111112233333\n",
    "1111111111111111112233333\n",
    "1111111111111111112233333\n",
    "1111111111111111112233333\n",
    "4444444444444444444455555\"\n",
    "suppressWarnings({\n",
    "figure_one <- kshv_plot +  hiv_plot +\n",
    "  cibersort_plot  +  cibersort_boxplots + tcell_mac_corr_plot +\n",
    "  plot_layout(design = figure_one_layout, guides = \"collect\",\n",
    "    widths =c(9, 1, 2.5, 10, 2.5)) +\n",
    "  plot_annotation(tag_levels = 'A') & theme(text = element_text('NimbusSan'),\n",
    "    plot.tag = element_text(size = 36,face = \"bold\"))\n",
    "ggsave(str_c(figures_path, \"pdf\", \"Figure_one.pdf\", sep = \"/\"), figure_one, \n",
    "  limitsize = FALSE, width = 30, height = 24, device = cairo_pdf, family = \"Arial Unicode MS\")\n",
    "ggsave(str_c(figures_path, \"svg\", \"Figure_one.svg\", sep = \"/\"), figure_one,\n",
    "  limitsize = FALSE, width = 30, height = 24, device = \"svg\")\n",
    "ggsave(str_c(figures_path, \"png\", \"Figure_one.png\", sep = \"/\"), figure_one,\n",
    "  limitsize = FALSE, width = 30, height = 24, device = \"png\")})"
   ]
  },
  {
   "attachments": {},
   "cell_type": "markdown",
   "id": "0aa8526e-b1df-4308-a15b-b27533482a82",
   "metadata": {
    "jp-MarkdownHeadingCollapsed": true
   },
   "source": [
    "## Supplementary figure 1: Targeted gene expression profiling of epidemic and endemic KS tumors."
   ]
  },
  {
   "cell_type": "code",
   "execution_count": 47,
   "id": "38b19d08-6c75-4c2d-80d2-7fbac14ab0b6",
   "metadata": {
    "execution": {
     "iopub.execute_input": "2024-02-06T10:13:17.693114Z",
     "iopub.status.busy": "2024-02-06T10:13:17.690335Z",
     "iopub.status.idle": "2024-02-06T10:13:17.715227Z",
     "shell.execute_reply": "2024-02-06T10:13:17.713813Z"
    }
   },
   "outputs": [],
   "source": [
    "phenotype_table <- study_metadata |> \n",
    "    filter(cohort == \"Hippos\") |>\n",
    "    select(patient_id, phenotype) |>\n",
    "    mutate(phenotype = replace_na(phenotype, \"Epidemic KS\")) |>\n",
    "    distinct()"
   ]
  },
  {
   "cell_type": "code",
   "execution_count": 50,
   "id": "e7003618-f276-40a5-84f5-ba933031d18f",
   "metadata": {
    "execution": {
     "iopub.execute_input": "2024-02-06T10:13:51.400460Z",
     "iopub.status.busy": "2024-02-06T10:13:51.397741Z",
     "iopub.status.idle": "2024-02-06T10:13:51.533087Z",
     "shell.execute_reply": "2024-02-06T10:13:51.531559Z"
    }
   },
   "outputs": [],
   "source": [
    "nanostring_matrix <- read_excel(targerted_expression_path, sheet=1) |>\n",
    "  pivot_longer(cols = c(-`Probe Name`, -Function), names_to = \"sample\", values_to = \"counts\")\n",
    "nanostring_meta <- read_excel(targerted_expression_path, sheet=2) |>\n",
    "  pivot_longer(cols = `001-B`:His9DP, names_to = \"sample\", values_to = \"tissue_type\") |> \n",
    "  select(sample, tissue_type) |> \n",
    "  distinct()\n",
    "\n",
    "nanostring_matrix <- left_join(nanostring_matrix, nanostring_meta, by = \"sample\")\n",
    "my_breaks <- c(0, 0.01, 0.1, 1, 10, 100, 1000, 10000)"
   ]
  },
  {
   "cell_type": "code",
   "execution_count": 51,
   "id": "d3d6e515-547f-4377-badf-57f9ee5b4a6e",
   "metadata": {
    "execution": {
     "iopub.execute_input": "2024-02-06T10:13:53.199561Z",
     "iopub.status.busy": "2024-02-06T10:13:53.196905Z",
     "iopub.status.idle": "2024-02-06T10:13:53.265877Z",
     "shell.execute_reply": "2024-02-06T10:13:53.263774Z"
    }
   },
   "outputs": [],
   "source": [
    "# Nanostring heatmap\n",
    "nanostring_plot <- nanostring_matrix |> \n",
    "  dplyr::filter(!is.na(tissue_type) & sample != \"KS + HC\") |>\n",
    "  mutate(tissue_type = case_when(str_detect(sample, \"A$\") ~ \"NAT\",\n",
    "        str_detect(sample, \"^His\") ~ \"Histology\",\n",
    "        TRUE ~ \"Tumor\"),\n",
    "    Function = case_when(Function == \"Tumor proliferation\" ~ \"Proliferation\",\n",
    "      Function == \"T-cell proliferation\" ~ \"T-cell\",\n",
    "      Function == \"Tumor inhibition\" ~ \"M1 Macrophage\",\n",
    "      TRUE ~ Function),\n",
    "    Function = factor(Function, levels = c(\"T-cell\", \"CD4 T-cell\", \"CD8 T-cell\", \n",
    "      \"T-reg\", \"T-cell inhibition\", \"NK cell\", \n",
    "      \"Macrophage\", \"M1 Macrophage\", \"M2 Macrophage\", \n",
    "      \"Proliferation\"))) |>\n",
    "  filter(tissue_type != \"Histology\") |>\n",
    "  ggplot(aes(x = sample, y = `Probe Name`, fill = counts)) +\n",
    "  geom_tile(aes(width=0.9, height=0.9), color = \"black\", linewidth=0.1) +\n",
    "  labs(x = \"Samples\", y = \"Probe\", fill = \"Counts\", tag = \"B\") +\n",
    "  scale_fill_viridis_c(breaks = my_breaks, labels = my_breaks, \n",
    "                       trans = scales::pseudo_log_trans(sigma = 0.001)) +\n",
    "  theme_classic(base_size = 26) +\n",
    "  facet_grid(cols = vars(tissue_type), rows = vars(Function), scales = \"free\", space = \"free\", margins = F) +\n",
    "  theme(axis.text.x = element_blank(),  axis.title.x = element_blank(),\n",
    "    axis.line.y = element_blank(), axis.title.y = element_blank(), \n",
    "    axis.text.y = element_text(face = \"bold\"),\n",
    "    strip.placement = \"inside\", axis.ticks.y = element_blank(),\n",
    "    strip.text.y = element_blank(), strip.text.x = element_text(face = \"bold\"),\n",
    "    legend.position = \"bottom\",\n",
    "    legend.key.size = unit(2, \"cm\"),\n",
    "    text = element_text(family = \"NimbusSan\"),\n",
    "    plot.tag = element_text(size = 36,face = \"bold\")) "
   ]
  },
  {
   "cell_type": "code",
   "execution_count": 52,
   "id": "eaca786f-5284-429e-a3bf-61ccecd3a595",
   "metadata": {
    "execution": {
     "iopub.execute_input": "2024-02-06T10:13:54.766795Z",
     "iopub.status.busy": "2024-02-06T10:13:54.763951Z",
     "iopub.status.idle": "2024-02-06T10:13:54.797743Z",
     "shell.execute_reply": "2024-02-06T10:13:54.795941Z"
    }
   },
   "outputs": [],
   "source": [
    "# Nanostring log fold change\n",
    "nanostringfc_plot <- nanostring_matrix |> \n",
    "  dplyr::filter(is.na(tissue_type) & sample != \"KS + HC\") |>\n",
    "  mutate(tissue_type = if_else(sample == \"KS + HC\", \"Lesion\\nvs\\nNormal/HC\", \"FC\"),\n",
    "    Function = case_when(Function == \"Tumor proliferation\" ~ \"Proliferation\",\n",
    "      Function == \"T-cell proliferation\" ~ \"T-cell\",\n",
    "      Function == \"Tumor inhibition\" ~ \"M1 Macrophage\",\n",
    "      TRUE ~ Function),\n",
    "    Function = factor(Function, levels = c(\"T-cell\", \"CD4 T-cell\", \"CD8 T-cell\", \n",
    "      \"T-reg\", \"T-cell inhibition\", \"NK cell\", \n",
    "      \"Macrophage\", \"M1 Macrophage\", \"M2 Macrophage\", \n",
    "      \"Proliferation\"))) |>\n",
    "  ggplot(aes(x = sample, y = `Probe Name`, fill = counts)) +\n",
    "  geom_tile(aes(width=0.9, height=0.9), color = \"black\", linewidth=0.1) +\n",
    "  labs(x = \"Samples\", y = \"Probe\", fill = \"Log2FC\") +\n",
    "  scale_fill_viridis_b(option = \"plasma\") +\n",
    "  theme_classic(base_size = 26) +\n",
    "  facet_grid(cols = vars(tissue_type), rows = vars(Function), scales = \"free\", space = \"free\", margins = F) +\n",
    "  theme(axis.text.x = element_blank(),  axis.title.x = element_blank(),\n",
    "    axis.text.y = element_blank(),  \n",
    "    axis.line.y = element_blank(), axis.title.y = element_blank(), \n",
    "    strip.placement = \"inside\", axis.ticks.y = element_blank(),\n",
    "    strip.text.x = element_text(face = \"bold\"),\n",
    "    strip.text.y = element_text(angle = 0, face = \"bold\"), legend.position = \"bottom\",\n",
    "    text = element_text(family = \"NimbusSan\")) "
   ]
  },
  {
   "cell_type": "code",
   "execution_count": 53,
   "id": "900fd01a-e9b8-4f4e-8f53-e5a529f233e3",
   "metadata": {
    "execution": {
     "iopub.execute_input": "2024-02-06T10:13:55.963552Z",
     "iopub.status.busy": "2024-02-06T10:13:55.960490Z",
     "iopub.status.idle": "2024-02-06T10:13:56.015461Z",
     "shell.execute_reply": "2024-02-06T10:13:56.014047Z"
    }
   },
   "outputs": [],
   "source": [
    "# Nanostring viral expression\n",
    "targeted_viral_expression <- read_excel(targerted_expression_path, sheet = 4)\n",
    "viral_expression_plot <- targeted_viral_expression  |>\n",
    "    mutate(Target = case_match(Target,\n",
    "      \"HHV4\" ~ \"EBV\",\n",
    "      \"HHV5\" ~ \"CMV\",\n",
    "      \"HHV8\" ~ \"KSHV\",\n",
    "      .default = Target)) |>\n",
    "    pivot_longer(c(-Target, -`Probe Name`), names_to = \"sample\", values_to = \"l2fc\") |>\n",
    "    mutate(sample = case_when(sample == \"8020\" ~ \"008_020\",\n",
    "        sample == \"030-B\" ~ \"008_030\", sample == \"028-B\" ~ \"008_028\",\n",
    "        sample == \"024-B\" ~ \"008_024\", sample == \"013-B\" ~ \"008_013\",\n",
    "        sample == \"008-C\" ~ \"008_008\", sample == \"001-B\" ~ \"008_001\",\n",
    "        TRUE ~ str_replace(sample, \"-\", \"_\")),\n",
    "      sample = factor(sample, levels = c(\"008_001\", \"008_008\", \"008_013\",\n",
    "          \"008_020\", \"008_024\", \"008_028\", \"008_030\", \"008_036\", \"008_037\",\n",
    "          \"008_052\", \"008_059\", \"008_061\", \"008_062\", \"008_075\", \"008_085\",\n",
    "          \"008_088\", \"008_092\", \"008_093\", \"008_097\", \"008_099\", \"008_101\",\n",
    "          \"008_106\"))) |>\n",
    "    left_join(phenotype_table, by = c(\"sample\" = \"patient_id\")) |>\n",
    "    arrange(sample) |>\n",
    "    mutate(Target = factor(Target, levels = c(\"Endothelial\", \"EBV\", \"CMV\", \"KSHV\", \"HIV1\", \"HIV2\"))) |>\n",
    "    ggplot(aes(y = `sample`, x = `Probe Name`, fill = l2fc)) +\n",
    "    geom_tile(color = \"white\", lwd = 0.5, linetype = 1) +\n",
    "    labs(x = \"Probe name\", y = \"Sample\", fill = \"Log2FC\", tag = \"A\") +\n",
    "    #scale_fill_gradientn(colors = rev(c('#b2182b','#d6604d','#d1e5f0'))) +\n",
    "    scale_fill_viridis_b(breaks = c(2,4,6,8,10)) +\n",
    "    theme_classic(base_size = 20) +\n",
    "    facet_grid(cols = vars(Target), rows = vars(phenotype), \n",
    "      scales = \"free\", space = \"free\", margins = F) +\n",
    "    theme(axis.text.x = element_text(angle = 90, vjust = 0.5, hjust = 1, face = \"bold\", family = 'NimbusSan'),\n",
    "        axis.text.y = element_text(face = \"bold\", family = 'NimbusSan'),\n",
    "         strip.text.x = element_text(face=\"bold\", family = 'NimbusSan'),\n",
    "         strip.text.y = element_text(face = \"bold\", angle = 0, family = 'NimbusSan'),\n",
    "        axis.title.x = element_blank(), \n",
    "        axis.line.y = element_blank(), legend.key.size = unit(1, \"cm\"),\n",
    "        axis.title.y = element_blank(), axis.ticks.y = element_blank(),\n",
    "        plot.tag = element_text(size = 36,face = \"bold\")) \n"
   ]
  },
  {
   "cell_type": "code",
   "execution_count": 54,
   "id": "f77e4855-d996-457f-96f7-8c8b37c55cc3",
   "metadata": {
    "execution": {
     "iopub.execute_input": "2024-02-06T10:14:00.332246Z",
     "iopub.status.busy": "2024-02-06T10:14:00.329154Z",
     "iopub.status.idle": "2024-02-06T10:14:06.692542Z",
     "shell.execute_reply": "2024-02-06T10:14:06.687876Z"
    }
   },
   "outputs": [],
   "source": [
    "plot_design <- \"11111111111111111111111111111\n",
    "                22222222222222222222222222223\"\n",
    "supplementary_figure_one <- (viral_expression_plot +labs(tag = \"A\"))+ \n",
    "  (nanostring_plot + labs(tag = \"B\")) +  \n",
    "  nanostringfc_plot +\n",
    "  plot_layout(design = plot_design) & theme(plot.tag = element_text(size = 36,face = \"bold\"))\n",
    "\n",
    "ggsave(str_c(figures_path, \"pdf\", \"Supplementary_figure_one.pdf\", sep = \"/\"), supplementary_figure_one, \n",
    "  limitsize = FALSE, width = 25, height = 30, device = cairo_pdf, family = \"Arial Unicode MS\")\n",
    "ggsave(str_c(figures_path, \"svg\", \"Supplementary_figure_one.svg\", sep = \"/\"), supplementary_figure_one,\n",
    "  limitsize = FALSE, width = 25, height = 30, device = \"svg\")\n",
    "ggsave(str_c(figures_path, \"png\", \"Supplementary_figure_one.png\", sep = \"/\"), supplementary_figure_one,\n",
    "  limitsize = FALSE, width = 25, height = 30, device = \"png\")\n"
   ]
  },
  {
   "attachments": {},
   "cell_type": "markdown",
   "id": "5c057b2d-6bf8-4c0b-a5a9-c18e476d83cf",
   "metadata": {},
   "source": [
    "## Figure 2: KS tumors show an enrichment of M2 macrophages and CD8+ T-cells in comparison to control skin samples."
   ]
  },
  {
   "cell_type": "code",
   "execution_count": 64,
   "id": "ae552cec-e151-4392-b2e0-fa2de96c95bd",
   "metadata": {
    "execution": {
     "iopub.execute_input": "2024-02-06T10:50:20.440026Z",
     "iopub.status.busy": "2024-02-06T10:50:20.437298Z",
     "iopub.status.idle": "2024-02-06T10:50:20.953280Z",
     "shell.execute_reply": "2024-02-06T10:50:20.951705Z"
    }
   },
   "outputs": [],
   "source": [
    "# Load cibersort results from public KS datasets\n",
    "readCiberSort <- function(path) {\n",
    "    study = basename(path)\n",
    "    cib_table <- read_csv(path, show_col_types = FALSE) |>\n",
    "        mutate(Mixture = str_remove(Mixture, \"_quant\"),\n",
    "            cohort = study,\n",
    "            cohort = case_when(cohort == \"gtex_nes.csv\" ~ \"Non sun-exposed skin\",\n",
    "                cohort == \"gtex_ses.csv\" ~ \"Sun-exposed skin\",\n",
    "                str_detect(cohort, \"lid\") ~ \"Lidenge et al.\",\n",
    "                str_detect(cohort, \"tso\") ~ \"Tso et al.\"))\n",
    "    return(cib_table)\n",
    "}\n",
    "\n",
    "\n",
    "public_cibersort_table <- list.files(cibersortx_results_path,\n",
    "        pattern = \"lid|tso|gtex\", full.names = TRUE) |>\n",
    "    map_df(readCiberSort)  |>\n",
    "    select(-`P-value`, -Correlation, -RMSE) |> \n",
    "    pivot_longer(c(-Mixture, -cohort,  -`Absolute score (sig.score)`),\n",
    "        names_to = \"cell_type\", values_to = \"score\") |>\n",
    "    mutate(percentage = (score*100)/`Absolute score (sig.score)`) |>\n",
    "    pivot_wider(id_cols = c(Mixture, cohort), names_from = cell_type,\n",
    "        values_from = percentage)"
   ]
  },
  {
   "cell_type": "code",
   "execution_count": 66,
   "id": "d38fd9c3-896f-4d37-a55d-4f1438040cf7",
   "metadata": {
    "execution": {
     "iopub.execute_input": "2024-02-06T10:51:48.166545Z",
     "iopub.status.busy": "2024-02-06T10:51:48.163873Z",
     "iopub.status.idle": "2024-02-06T10:51:48.202342Z",
     "shell.execute_reply": "2024-02-06T10:51:48.200955Z"
    }
   },
   "outputs": [],
   "source": [
    "figure_two_heatmap <- public_cibersort_table |>\n",
    "  pivot_longer(cols = `B cells naive`:Neutrophils, names_to = \"cell_type\", \n",
    "    values_to = \"abundance\" ) |>\n",
    "  mutate(Mixture = if_else(cohort == \"Lidenge et al.\", \n",
    "    str_extract(Mixture, \"SRR\\\\d+$\"), Mixture)) |>\n",
    "  left_join(rna_seq_metadata, by = c(\"Mixture\" = \"repertoire_id\")) |>\n",
    "  mutate(phenotype = case_when(cohort.x %in% c(\"Non sun-exposed skin\", \"Sun-exposed skin\") & is.na(tissue_type) ~ \"Control\", \n",
    "    cohort.x == \"Lidenge et al.\" & tissue_type == \"Normal\" ~ \"Con-\\ntrol\",\n",
    "    tissue_type == \"Tumor\" & phenotype == \"Endemic KS\" ~ \"Ende-\\nmic KS\", \n",
    "    cohort.x == \"Tso et al.\" & tissue_type == \"Tumor\" & phenotype == \"Epidemic KS\" ~ \"Epide-\\nmic KS\", \n",
    "    tissue_type == \"Tumor\" & phenotype == \"Epidemic KS\" ~ \"Epidemic KS\",\n",
    "    TRUE ~ tissue_type),\n",
    "    cohort.x = factor(cohort.x, levels = c(\"Lidenge et al.\", \"Tso et al.\", \"Non sun-exposed skin\", \"Sun-exposed skin\")),\n",
    "    phenotype = factor(phenotype, levels = c(\"Con-\\ntrol\", \"Control\", \"NAT\", \"Ende-\\nmic KS\", \"Endemic KS\", \"Epide-\\nmic KS\", \"Epidemic KS\"))) |>\n",
    "  ggplot(aes(y = cell_type, x = Mixture, fill = abundance)) +\n",
    "  geom_tile(color = \"white\", lwd = 0.5, linetype = 1) +\n",
    "  labs(x = \"Sample\", y = \"Cell type\", fill = \"Cell type\\nabundance\") +\n",
    "  scale_fill_viridis_b(option = \"plasma\") + \n",
    "  theme_classic(base_size = 20) +\n",
    "  facet_nested(cols = vars(cohort.x, phenotype),scales = \"free\", space = \"free\", margins = F) +\n",
    "  theme(axis.text.x = element_blank(), strip.background = element_blank(),\n",
    "    axis.title.x = element_blank(), strip.text = element_text(face = \"bold\"),\n",
    "    axis.text.y = element_text(face = \"bold\"), axis.line = element_blank(), \n",
    "    axis.ticks = element_blank(),\n",
    "    text = element_text(family = 'NimbusSan')) "
   ]
  },
  {
   "cell_type": "code",
   "execution_count": 67,
   "id": "6acfd964-96a9-4954-8b2c-66eb8b6856fc",
   "metadata": {
    "execution": {
     "iopub.execute_input": "2024-02-06T10:51:49.340793Z",
     "iopub.status.busy": "2024-02-06T10:51:49.338018Z",
     "iopub.status.idle": "2024-02-06T10:51:49.391654Z",
     "shell.execute_reply": "2024-02-06T10:51:49.390228Z"
    }
   },
   "outputs": [],
   "source": [
    "supp_cohort_palatte <- c(\"Epidemic KS - NAT\" = \"#fb8072\", \n",
    "  \"Epidemic KS - Tumor\" = \"#e41a1c\", \"Endemic KS - NAT\" = \"#80b1d3\",\n",
    "  \"Endemic KS - Tumor\" = \"#377eb8\", \"Control\" = \"#67a628\")\n",
    "\n",
    "\n",
    "figure_two_corrplot <- public_cibersort_table |>\n",
    "    mutate(Mixture = if_else(cohort == \"Lidenge et al.\", \n",
    "    str_extract(Mixture, \"SRR\\\\d+$\"), Mixture)) |>\n",
    "    left_join(rna_seq_metadata, by = c(\"Mixture\" = \"repertoire_id\")) |>\n",
    "    mutate(phenotype = case_when(cohort.x %in% c(\"Non sun-exposed skin\", \"Sun-exposed skin\") & is.na(tissue_type) ~ \"Control\", \n",
    "    cohort.x == \"Lidenge et al.\" & tissue_type == \"Normal\" ~ \"Control\",\n",
    "    tissue_type == \"Tumor\" & phenotype == \"Endemic KS\" ~ \"Endemic KS - Tumor\", \n",
    "    tissue_type == \"Tumor\" & phenotype == \"Epidemic KS\" ~ \"Epidemic KS - Tumor\", \n",
    "    tissue_type == \"NAT\" & phenotype == \"Epidemic KS\" ~ \"Epidemic KS - NAT\", \n",
    "    tissue_type == \"NAT\" & phenotype == \"Endemic KS\" ~ \"Endemic KS - NAT\"),\n",
    "    cohort.x = factor(cohort.x, levels = c(\"Lidenge et al.\", \"Tso et al.\", \"Non sun-exposed skin\", \"Sun-exposed skin\")),\n",
    "    phenotype = factor(phenotype)) |>\n",
    "    ggscatter(x = \"Macrophages M2\", y = \"T cells CD8\", color = \"phenotype\", \n",
    "        facet.by = \"cohort.x\", nrow = 1,\n",
    "    add = \"reg.line\")  + \n",
    "    stat_cor(aes(color = phenotype), p.accuracy = 0.001, r.accuracy = 0.01, size = 6) +\n",
    "    theme_classic(base_size = 20) + \n",
    "    labs(y = \"T cells CD8 (%)\", x = \"Macrophages M2 (%)\", color = \"Tissue type\") +\n",
    "    ylim(0,50) +\n",
    "    scale_color_manual(values = supp_cohort_palatte) +\n",
    "    scale_fill_manual(values = supp_cohort_palatte) +\n",
    "    theme(strip.text.x = element_text(face=\"bold\"),\n",
    "      axis.title = element_text(face = \"bold\"),\n",
    "      legend.position = \"right\")"
   ]
  },
  {
   "cell_type": "code",
   "execution_count": 68,
   "id": "bc519905-5c20-4ceb-b9b4-3a68c48e4f7f",
   "metadata": {
    "execution": {
     "iopub.execute_input": "2024-02-06T10:51:53.577226Z",
     "iopub.status.busy": "2024-02-06T10:51:53.574041Z",
     "iopub.status.idle": "2024-02-06T10:51:59.115077Z",
     "shell.execute_reply": "2024-02-06T10:51:59.113624Z"
    }
   },
   "outputs": [],
   "source": [
    "figure_two <- figure_two_heatmap / figure_two_corrplot + \n",
    "  plot_annotation(tag_levels = \"A\") & theme(plot.tag = element_text(size = 36,face = \"bold\"))\n",
    "ggsave(str_c(figures_path, \"pdf\", \"Figure_two.pdf\", sep = \"/\"), figure_two, \n",
    "  limitsize = FALSE, width = 30, height = 14, device = cairo_pdf, family = \"Arial Unicode MS\")\n",
    "ggsave(str_c(figures_path, \"svg\", \"Figure_two.svg\", sep = \"/\"), figure_two,\n",
    "  limitsize = FALSE, width = 30, height = 14, device = \"svg\")\n",
    "ggsave(str_c(figures_path, \"png\", \"Figure_two.png\", sep = \"/\"), figure_two,\n",
    "  limitsize = FALSE, width = 30, height = 14, device = \"png\")"
   ]
  },
  {
   "attachments": {},
   "cell_type": "markdown",
   "id": "6c0582c0-53da-4f8d-9cad-d1ec30b42212",
   "metadata": {
    "jp-MarkdownHeadingCollapsed": true
   },
   "source": [
    "# KS TIL repertoires are diverse and poorly correlated with plasma KSHV viral load at study entry and 1-year survival"
   ]
  },
  {
   "cell_type": "markdown",
   "id": "a73271b2-d4a1-4315-b18c-17d10c7604dd",
   "metadata": {},
   "source": [
    "For easy of reproducibility, we will load checkpoints generated from the raw data. To generate these checkpoints please run the nextflow pipelines packaged with the GitHub repository"
   ]
  },
  {
   "cell_type": "code",
   "execution_count": 63,
   "id": "1821894e-d39e-4a11-a3ad-5384cca0e9f1",
   "metadata": {
    "execution": {
     "iopub.execute_input": "2024-02-06T10:44:24.271597Z",
     "iopub.status.busy": "2024-02-06T10:44:24.268933Z",
     "iopub.status.idle": "2024-02-06T10:48:22.663328Z",
     "shell.execute_reply": "2024-02-06T10:48:22.661691Z"
    }
   },
   "outputs": [],
   "source": [
    "# Load checkpoints when avaiable\n",
    "load(str_c(airr_seq_path, \"kstme_paper_tcr_tables.rda\", sep = \"/\"))\n",
    "load(str_c(airr_seq_path, \"kstme_paper_raw_tables.rda\", sep = \"/\"))"
   ]
  },
  {
   "cell_type": "code",
   "execution_count": 69,
   "id": "d722c399-d8f6-450a-a5f0-b3c67d8fda20",
   "metadata": {
    "execution": {
     "iopub.execute_input": "2024-02-06T10:52:38.768699Z",
     "iopub.status.busy": "2024-02-06T10:52:38.765962Z",
     "iopub.status.idle": "2024-02-06T10:52:48.367266Z",
     "shell.execute_reply": "2024-02-06T10:52:48.365595Z"
    }
   },
   "outputs": [],
   "source": [
    "annotated_nprod_table <- study_metadata |>\n",
    "  inner_join(study_nprod_table, by = c(\"trb_repertoire_id\" = \"repertoire_id\"))"
   ]
  },
  {
   "cell_type": "code",
   "execution_count": 70,
   "id": "65575dd0-4a65-4e22-bdb9-d2720c903d79",
   "metadata": {
    "execution": {
     "iopub.execute_input": "2024-02-06T10:52:48.370236Z",
     "iopub.status.busy": "2024-02-06T10:52:48.369295Z",
     "iopub.status.idle": "2024-02-06T10:52:48.395081Z",
     "shell.execute_reply": "2024-02-06T10:52:48.393972Z"
    }
   },
   "outputs": [
    {
     "data": {
      "text/plain": [
       "   Min. 1st Qu.  Median    Mean 3rd Qu.    Max. \n",
       "  1.000   1.000   1.000   1.871   3.000   7.000 "
      ]
     },
     "metadata": {},
     "output_type": "display_data"
    }
   ],
   "source": [
    "# Tumors per individual\n",
    "\n",
    "study_metadata |> \n",
    "    inner_join(annotated_summary, by = c(\"repertoire_id\" = \"repertoire_id\")) |>\n",
    "    filter(total_sequences >= 1000 & tissue_type == \"Tumor\") |>\n",
    "    group_by(patient_id) |>\n",
    "    summarize(number_of_repertoires = length(unique(trb_repertoire_id))) |>\n",
    "    pull(number_of_repertoires) |>\n",
    "    summary()"
   ]
  },
  {
   "attachments": {},
   "cell_type": "markdown",
   "id": "fe154a4e-dc51-432d-a6f6-cbaf8479308b",
   "metadata": {},
   "source": [
    "## Figure 3: Diversity of T-cells infiltrating endemic KS tumors is comparable to the diversity observed in TIL from EBV-associated Burkitt lymphoma."
   ]
  },
  {
   "cell_type": "code",
   "execution_count": 71,
   "id": "b7fdd13e-ca9e-4ffa-a044-b3bcb7d6fb3e",
   "metadata": {
    "execution": {
     "iopub.execute_input": "2024-02-06T10:53:08.256223Z",
     "iopub.status.busy": "2024-02-06T10:53:08.253557Z",
     "iopub.status.idle": "2024-02-06T10:53:08.286231Z",
     "shell.execute_reply": "2024-02-06T10:53:08.284898Z"
    }
   },
   "outputs": [],
   "source": [
    "# Subset tumor and NAT samples from the Renyi table and merge with metadata\n",
    "til_normal_renyi <- study_renyi_table |> \n",
    "    rename(trb_repertoire_id = repertoire_id) |>\n",
    "    pivot_longer(cols = `0`:`Inf`, names_to = \"alpha\", \n",
    "        values_to = \"renyi_number\") |>\n",
    "    inner_join(study_metadata, by = \"trb_repertoire_id\") |>\n",
    "    filter(cohort %in% c(\"Hippos\", \"BL - Ghana\", \"BL - Uganda\") & \n",
    "        tissue_type %in% c(\"NAT\", \"Tumor\") & \n",
    "        (visit_code == \"V01\" | is.na(visit_code)) & !is.na(trb_repertoire_id)) |>\n",
    "    mutate(cohort = case_when(\n",
    "        cohort == \"Hippos\"  ~  str_c(phenotype, tissue_type, sep = \" - \"),\n",
    "        cohort != \"Hippos\" ~ cohort),\n",
    "        cohort = factor(cohort,  \n",
    "            levels = c(\"Endemic KS - NAT\", \"Endemic KS - Tumor\",\n",
    "                \"Epidemic KS - NAT\", \"Epidemic KS - Tumor\", \n",
    "                \"BL - Ghana\", \"BL - Uganda\")),\n",
    "        alpha = str_replace(alpha, \"Inf\", \"\\u221e\")) "
   ]
  },
  {
   "cell_type": "code",
   "execution_count": 72,
   "id": "6ee43e2a-e666-4e96-bc1d-31152352080e",
   "metadata": {
    "execution": {
     "iopub.execute_input": "2024-02-06T10:55:24.633236Z",
     "iopub.status.busy": "2024-02-06T10:55:24.630299Z",
     "iopub.status.idle": "2024-02-06T10:55:30.456423Z",
     "shell.execute_reply": "2024-02-06T10:55:30.452260Z"
    }
   },
   "outputs": [],
   "source": [
    "comparisons <- list(c(\"Endemic KS - Tumor\", \"Epidemic KS - Tumor\"),\n",
    "   c(\"Epidemic KS - NAT\", \"Epidemic KS - Tumor\"), \n",
    "   c(\"Endemic KS - Tumor\", \"BL - Ghana\"),\n",
    "  c(\"Epidemic KS - Tumor\", \"BL - Ghana\"),\n",
    "  c(\"Epidemic KS - Tumor\", \"BL - Uganda\"))\n",
    "comparisons_clin <- list(c(\"Endemic KS\", \"Epidemic KS\"))\n",
    "cohort_palette <- c(\"Epidemic KS - NAT\" = \"#fb8072\", \n",
    "  \"Epidemic KS - Tumor\" = \"#e41a1c\", \"Endemic KS - NAT\" = \"#80b1d3\",\n",
    "  \"Endemic KS - Tumor\" = \"#377eb8\", \"BL - Uganda\" = \"#a65628\",\n",
    "  \"BL - Ghana\" = \"#fdb462\")\n",
    "\n",
    "alpha_zero <- til_normal_renyi |>\n",
    "  filter(alpha == \"0\") |>\n",
    "  ggboxplot(x = \"cohort\", y = \"renyi_number\", color = \"cohort\") |>\n",
    "  ggpar(xlab = FALSE, ylab = \"Species richness\\n(\\u03b1 = 0)\", legend.title = \"Cohort\",\n",
    "    ggtheme = theme_classic(base_size = 24),\n",
    "    legend = \"none\", palette = cohort_palette) +\n",
    "  rremove(\"x.text\") +\n",
    "  stat_compare_means(comparisons = list(c(\"Endemic KS - Tumor\", \"Epidemic KS - Tumor\"),\n",
    "   c(\"Endemic KS - Tumor\", \"BL - Ghana\"),\n",
    "  c(\"Epidemic KS - Tumor\", \"BL - Ghana\"),\n",
    "  c(\"Epidemic KS - Tumor\", \"BL - Uganda\")), \n",
    "  hide.ns = TRUE, size = 5, label = \"p.signif\", show.legend = T)\n",
    "alpha_one <- til_normal_renyi |>\n",
    "  filter(alpha == \"1\") |>\n",
    "  ggboxplot(x = \"cohort\", y = \"renyi_number\", color = \"cohort\") |>\n",
    "  ggpar(xlab = FALSE, ylab = \"Shannon entropy\\n(\\u03b1 = 1)\", legend.title = \"Cohort\",\n",
    "    ggtheme = theme_classic(base_size = 24),\n",
    "    legend = \"none\", palette = cohort_palette) + \n",
    "  rremove(\"x.text\") +\n",
    "  stat_compare_means(comparisons = list(c(\"Endemic KS - Tumor\", \"Epidemic KS - Tumor\"),\n",
    "   c(\"Endemic KS - Tumor\", \"BL - Ghana\"),\n",
    "  c(\"Epidemic KS - Tumor\", \"BL - Uganda\")), hide.ns = TRUE, size = 5, label = \"p.signif\", show.legend = T)\n",
    "alpha_two <- til_normal_renyi |>\n",
    "  filter(alpha == \"2\") |>\n",
    "  ggboxplot(x = \"cohort\", y = \"renyi_number\", color = \"cohort\") |>\n",
    "  ggpar(xlab = \"Cohort\", ylab = \"Simpson's diversity\\n(\\u03b1 = 2)\", legend.title = \"Cohort\",\n",
    "    ggtheme = theme_classic(base_size = 24), \n",
    "    legend = \"none\", palette = cohort_palette, x.text.angle = 45) +\n",
    "  stat_compare_means(comparisons = list(c(\"Endemic KS - Tumor\", \"Epidemic KS - Tumor\"),\n",
    "   c(\"Epidemic KS - NAT\", \"Epidemic KS - Tumor\"), \n",
    "   c(\"Endemic KS - Tumor\", \"BL - Ghana\"),\n",
    "  c(\"Epidemic KS - Tumor\", \"BL - Uganda\")), \n",
    "  hide.ns = TRUE, size = 5, label = \"p.signif\", show.legend = T)\n",
    "alpha_inf <- til_normal_renyi |>\n",
    "  filter(alpha == \"\\u221e\") |>\n",
    "  ggboxplot(x = \"cohort\", y = \"renyi_number\", color = \"cohort\") |>\n",
    "  ggpar(xlab = \"Cohort\", ylab = \"Berger-Parker index\\n(\\u03b1 = \\u221e)\", legend.title = \"Cohort\",\n",
    "    ggtheme = theme_classic(base_size = 24), \n",
    "    legend = \"right\", palette = cohort_palette, x.text.angle = 45) +\n",
    "  stat_compare_means(comparisons = list(\n",
    "   c(\"Epidemic KS - NAT\", \"Epidemic KS - Tumor\"), \n",
    "  c(\"Epidemic KS - Tumor\", \"BL - Uganda\")), \n",
    "  hide.ns = TRUE, size = 5, label = \"p.signif\", show.legend = T)\n",
    "renyi_plot <- ggline(til_normal_renyi, x = \"alpha\", y = \"renyi_number\",\n",
    "    color = \"cohort\", add = \"mean_se\") |> \n",
    "  ggpar(xlab = \"\\u03b1\", ylab = \"Renyi entropy\", legend.title = \"Cohort\",\n",
    "    ggtheme = theme_classic(base_size = 24), \n",
    "    legend = \"none\", palette = cohort_palette)\n",
    "figure_three_layout <- \"\n",
    "1122\n",
    "1122\n",
    "3344\n",
    "3344\n",
    "5555\n",
    "5555\"\n",
    "figure_three <- alpha_zero + alpha_one + alpha_two + \n",
    "  alpha_inf + renyi_plot + \n",
    "  plot_layout(design = figure_three_layout, guides = \"collect\") +\n",
    "  plot_annotation(tag_levels = 'A') & theme(text = element_text('NimbusSan'),\n",
    "    plot.tag = element_text(size = 36,face = \"bold\"))\n",
    "ggsave(str_c(figures_path, \"pdf\", \"Figure_three.pdf\", sep = \"/\"), figure_three, width = 16, \n",
    "    height = 18, device = cairo_pdf, family = \"Arial Unicode MS\")\n",
    "ggsave(str_c(figures_path, \"svg\", \"Figure_three.svg\", sep = \"/\"), figure_three, width = 16, \n",
    "    height = 18)\n",
    "ggsave(str_c(figures_path, \"png\", \"Figure_three.png\", sep = \"/\"), figure_three, width = 16, \n",
    "    height = 18)"
   ]
  },
  {
   "attachments": {},
   "cell_type": "markdown",
   "id": "6ba2d876-0461-446a-bb13-2ce1452cb8c3",
   "metadata": {},
   "source": [
    "## Supplementary Figure 2: Plasma KSHV and HIV viral load and CD4+ T-cell count are not correlated with T-cell repertoire diversity in KS tumors"
   ]
  },
  {
   "cell_type": "code",
   "execution_count": 73,
   "id": "672ea817-e592-4fd2-bcc0-603f57a3251f",
   "metadata": {
    "execution": {
     "iopub.execute_input": "2024-02-06T10:57:17.024301Z",
     "iopub.status.busy": "2024-02-06T10:57:17.021493Z",
     "iopub.status.idle": "2024-02-06T10:57:17.120053Z",
     "shell.execute_reply": "2024-02-06T10:57:17.118484Z"
    }
   },
   "outputs": [],
   "source": [
    "# Plot KSHV viral load and CD4+ T-cell counts\n",
    "plot_titer_tables <- study_metadata |>\n",
    "  filter(trb_repertoire_id %in% til_normal_renyi$repertoire_id) |>\n",
    "  select(patient_id, visit_code, hiv_status, ks_status,\n",
    "    HIV, CD4_count, KSHV_plasma) |>\n",
    "  distinct()\n",
    "kshv_titer_plot <- plot_titer_tables |>\n",
    "  filter(!is.na(KSHV_plasma)) |>\n",
    "  mutate(cohort = if_else(hiv_status == \"Positive\", \"Epidemic KS\",\n",
    "    \"Endemic KS\")) |>\n",
    "  ggboxplot(x = \"cohort\", y = \"KSHV_plasma\", color = \"cohort\", \n",
    "    add = \"jitter\") |>\n",
    "  ggpar(xlab = FALSE, ylab = \"Plasma KSHV titer\\n(copies/mL)\", \n",
    "    legend.title = \"Cohort\",\n",
    "    ggtheme = theme_classic(base_size = 24),\n",
    "    legend = \"none\", palette = c(\"Epidemic KS\" = \"#e41a1c\",\n",
    "      \"Endemic KS\" = \"#377eb8\")) +\n",
    "  stat_compare_means(comparisons = comparisons_clin, hide.ns = TRUE, size = 5, label = \"p.signif\", show.legend = T)\n",
    "cd4_plot <- plot_titer_tables |>\n",
    "  filter(!is.na(CD4_count)) |>\n",
    "  mutate(cohort = if_else(hiv_status == \"Positive\", \"Epidemic KS\",\n",
    "    \"Endemic KS\")) |>\n",
    "  ggboxplot(x = \"cohort\", y = \"CD4_count\", color = \"cohort\", \n",
    "    add = \"jitter\") |>\n",
    "  ggpar(xlab = FALSE, ylab = str_c(\"CD4+ count\\n(cells/\\u03BC\", \"L)\", sep = \"\"), \n",
    "    legend.title = \"Cohort\",\n",
    "    ggtheme = theme_classic(base_size = 24),\n",
    "    legend = \"none\", palette = c(\"Epidemic KS\" = \"#e41a1c\",\n",
    "      \"Endemic KS\" = \"#377eb8\")) +\n",
    "  geom_hline(yintercept = 200, linetype = 2) +\n",
    "  stat_compare_means(comparisons = comparisons_clin, hide.ns = TRUE, size = 5, label = \"p.signif\", show.legend = T)\n"
   ]
  },
  {
   "cell_type": "code",
   "execution_count": 76,
   "id": "f05d3137-fc9e-4c83-8288-145125deeb20",
   "metadata": {
    "execution": {
     "iopub.execute_input": "2024-02-06T10:59:37.368275Z",
     "iopub.status.busy": "2024-02-06T10:59:37.365281Z",
     "iopub.status.idle": "2024-02-06T10:59:37.410461Z",
     "shell.execute_reply": "2024-02-06T10:59:37.408968Z"
    }
   },
   "outputs": [],
   "source": [
    "# Calculate the correlation between clinical metrics and sequencing metrics\n",
    "correlation_data_frame <- study_metadata |>\n",
    "    filter(cohort == \"Hippos\" & tissue_type %in% c(\"NAT\", \"Tumor\") & visit_code == \"V01\") |>\n",
    "    filter(!is.na(HIV) & !is.na(CD4_count) & !is.na(KSHV_plasma)) |>\n",
    "    select(patient_id, repertoire_id, HIV, CD4_count, KSHV_plasma, phenotype) |> \n",
    "    inner_join(study_renyi_table, by = \"repertoire_id\") |>\n",
    "    dplyr::select(repertoire_id, HIV:`Inf`, -phenotype)\n",
    "corr_row_names <- correlation_data_frame |>\n",
    "    pull(repertoire_id)\n",
    "correlation_data_frame <- correlation_data_frame |>\n",
    "    select(-repertoire_id) |>\n",
    "    as.data.frame()\n",
    "rownames(correlation_data_frame) <- corr_row_names\n",
    "colnames(correlation_data_frame) <- c(\"HIV\\nVL\", \"CD4+\\ncount\", \"KSHV\\nPlasma\\nVL\", \"0\", \"0.25\", \"0.5\", \"1\", \"2\", \"4\", \"8\", \"16\", \"32\", \"64\", \"\\u221e\")\n",
    "correlation_matrix <- round(cor(correlation_data_frame), 1)"
   ]
  },
  {
   "cell_type": "code",
   "execution_count": 79,
   "id": "db3d2b41-b8a6-4966-9ce9-7987f1cfe821",
   "metadata": {
    "execution": {
     "iopub.execute_input": "2024-02-06T11:00:11.968708Z",
     "iopub.status.busy": "2024-02-06T11:00:11.965741Z",
     "iopub.status.idle": "2024-02-06T11:00:12.285422Z",
     "shell.execute_reply": "2024-02-06T11:00:12.283861Z"
    }
   },
   "outputs": [],
   "source": [
    "correlation_plot <- ggcorrplot(correlation_matrix,  outline.col = \"white\",  lab = TRUE) +\n",
    "  theme_classic() +\n",
    "  theme(axis.text = element_text(size = 12, face = \"bold\"), axis.title = element_blank(),\n",
    "    legend.key.size = unit(1, \"cm\"), text = element_text(family = \"NimbusSan\"))"
   ]
  },
  {
   "cell_type": "code",
   "execution_count": 80,
   "id": "f44b08ac-9d0b-425d-a0f0-35e8b3cd9ad2",
   "metadata": {
    "execution": {
     "iopub.execute_input": "2024-02-06T11:01:34.574220Z",
     "iopub.status.busy": "2024-02-06T11:01:34.570432Z",
     "iopub.status.idle": "2024-02-06T11:01:38.193595Z",
     "shell.execute_reply": "2024-02-06T11:01:38.191102Z"
    }
   },
   "outputs": [],
   "source": [
    "supp_figure_two_layout <- \"\n",
    "1122\n",
    "3333\n",
    "3333\"\n",
    "\n",
    "supplementary_figure_two <- kshv_titer_plot + \n",
    "  cd4_plot  + \n",
    "  correlation_plot +\n",
    "  plot_layout(design = supp_figure_two_layout) +\n",
    "  plot_annotation(tag_levels = 'A') & theme(text = element_text('NimbusSan'),\n",
    "    plot.tag = element_text(size = 36,face = \"bold\"))\n",
    "\n",
    "\n",
    "\n",
    "ggsave(str_c(figures_path, \"pdf\", \"Supplementary_figure_two.pdf\", sep = \"/\"), supplementary_figure_two, \n",
    "  limitsize = FALSE, width = 14, height = 15, device = cairo_pdf, family = \"Arial Unicode MS\")\n",
    "ggsave(str_c(figures_path, \"svg\", \"Supplementary_figure_two.pdf\", sep = \"/\"), supplementary_figure_two,\n",
    "  limitsize = FALSE, width = 14, height = 15, device = \"svg\")\n",
    "ggsave(str_c(figures_path, \"png\", \"Supplementary_figure_two.pdf\", sep = \"/\"), supplementary_figure_two,\n",
    "  limitsize = FALSE, width = 14, height = 15, device = \"png\")"
   ]
  },
  {
   "cell_type": "markdown",
   "id": "7a16a873-0c2e-4b4b-874d-390c2f56e90d",
   "metadata": {
    "execution": {
     "iopub.execute_input": "2024-02-06T11:03:35.327871Z",
     "iopub.status.busy": "2024-02-06T11:03:35.325199Z",
     "iopub.status.idle": "2024-02-06T11:03:35.340480Z",
     "shell.execute_reply": "2024-02-06T11:03:35.338807Z"
    }
   },
   "source": [
    "## Determining the correlation between response and sequencing metrics"
   ]
  },
  {
   "cell_type": "code",
   "execution_count": 87,
   "id": "075dbee7-d90c-4deb-b152-33511b290bbf",
   "metadata": {
    "execution": {
     "iopub.execute_input": "2024-02-06T11:10:39.180045Z",
     "iopub.status.busy": "2024-02-06T11:10:39.177340Z",
     "iopub.status.idle": "2024-02-06T11:10:39.232532Z",
     "shell.execute_reply": "2024-02-06T11:10:39.231159Z"
    }
   },
   "outputs": [
    {
     "data": {
      "text/html": [
       "<table class=\"dataframe\">\n",
       "<caption>A tibble: 4 × 2</caption>\n",
       "<thead>\n",
       "\t<tr><th scope=col>Renyi</th><th scope=col>Corr</th></tr>\n",
       "\t<tr><th scope=col>&lt;chr&gt;</th><th scope=col>&lt;dbl&gt;</th></tr>\n",
       "</thead>\n",
       "<tbody>\n",
       "\t<tr><td>0</td><td>0.1659725</td></tr>\n",
       "\t<tr><td>1</td><td>0.1301313</td></tr>\n",
       "\t<tr><td>⋮</td><td>⋮</td></tr>\n",
       "\t<tr><td>Inf</td><td>0.09401167</td></tr>\n",
       "</tbody>\n",
       "</table>\n"
      ],
      "text/latex": [
       "A tibble: 4 × 2\n",
       "\\begin{tabular}{ll}\n",
       " Renyi & Corr\\\\\n",
       " <chr> & <dbl>\\\\\n",
       "\\hline\n",
       "\t 0 & 0.1659725\\\\\n",
       "\t 1 & 0.1301313\\\\\n",
       "\t ⋮ & ⋮\\\\\n",
       "\t Inf & 0.09401167\\\\\n",
       "\\end{tabular}\n"
      ],
      "text/markdown": [
       "\n",
       "A tibble: 4 × 2\n",
       "\n",
       "| Renyi &lt;chr&gt; | Corr &lt;dbl&gt; |\n",
       "|---|---|\n",
       "| 0 | 0.1659725 |\n",
       "| 1 | 0.1301313 |\n",
       "| ⋮ | ⋮ |\n",
       "| Inf | 0.09401167 |\n",
       "\n"
      ],
      "text/plain": [
       "  Renyi Corr      \n",
       "1 0     0.1659725 \n",
       "2 1     0.1301313 \n",
       "⋮ ⋮     ⋮         \n",
       "4 Inf   0.09401167"
      ]
     },
     "metadata": {},
     "output_type": "display_data"
    }
   ],
   "source": [
    "clin_correlation_data_frame <- study_metadata |>\n",
    "    filter(cohort == \"Hippos\" & tissue_type %in% c(\"NAT\", \"Tumor\") & visit_code == \"V01\") |>\n",
    "    dplyr::select(patient_id, repertoire_id, phenotype, response) |> \n",
    "    inner_join(study_renyi_table, by = \"repertoire_id\") |>\n",
    "    filter(!is.na(response)) |>\n",
    "    mutate(response = if_else(response == \"CR\" | response == \"PR\", 1, 0)) \n",
    "# Endemic KS\n",
    "endemic_zero <- biserial.cor(clin_correlation_data_frame |> \n",
    "                             filter(phenotype == \"Endemic KS\") |> \n",
    "                             pull(`0`), \n",
    "                             clin_correlation_data_frame |> \n",
    "                             filter(phenotype == \"Endemic KS\") |> \n",
    "                             pull(response), \n",
    "                             use = c(\"all.obs\"), level = 2)\n",
    "endemic_one <- biserial.cor(clin_correlation_data_frame |> \n",
    "                            filter(phenotype == \"Endemic KS\") |> \n",
    "                            pull(`1`),\n",
    "                            clin_correlation_data_frame |>\n",
    "                            filter(phenotype == \"Endemic KS\") |> \n",
    "                            pull(response), \n",
    "                            use = c(\"all.obs\"), level = 2)\n",
    "endemic_two <- biserial.cor(clin_correlation_data_frame |> \n",
    "                            filter(phenotype == \"Endemic KS\") |> \n",
    "                            pull(`2`), \n",
    "                            clin_correlation_data_frame |> \n",
    "                            filter(phenotype == \"Endemic KS\") |> \n",
    "                            pull(response), \n",
    "                            use = c(\"all.obs\"), level = 2)\n",
    "endemic_inf <- biserial.cor(clin_correlation_data_frame |> \n",
    "                            filter(phenotype == \"Endemic KS\") |> \n",
    "                            pull(`Inf`), \n",
    "                            clin_correlation_data_frame |> \n",
    "                            filter(phenotype == \"Endemic KS\") |> \n",
    "                            pull(response), \n",
    "                            use = c(\"all.obs\"), level = 2)\n",
    "endemic_biserial_table <- tibble(Renyi = c(\"0\", \"1\", \"2\", \"Inf\"), Corr = c(endemic_zero, endemic_one, endemic_two, endemic_inf))\n",
    "endemic_biserial_table"
   ]
  },
  {
   "cell_type": "code",
   "execution_count": 95,
   "id": "61f24fd1-c43e-44b5-a906-a8f79231a4ce",
   "metadata": {
    "execution": {
     "iopub.execute_input": "2024-02-06T11:18:11.107097Z",
     "iopub.status.busy": "2024-02-06T11:18:11.104316Z",
     "iopub.status.idle": "2024-02-06T11:18:11.151371Z",
     "shell.execute_reply": "2024-02-06T11:18:11.150018Z"
    }
   },
   "outputs": [
    {
     "data": {
      "text/html": [
       "<table class=\"dataframe\">\n",
       "<caption>A tibble: 4 × 2</caption>\n",
       "<thead>\n",
       "\t<tr><th scope=col>Renyi</th><th scope=col>Corr</th></tr>\n",
       "\t<tr><th scope=col>&lt;chr&gt;</th><th scope=col>&lt;dbl&gt;</th></tr>\n",
       "</thead>\n",
       "<tbody>\n",
       "\t<tr><td>0</td><td>0.1637493</td></tr>\n",
       "\t<tr><td>1</td><td>0.1602944</td></tr>\n",
       "\t<tr><td>⋮</td><td>⋮</td></tr>\n",
       "\t<tr><td>Inf</td><td>0.1648721</td></tr>\n",
       "</tbody>\n",
       "</table>\n"
      ],
      "text/latex": [
       "A tibble: 4 × 2\n",
       "\\begin{tabular}{ll}\n",
       " Renyi & Corr\\\\\n",
       " <chr> & <dbl>\\\\\n",
       "\\hline\n",
       "\t 0 & 0.1637493\\\\\n",
       "\t 1 & 0.1602944\\\\\n",
       "\t ⋮ & ⋮\\\\\n",
       "\t Inf & 0.1648721\\\\\n",
       "\\end{tabular}\n"
      ],
      "text/markdown": [
       "\n",
       "A tibble: 4 × 2\n",
       "\n",
       "| Renyi &lt;chr&gt; | Corr &lt;dbl&gt; |\n",
       "|---|---|\n",
       "| 0 | 0.1637493 |\n",
       "| 1 | 0.1602944 |\n",
       "| ⋮ | ⋮ |\n",
       "| Inf | 0.1648721 |\n",
       "\n"
      ],
      "text/plain": [
       "  Renyi Corr     \n",
       "1 0     0.1637493\n",
       "2 1     0.1602944\n",
       "⋮ ⋮     ⋮        \n",
       "4 Inf   0.1648721"
      ]
     },
     "metadata": {},
     "output_type": "display_data"
    }
   ],
   "source": [
    "# epidemic KS\n",
    "epidemic_zero <- biserial.cor(clin_correlation_data_frame |> \n",
    "                             filter(phenotype == \"Epidemic KS\") |> \n",
    "                             pull(`0`), \n",
    "                             clin_correlation_data_frame |> \n",
    "                             filter(phenotype == \"Epidemic KS\") |> \n",
    "                             pull(response), \n",
    "                             use = c(\"all.obs\"), level = 2)\n",
    "epidemic_one <- biserial.cor(clin_correlation_data_frame |> \n",
    "                            filter(phenotype == \"Epidemic KS\") |> \n",
    "                            pull(`1`),\n",
    "                            clin_correlation_data_frame |>\n",
    "                            filter(phenotype == \"Epidemic KS\") |> \n",
    "                            pull(response), \n",
    "                            use = c(\"all.obs\"), level = 2)\n",
    "epidemic_two <- biserial.cor(clin_correlation_data_frame |> \n",
    "                            filter(phenotype == \"Epidemic KS\") |> \n",
    "                            pull(`2`), \n",
    "                            clin_correlation_data_frame |> \n",
    "                            filter(phenotype == \"Epidemic KS\") |> \n",
    "                            pull(response), \n",
    "                            use = c(\"all.obs\"), level = 2)\n",
    "epidemic_inf <- biserial.cor(clin_correlation_data_frame |> \n",
    "                            filter(phenotype == \"Epidemic KS\") |> \n",
    "                            pull(`Inf`), \n",
    "                            clin_correlation_data_frame |> \n",
    "                            filter(phenotype == \"Epidemic KS\") |> \n",
    "                            pull(response), \n",
    "                            use = c(\"all.obs\"), level = 2)\n",
    "epidemic_biserial_table <- tibble(Renyi = c(\"0\", \"1\", \"2\", \"Inf\"), Corr = c(epidemic_zero, epidemic_one, epidemic_two, epidemic_inf))\n",
    "epidemic_biserial_table"
   ]
  },
  {
   "cell_type": "code",
   "execution_count": 96,
   "id": "55ca65fd-4a5d-4369-bb64-a814d0ae5e0a",
   "metadata": {
    "execution": {
     "iopub.execute_input": "2024-02-06T11:19:46.596216Z",
     "iopub.status.busy": "2024-02-06T11:19:46.593413Z",
     "iopub.status.idle": "2024-02-06T11:19:46.634094Z",
     "shell.execute_reply": "2024-02-06T11:19:46.632646Z"
    }
   },
   "outputs": [
    {
     "data": {
      "text/html": [
       "<table class=\"dataframe\">\n",
       "<caption>A tibble: 4 × 2</caption>\n",
       "<thead>\n",
       "\t<tr><th scope=col>Renyi</th><th scope=col>Corr</th></tr>\n",
       "\t<tr><th scope=col>&lt;chr&gt;</th><th scope=col>&lt;dbl&gt;</th></tr>\n",
       "</thead>\n",
       "<tbody>\n",
       "\t<tr><td>0</td><td>0.2418664</td></tr>\n",
       "\t<tr><td>1</td><td>0.2298005</td></tr>\n",
       "\t<tr><td>⋮</td><td>⋮</td></tr>\n",
       "\t<tr><td>Inf</td><td>0.1804144</td></tr>\n",
       "</tbody>\n",
       "</table>\n"
      ],
      "text/latex": [
       "A tibble: 4 × 2\n",
       "\\begin{tabular}{ll}\n",
       " Renyi & Corr\\\\\n",
       " <chr> & <dbl>\\\\\n",
       "\\hline\n",
       "\t 0 & 0.2418664\\\\\n",
       "\t 1 & 0.2298005\\\\\n",
       "\t ⋮ & ⋮\\\\\n",
       "\t Inf & 0.1804144\\\\\n",
       "\\end{tabular}\n"
      ],
      "text/markdown": [
       "\n",
       "A tibble: 4 × 2\n",
       "\n",
       "| Renyi &lt;chr&gt; | Corr &lt;dbl&gt; |\n",
       "|---|---|\n",
       "| 0 | 0.2418664 |\n",
       "| 1 | 0.2298005 |\n",
       "| ⋮ | ⋮ |\n",
       "| Inf | 0.1804144 |\n",
       "\n"
      ],
      "text/plain": [
       "  Renyi Corr     \n",
       "1 0     0.2418664\n",
       "2 1     0.2298005\n",
       "⋮ ⋮     ⋮        \n",
       "4 Inf   0.1804144"
      ]
     },
     "metadata": {},
     "output_type": "display_data"
    }
   ],
   "source": [
    "# All KS\n",
    "all_zero <- biserial.cor(clin_correlation_data_frame |> \n",
    "                             pull(`0`), \n",
    "                             clin_correlation_data_frame |> \n",
    "                             pull(response), \n",
    "                             use = c(\"all.obs\"), level = 2)\n",
    "all_one <- biserial.cor(clin_correlation_data_frame |> \n",
    "                            pull(`1`),\n",
    "                            clin_correlation_data_frame |>\n",
    "                            pull(response), \n",
    "                            use = c(\"all.obs\"), level = 2)\n",
    "all_two <- biserial.cor(clin_correlation_data_frame |> \n",
    "                            pull(`2`), \n",
    "                            clin_correlation_data_frame |> \n",
    "                            pull(response), \n",
    "                            use = c(\"all.obs\"), level = 2)\n",
    "all_inf <- biserial.cor(clin_correlation_data_frame |> \n",
    "                            pull(`Inf`), \n",
    "                            clin_correlation_data_frame |> \n",
    "                            pull(response), \n",
    "                            use = c(\"all.obs\"), level = 2)\n",
    "all_biserial_table <- tibble(Renyi = c(\"0\", \"1\", \"2\", \"Inf\"), Corr = c(all_zero, all_one, all_two, all_inf))\n",
    "all_biserial_table"
   ]
  },
  {
   "cell_type": "markdown",
   "id": "b6864c04-80c5-4c8d-81c5-47d48f937f8e",
   "metadata": {},
   "source": [
    "# TIL repertoires of KS tumors are largely private to each individual"
   ]
  },
  {
   "cell_type": "markdown",
   "id": "f3e981aa-3464-466e-9d41-dae4238d97ed",
   "metadata": {
    "execution": {
     "iopub.execute_input": "2024-02-06T17:33:51.819737Z",
     "iopub.status.busy": "2024-02-06T17:33:51.816732Z",
     "iopub.status.idle": "2024-02-06T17:33:51.841138Z",
     "shell.execute_reply": "2024-02-06T17:33:51.839146Z"
    }
   },
   "source": [
    "First we will understand the sharing of individual TCR sequences across repertoires"
   ]
  },
  {
   "cell_type": "code",
   "execution_count": null,
   "id": "98abfe58-3f2f-46c6-9ea5-66fa1db49525",
   "metadata": {},
   "outputs": [],
   "source": [
    "# Create a dictionary of repertoires to repertoire filenames\n",
    "rep_dict <- study_metadata |>\n",
    "  filter(!is.na(trb_repertoire_id)) |>\n",
    "  pull(repertoire_id)\n",
    "names(rep_dict) <- study_metadata |>\n",
    "  filter(!is.na(trb_repertoire_id)) |>\n",
    "  pull(trb_repertoire_id)\n",
    "# Create a dictionary of patient IDs to phenotypes\n",
    "ptid_dict <- study_metadata |>\n",
    "  filter(!is.na(patient_id)) |>\n",
    "  pull(phenotype)\n",
    "names(ptid_dict) <- study_metadata |>\n",
    "  filter(!is.na(patient_id)) |>\n",
    "  pull(patient_id)\n",
    "ptid_dict[\"008_265\"] <- \"Epidemic KS\"\n",
    "# Load compairr results\n",
    "compairr_table <- read_tsv(compairr_results_path, show_col_types = FALSE) |>\n",
    "  dplyr::rename(rep_one = `#`) \n",
    "comp_names <- compairr_table |>\n",
    "  pull(rep_one)\n",
    "compairr_matrix <- compairr_table |>\n",
    "  dplyr::select(-rep_one) |>\n",
    "  as.matrix() \n",
    "rownames(compairr_matrix) <- comp_names\n",
    "# Create a lower triangle matrix and reformat it to a table for tidy manipulations\n",
    "compairr_matrix[lower.tri(compairr_matrix, diag = FALSE)] <- NA \n",
    "compairr_table <- compairr_matrix |>\n",
    "  as_tibble(rownames = \"rep_one\") |>\n",
    "  pivot_longer(-rep_one, names_to = \"rep_two\", values_to = \"overlap\") |>\n",
    "  filter(str_detect(rep_one, \"008_\\\\d+\") & str_detect(rep_two, \"008_\\\\d+\") & \n",
    "    !is.na(overlap) & \n",
    "    str_extract(rep_one, \"[A-Z]+$\") %in% c(\"A\",\"B\", \"C\", \"D\") &\n",
    "    str_extract(rep_two, \"[A-Z]+$\") %in% c(\"A\",\"B\", \"C\", \"D\")) |>\n",
    "  mutate(rep_one = rep_dict[rep_one], rep_two = rep_dict[rep_two],\n",
    "    sample_group = if_else(str_extract(rep_one, \"008_\\\\d+\") ==\n",
    "      str_extract(rep_two, \"008_\\\\d+\"), \"Intra-subject\", \"Inter-subject\"),\n",
    "    tumor_group = case_when(\n",
    "      str_extract(rep_one, \"[A-Z]+$\") == \"A\" &\n",
    "        str_extract(rep_two, \"[A-Z]+$\") == \"A\" ~ \"NAT - NAT\",\n",
    "      str_extract(rep_one, \"[A-Z]+$\") == \"A\" &\n",
    "        str_extract(rep_two, \"[A-Z]+$\") %in% c(\"B\", \"C\", \"D\") ~ \"NAT - Tumor\",\n",
    "      str_extract(rep_two, \"[A-Z]+$\") == \"A\" &\n",
    "        str_extract(rep_one, \"[A-Z]+$\") %in% c(\"B\", \"C\", \"D\") ~ \"NAT - Tumor\",\n",
    "      str_extract(rep_two, \"[A-Z]+$\") %in% c(\"B\", \"C\", \"D\") &\n",
    "        str_extract(rep_one, \"[A-Z]+$\") %in% c(\"B\", \"C\", \"D\") ~ \"Tumor - Tumor\"),\n",
    "    ks_group = str_c(ptid_dict[str_extract(rep_one, \"008_\\\\d+\")],\n",
    "      ptid_dict[str_extract(rep_two, \"008_\\\\d+\")], sep = \" - \"),\n",
    "    ks_group = str_replace(ks_group, \"Epidemic KS - Endemic KS\",\n",
    "      \"Endemic KS - Epidemic KS\")) |>\n",
    "  filter(!(sample_group == \"Inter-subject\" & tumor_group == \"NAT - Tumor\") &\n",
    "    !(rep_one == rep_two))\n",
    "# Generate data table for 4 representative samples used in the alluvial plots\n",
    "alluvial_data <- study_annotated_nprod_table |>\n",
    "  filter(patient_id %in% c(\"008_057\", \"008_061\", \"008_021\", \"008_048\") & \n",
    "    visit_code == \"V01\") |>\n",
    "  productiveSeq()\n"
   ]
  },
  {
   "cell_type": "markdown",
   "id": "dc19f171-4138-4776-9fda-909d2d37bd93",
   "metadata": {},
   "source": [
    "## Annotate TCRs with known anitgenic specifcity as determined by comparison with VDJdb and McPAS-TCR DB"
   ]
  },
  {
   "cell_type": "code",
   "execution_count": 110,
   "id": "19013c4c-cb60-493e-9a25-efa3bef5fa68",
   "metadata": {},
   "outputs": [],
   "source": [
    "antigen_db <- read_tsv(antigen_db_path, show_col_types = FALSE)"
   ]
  },
  {
   "cell_type": "code",
   "execution_count": 112,
   "id": "de470f50-6553-4c73-84ca-4d83cd092c03",
   "metadata": {
    "execution": {
     "iopub.execute_input": "2024-02-06T20:20:31.987451Z",
     "iopub.status.busy": "2024-02-06T20:20:31.984522Z",
     "iopub.status.idle": "2024-02-06T20:20:34.207222Z",
     "shell.execute_reply": "2024-02-06T20:20:34.205665Z"
    }
   },
   "outputs": [],
   "source": [
    "# Match all TCRs from the study AIRR-Seq data to sequences listed in the public databases accounting for HLA type of the individuals showing the TCR\n",
    "hla_matched_tcr <- annotated_nprod_table |>\n",
    "    mutate(visit_code = if_else(is.na(visit_code), \"V01\", visit_code)) |>\n",
    "    filter(cohort %in% c(\"Hippos\") & visit_code == \"V01\" &\n",
    "        tissue_type %in% c(\"NAT\", \"Tumor\")) |>\n",
    "    inner_join(antigen_db, by = c(\"junction_aa\" = \"trb_cdr3_aa\"), \n",
    "        relationship = \"many-to-many\") |>\n",
    "    dplyr::select(patient_id, repertoire_id, junction, junction_aa, epitope, pathology,\n",
    "        antigen, mhc_allele, aAllele1:DRB345allele2) |> \n",
    "    pivot_longer(cols = aAllele1:DRB345allele2, names_to = \"allele\",\n",
    "        values_to = \"mhc_value\") |> \n",
    "    mutate(mhc_allele = str_remove(mhc_allele, \"HLA-\"),\n",
    "        hla_matched = if_else(mhc_allele == mhc_value |\n",
    "            mhc_allele == str_extract(mhc_value, \"\\\\w+\\\\*\\\\d+:\\\\d+\") |\n",
    "            mhc_allele == str_extract(mhc_value, \"\\\\w+\\\\*\\\\d+\"), TRUE, FALSE)) |>\n",
    "    filter(hla_matched) |> \n",
    "    dplyr::select(patient_id:junction_aa, epitope:antigen) |>\n",
    "    distinct() |> \n",
    "    group_by(patient_id, repertoire_id, junction, junction_aa) |>\n",
    "    summarise(npath = length(unique(pathology)),\n",
    "        pathology = str_c(unique(pathology), collapse = \";\")) |>\n",
    "    ungroup() |>\n",
    "    mutate(pathology = if_else(npath > 1, \"Multi-pathogen\", pathology)) |>\n",
    "    dplyr::select(patient_id, repertoire_id, junction, junction_aa, pathology) |>\n",
    "    distinct() |>\n",
    "    mutate(pathology = recode(pathology, \n",
    "        `HomoSapiens` = \"Other\", \"Homo sapiens\" = \"Other\", \n",
    "        \"SelaginellaMoellendorffii\" = \"Other\", \"TriticumAestivum\" = \"Other\", \n",
    "        \"synthetic\" = \"Other\"))"
   ]
  },
  {
   "cell_type": "code",
   "execution_count": 113,
   "id": "104d3145-cbcd-4369-b751-8f8930afe7f1",
   "metadata": {
    "execution": {
     "iopub.execute_input": "2024-02-06T20:20:47.044667Z",
     "iopub.status.busy": "2024-02-06T20:20:47.041682Z",
     "iopub.status.idle": "2024-02-06T20:20:50.334218Z",
     "shell.execute_reply": "2024-02-06T20:20:50.332749Z"
    }
   },
   "outputs": [
    {
     "data": {
      "text/html": [
       "<table class=\"dataframe\">\n",
       "<caption>A tibble: 856 × 6</caption>\n",
       "<thead>\n",
       "\t<tr><th scope=col>cohort</th><th scope=col>repertoire_id</th><th scope=col>pathology</th><th scope=col>phenotype</th><th scope=col>tissue_type</th><th scope=col>frequency</th></tr>\n",
       "\t<tr><th scope=col>&lt;chr&gt;</th><th scope=col>&lt;chr&gt;</th><th scope=col>&lt;chr&gt;</th><th scope=col>&lt;chr&gt;</th><th scope=col>&lt;chr&gt;</th><th scope=col>&lt;dbl&gt;</th></tr>\n",
       "</thead>\n",
       "<tbody>\n",
       "\t<tr><td>Epidemic KS - NAT  </td><td>008_001_A</td><td>Unknown</td><td>Epidemic KS</td><td>NAT  </td><td>1</td></tr>\n",
       "\t<tr><td>Epidemic KS - Tumor</td><td>008_001_B</td><td>Unknown</td><td>Epidemic KS</td><td>Tumor</td><td>1</td></tr>\n",
       "\t<tr><td>⋮</td><td>⋮</td><td>⋮</td><td>⋮</td><td>⋮</td><td>⋮</td></tr>\n",
       "\t<tr><td>Epidemic KS - Tumor</td><td>008_265_D</td><td>Unknown</td><td>Epidemic KS</td><td>Tumor</td><td>0.9972152</td></tr>\n",
       "</tbody>\n",
       "</table>\n"
      ],
      "text/latex": [
       "A tibble: 856 × 6\n",
       "\\begin{tabular}{llllll}\n",
       " cohort & repertoire\\_id & pathology & phenotype & tissue\\_type & frequency\\\\\n",
       " <chr> & <chr> & <chr> & <chr> & <chr> & <dbl>\\\\\n",
       "\\hline\n",
       "\t Epidemic KS - NAT   & 008\\_001\\_A & Unknown & Epidemic KS & NAT   & 1\\\\\n",
       "\t Epidemic KS - Tumor & 008\\_001\\_B & Unknown & Epidemic KS & Tumor & 1\\\\\n",
       "\t ⋮ & ⋮ & ⋮ & ⋮ & ⋮ & ⋮\\\\\n",
       "\t Epidemic KS - Tumor & 008\\_265\\_D & Unknown & Epidemic KS & Tumor & 0.9972152\\\\\n",
       "\\end{tabular}\n"
      ],
      "text/markdown": [
       "\n",
       "A tibble: 856 × 6\n",
       "\n",
       "| cohort &lt;chr&gt; | repertoire_id &lt;chr&gt; | pathology &lt;chr&gt; | phenotype &lt;chr&gt; | tissue_type &lt;chr&gt; | frequency &lt;dbl&gt; |\n",
       "|---|---|---|---|---|---|\n",
       "| Epidemic KS - NAT   | 008_001_A | Unknown | Epidemic KS | NAT   | 1 |\n",
       "| Epidemic KS - Tumor | 008_001_B | Unknown | Epidemic KS | Tumor | 1 |\n",
       "| ⋮ | ⋮ | ⋮ | ⋮ | ⋮ | ⋮ |\n",
       "| Epidemic KS - Tumor | 008_265_D | Unknown | Epidemic KS | Tumor | 0.9972152 |\n",
       "\n"
      ],
      "text/plain": [
       "    cohort              repertoire_id pathology phenotype   tissue_type\n",
       "1   Epidemic KS - NAT   008_001_A     Unknown   Epidemic KS NAT        \n",
       "2   Epidemic KS - Tumor 008_001_B     Unknown   Epidemic KS Tumor      \n",
       "⋮   ⋮                   ⋮             ⋮         ⋮           ⋮          \n",
       "856 Epidemic KS - Tumor 008_265_D     Unknown   Epidemic KS Tumor      \n",
       "    frequency\n",
       "1   1        \n",
       "2   1        \n",
       "⋮   ⋮        \n",
       "856 0.9972152"
      ]
     },
     "metadata": {},
     "output_type": "display_data"
    }
   ],
   "source": [
    "path_annotated_nprod_table <- annotated_nprod_table |> \n",
    "    mutate(visit_code = if_else(is.na(visit_code), \"V01\", visit_code)) |>\n",
    "    filter(cohort %in% c(\"Hippos\") & visit_code == \"V01\" &\n",
    "        tissue_type %in% c(\"NAT\", \"Tumor\")) |>\n",
    "    left_join(hla_matched_tcr, by = c(\"patient_id\", \"repertoire_id\", \"junction\",\n",
    "        \"junction_aa\")) |>\n",
    "    dplyr::select(cohort, patient_id, repertoire_id, tissue_type, phenotype, pathology, junction_aa, duplicate_frequency) |>\n",
    "    mutate(pathology = str_replace_na(pathology, \"Unknown\"),\n",
    "        phenotype = if_else(cohort == \"ARKS\", \"ARKS\", phenotype)) |>\n",
    "    group_by(cohort, repertoire_id, pathology, phenotype, tissue_type) |>\n",
    "    summarize(frequency = sum(duplicate_frequency)) |>\n",
    "    ungroup() |>\n",
    "    mutate(cohort = if_else(cohort == \"Hippos\", \n",
    "            str_c(phenotype, tissue_type, sep = \" - \"), \"ARKS\")) "
   ]
  },
  {
   "cell_type": "markdown",
   "id": "8d6237c9-ca16-442b-b3d5-49cdbc8829a5",
   "metadata": {},
   "source": [
    "## Format GLIPH results and annotate with antigenic specificity"
   ]
  },
  {
   "cell_type": "code",
   "execution_count": 116,
   "id": "b2ddc6c2-2e40-421d-b27e-6e6c3383d863",
   "metadata": {
    "execution": {
     "iopub.execute_input": "2024-02-06T20:36:25.377795Z",
     "iopub.status.busy": "2024-02-06T20:36:25.374794Z",
     "iopub.status.idle": "2024-02-06T20:36:34.828834Z",
     "shell.execute_reply": "2024-02-06T20:36:34.826570Z"
    }
   },
   "outputs": [],
   "source": [
    "kstme_gliph_cluster_pred_table <- read_csv(kstme_gliph_clusters_path,\n",
    "        show_col_types = FALSE) \n",
    "kstme_gliph_hla_pred_table <- read_csv(kstme_gliph_hlapred_path, \n",
    "    show_col_types = FALSE)"
   ]
  },
  {
   "cell_type": "code",
   "execution_count": 117,
   "id": "c93af999-c278-45e4-9037-a9e020d9bead",
   "metadata": {
    "execution": {
     "iopub.execute_input": "2024-02-06T20:36:50.102922Z",
     "iopub.status.busy": "2024-02-06T20:36:50.099911Z",
     "iopub.status.idle": "2024-02-06T20:37:32.403847Z",
     "shell.execute_reply": "2024-02-06T20:37:32.402198Z"
    }
   },
   "outputs": [],
   "source": [
    "# Filter out high confidence GLIPH groups with a pattern length of >2 where, \n",
    "# the pattern has at 3 unique CDR3s associated with it, at least 3 PTIDs \n",
    "# associated with it and with a vb_score <= 0.01\n",
    "kstme_hc_gliph_cluster_table <- kstme_gliph_cluster_pred_table |>\n",
    "  dplyr::select(pattern, vb_score, hla_score, expansion_score, TcRb, Sample, V, J,\n",
    "    Freq) |>\n",
    "  separate(Sample, into = c(\"repertoire_id\", \"cohort\"), sep = \":\") |>\n",
    "  mutate(patient_id = str_extract(repertoire_id, \"008_\\\\d+\")) |>\n",
    "  group_by(pattern) |>\n",
    "  mutate(number_of_unique_cdr = length(unique(TcRb)),\n",
    "    number_of_unique_ptid = length(unique(patient_id))) |>\n",
    "  ungroup() |>\n",
    "  filter(vb_score <= 0.01 & number_of_unique_cdr >= 3 &\n",
    "    number_of_unique_ptid >= 3 & pattern != \"single\" & nchar(pattern) > 2)"
   ]
  },
  {
   "cell_type": "code",
   "execution_count": 118,
   "id": "201ae449-ad42-4676-8dee-09aea241a4b5",
   "metadata": {
    "execution": {
     "iopub.execute_input": "2024-02-06T20:37:32.406651Z",
     "iopub.status.busy": "2024-02-06T20:37:32.405724Z",
     "iopub.status.idle": "2024-02-06T20:37:33.029755Z",
     "shell.execute_reply": "2024-02-06T20:37:33.028401Z"
    }
   },
   "outputs": [],
   "source": [
    "# Filter out HLA predictions for high confidence GLIPH groups identified in the\n",
    "# previous step\n",
    "kstme_hc_gliph_hla_table <- kstme_gliph_hla_pred_table |>\n",
    "  dplyr::rename(sig_allele = `'HLA allele with lowest Fisher Score'`) |>\n",
    "  mutate(pattern = str_remove(pattern, \"^[lg]\")) |>\n",
    "  filter(pattern %in% kstme_hc_gliph_cluster_table$pattern & Pvalue <= 0.05) |>\n",
    "  dplyr::select(pattern, sig_allele, Pvalue)"
   ]
  },
  {
   "cell_type": "code",
   "execution_count": 119,
   "id": "f59ce0a2-66dd-44ee-9030-21ef5a994f4b",
   "metadata": {
    "execution": {
     "iopub.execute_input": "2024-02-06T20:37:44.585560Z",
     "iopub.status.busy": "2024-02-06T20:37:44.582909Z",
     "iopub.status.idle": "2024-02-06T20:37:44.979743Z",
     "shell.execute_reply": "2024-02-06T20:37:44.978385Z"
    }
   },
   "outputs": [],
   "source": [
    "# Merge GLIPH clusters with significant HLA association\n",
    "kstme_high_confidence_gliph_groups <- kstme_hc_gliph_cluster_table |>\n",
    "  left_join(kstme_hc_gliph_hla_table, by = \"pattern\",\n",
    "    relationship = \"many-to-many\") "
   ]
  },
  {
   "cell_type": "code",
   "execution_count": 121,
   "id": "34fe90ab-63c9-4e90-942c-85aff339f14e",
   "metadata": {
    "execution": {
     "iopub.execute_input": "2024-02-06T20:38:15.796804Z",
     "iopub.status.busy": "2024-02-06T20:38:15.794189Z",
     "iopub.status.idle": "2024-02-06T20:38:16.269538Z",
     "shell.execute_reply": "2024-02-06T20:38:16.268186Z"
    }
   },
   "outputs": [],
   "source": [
    "# Annotate GLIPH groups with antigenic specificity based on the CDR3 sequences\n",
    "# they contain\n",
    "path_annotated_gliph_clusters <- hla_matched_tcr |>\n",
    "  distinct() |>\n",
    "  inner_join(kstme_high_confidence_gliph_groups, by = c(\"repertoire_id\", \"junction_aa\" = \"TcRb\"),\n",
    "    relationship = \"many-to-many\") |>\n",
    "  dplyr::select(repertoire_id, pathology, pattern) |>\n",
    "  distinct()"
   ]
  },
  {
   "cell_type": "code",
   "execution_count": 122,
   "id": "01897bd4-f610-4ac9-a3b6-84ddb116da32",
   "metadata": {
    "execution": {
     "iopub.execute_input": "2024-02-06T20:38:36.081428Z",
     "iopub.status.busy": "2024-02-06T20:38:36.078453Z",
     "iopub.status.idle": "2024-02-06T20:38:45.530414Z",
     "shell.execute_reply": "2024-02-06T20:38:45.529039Z"
    }
   },
   "outputs": [],
   "source": [
    " kstme_ck_gliph_table <- kstme_high_confidence_gliph_groups |>\n",
    "  dplyr::select(repertoire_id, pattern, TcRb, V, J) |>\n",
    "  left_join(path_annotated_gliph_clusters, by = c(\"repertoire_id\", \"pattern\"), relationship = \"many-to-many\") |>\n",
    "  distinct() |>\n",
    "  filter(is.na(pathology)) |>\n",
    "  mutate(pathology = if_else(is.na(pathology), \"Clustered\\nUnknown\", pathology)) |>\n",
    "  group_by(TcRb, V, J) |>\n",
    "  mutate(npath = length(unique(pathology)),\n",
    "    pathology = str_c(unique(pathology), collapse =\";\")) |>\n",
    "  ungroup() |>\n",
    "  mutate(pathology = if_else(npath > 1, \"Multi-pathogen\", pathology)) "
   ]
  },
  {
   "cell_type": "code",
   "execution_count": 123,
   "id": "5d773c94-7b63-4eaf-913e-d489bc5cded1",
   "metadata": {
    "execution": {
     "iopub.execute_input": "2024-02-06T20:39:00.080325Z",
     "iopub.status.busy": "2024-02-06T20:39:00.077677Z",
     "iopub.status.idle": "2024-02-06T20:39:09.067293Z",
     "shell.execute_reply": "2024-02-06T20:39:09.065937Z"
    }
   },
   "outputs": [],
   "source": [
    "# Annotate GLIPH groups by antigenic specificity of CDR3s grouped within\n",
    "kstme_path_annotated_gliph_groups <- kstme_high_confidence_gliph_groups |>\n",
    "  dplyr::select(repertoire_id, pattern, TcRb, V, J) |>\n",
    "  left_join(path_annotated_gliph_clusters, by = c(\"repertoire_id\", \"pattern\"), relationship = \"many-to-many\") |>\n",
    "  distinct() |>\n",
    "  mutate(pathology = if_else(is.na(pathology), \"Clustered\\nUnknown\", pathology)) |>\n",
    "  group_by(TcRb, V, J) |>\n",
    "  mutate(npath = length(unique(pathology)),\n",
    "    pathology = str_c(unique(pathology), collapse =\";\")) |>\n",
    "  ungroup() |>\n",
    "  mutate(pathology = if_else(npath > 1, \"Multi-pathogen\", pathology)) "
   ]
  },
  {
   "cell_type": "code",
   "execution_count": 124,
   "id": "fcf2f787-ec0b-42ef-b8ea-90974a4dca75",
   "metadata": {
    "execution": {
     "iopub.execute_input": "2024-02-06T20:40:25.694933Z",
     "iopub.status.busy": "2024-02-06T20:40:25.692310Z",
     "iopub.status.idle": "2024-02-06T20:41:11.013785Z",
     "shell.execute_reply": "2024-02-06T20:41:11.012176Z"
    }
   },
   "outputs": [],
   "source": [
    "# Annotate GLIPH groups as \"Multi-pathogen\" when they contain TCRs mapped to different antigens\n",
    "kstme_gliph_nprod_table <- annotated_nprod_table |>\n",
    "    mutate(visit_code = if_else(is.na(visit_code), \"V01\", visit_code)) |>\n",
    "    filter(cohort %in% c(\"Hippos\") & visit_code == \"V01\" &\n",
    "        tissue_type %in% c(\"NAT\", \"Tumor\")) |>\n",
    "    left_join(kstme_path_annotated_gliph_groups, by = c(\"repertoire_id\", \n",
    "        \"junction_aa\" = \"TcRb\", \"v_call\" = \"V\",\n",
    "        \"j_call\" = \"J\"), relationship = \"many-to-many\") |>\n",
    "    distinct() |>\n",
    "    dplyr::select(cohort, patient_id, repertoire_id, tissue_type, phenotype, pathology, junction_aa, v_call, j_call, duplicate_frequency) |>\n",
    "    mutate(pathology = if_else(is.na(pathology), \"Unclustered\\nUnknown\", pathology),\n",
    "        phenotype = if_else(is.na(phenotype) , \"Epidemic KS\", phenotype)) |>\n",
    "    group_by(junction_aa, v_call, j_call ) |>\n",
    "    mutate(npath = length(unique(pathology)),\n",
    "        pathology = str_c(unique(pathology), collapse =\";\")) |>\n",
    "    ungroup() |>\n",
    "    mutate(pathology = if_else(npath > 1, \"Multi-pathogen\", pathology)) |>\n",
    "    distinct()"
   ]
  },
  {
   "cell_type": "code",
   "execution_count": 129,
   "id": "d12b0134-3869-4838-8092-8e25efea24ab",
   "metadata": {
    "execution": {
     "iopub.execute_input": "2024-02-06T20:46:53.593624Z",
     "iopub.status.busy": "2024-02-06T20:46:53.590933Z",
     "iopub.status.idle": "2024-02-06T20:47:43.662441Z",
     "shell.execute_reply": "2024-02-06T20:47:43.660708Z"
    }
   },
   "outputs": [],
   "source": [
    "# Generate GLIPH pattern associated with each TCR annotated with antigen groups. (Note: very similar to the previous block, we just keep the pattern information)\n",
    "kstme_gliph_tpack_table <- annotated_nprod_table |>\n",
    "    mutate(visit_code = if_else(is.na(visit_code), \"V01\", visit_code)) |>\n",
    "    filter(cohort %in% c(\"Hippos\") & visit_code == \"V01\" &\n",
    "        tissue_type %in% c(\"NAT\", \"Tumor\")) |>\n",
    "    left_join(kstme_path_annotated_gliph_groups, by = c(\"repertoire_id\", \n",
    "        \"junction_aa\" = \"TcRb\", \"v_call\" = \"V\",\n",
    "        \"j_call\" = \"J\"), relationship = \"many-to-many\") |>\n",
    "    distinct() |>\n",
    "    dplyr::select(cohort, patient_id, repertoire_id, tissue_type, phenotype, pathology, \n",
    "        junction_aa, v_call, j_call, duplicate_count, duplicate_frequency, pattern) |>\n",
    "    mutate(pathology = if_else(is.na(pathology), \"Unclustered\\nUnknown\", pathology),\n",
    "        phenotype = if_else(is.na(phenotype) , \"Epidemic KS\", phenotype)) |>\n",
    "    group_by(junction_aa, v_call, j_call ) |>\n",
    "    mutate(npath = length(unique(pathology)),\n",
    "        pathology = str_c(unique(pathology), collapse =\";\")) |>\n",
    "    ungroup() |>\n",
    "    mutate(pathology = if_else(npath > 1, \"Multi-pathogen\", pathology)) |>\n",
    "    distinct()"
   ]
  },
  {
   "cell_type": "code",
   "execution_count": 130,
   "id": "9a5b27f5-f256-4731-8156-2f1a841016e2",
   "metadata": {
    "execution": {
     "iopub.execute_input": "2024-02-06T20:47:43.665567Z",
     "iopub.status.busy": "2024-02-06T20:47:43.664513Z",
     "iopub.status.idle": "2024-02-06T20:47:43.746717Z",
     "shell.execute_reply": "2024-02-06T20:47:43.745262Z"
    }
   },
   "outputs": [],
   "source": [
    "# Summarize sequence label table to pathogen level table\n",
    "path_annotated_gliph_nprod_table <- kstme_gliph_nprod_table |>\n",
    "    group_by(cohort, repertoire_id, pathology, phenotype, tissue_type) |>\n",
    "    summarize(frequency = sum(duplicate_frequency)) |>\n",
    "    ungroup() "
   ]
  },
  {
   "cell_type": "code",
   "execution_count": 131,
   "id": "0d0fe531-46f7-4b1a-929f-4e2842beae80",
   "metadata": {
    "execution": {
     "iopub.execute_input": "2024-02-06T20:47:43.749755Z",
     "iopub.status.busy": "2024-02-06T20:47:43.748716Z",
     "iopub.status.idle": "2024-02-06T20:47:43.840547Z",
     "shell.execute_reply": "2024-02-06T20:47:43.839030Z"
    }
   },
   "outputs": [],
   "source": [
    "# Extract just the \"clustered unknown\" subgroup\n",
    "kstme_clustered_unknown_table <- kstme_gliph_tpack_table |>\n",
    "    filter(pathology == \"Clustered\\nUnknown\")"
   ]
  },
  {
   "cell_type": "code",
   "execution_count": 133,
   "id": "c8fdab90-b376-41a8-87b6-b58e5aa81b13",
   "metadata": {
    "execution": {
     "iopub.execute_input": "2024-02-06T20:48:19.112280Z",
     "iopub.status.busy": "2024-02-06T20:48:19.109482Z",
     "iopub.status.idle": "2024-02-06T20:48:19.189064Z",
     "shell.execute_reply": "2024-02-06T20:48:19.187351Z"
    }
   },
   "outputs": [],
   "source": [
    "# Extract a table of GLIPH pattern from each repertoire\n",
    "kstme_gliph_pattern_table <- kstme_clustered_unknown_table |>\n",
    "    dplyr::select(repertoire_id, pattern) |>\n",
    "    filter(!is.na(repertoire_id) & !is.na(pattern)) |>\n",
    "    distinct()"
   ]
  },
  {
   "cell_type": "markdown",
   "id": "4e69592d-ecbb-4eab-8fa6-07033eaac2b0",
   "metadata": {},
   "source": [
    "## Summarizing GLIPH mapping of sequences"
   ]
  },
  {
   "cell_type": "code",
   "execution_count": 134,
   "id": "4ae17480-5993-48c7-9acf-e26dc87e2061",
   "metadata": {
    "execution": {
     "iopub.execute_input": "2024-02-06T20:50:26.292167Z",
     "iopub.status.busy": "2024-02-06T20:50:26.289407Z",
     "iopub.status.idle": "2024-02-06T20:50:30.032647Z",
     "shell.execute_reply": "2024-02-06T20:50:30.031229Z"
    }
   },
   "outputs": [
    {
     "data": {
      "text/html": [
       "'Number of specificity groups shared by at least two tumors derieved from spatially distinct sites from the same individual : 26509'"
      ],
      "text/latex": [
       "'Number of specificity groups shared by at least two tumors derieved from spatially distinct sites from the same individual : 26509'"
      ],
      "text/markdown": [
       "'Number of specificity groups shared by at least two tumors derieved from spatially distinct sites from the same individual : 26509'"
      ],
      "text/plain": [
       "[1] \"Number of specificity groups shared by at least two tumors derieved from spatially distinct sites from the same individual : 26509\""
      ]
     },
     "metadata": {},
     "output_type": "display_data"
    }
   ],
   "source": [
    "intra_tumor_sharing_count <- kstme_clustered_unknown_table |>\n",
    "    filter(!str_detect(repertoire_id, \"008_\\\\d+_A\")) |>\n",
    "    group_by(pattern, patient_id) |>\n",
    "    summarise(nreps = length(unique(repertoire_id))) |>\n",
    "    filter(nreps > 1) |>\n",
    "    pull(pattern) |>\n",
    "    unique() |>\n",
    "    length()\n",
    "str_c(\"Number of specificity groups shared by at least two tumors derieved from spatially distinct sites from the same individual\", intra_tumor_sharing_count, sep = \" : \")"
   ]
  },
  {
   "cell_type": "code",
   "execution_count": 135,
   "id": "10755b9d-b6ad-4b02-9b70-b2f5a6ffe697",
   "metadata": {
    "execution": {
     "iopub.execute_input": "2024-02-06T20:50:30.035680Z",
     "iopub.status.busy": "2024-02-06T20:50:30.034604Z",
     "iopub.status.idle": "2024-02-06T20:50:30.534311Z",
     "shell.execute_reply": "2024-02-06T20:50:30.532906Z"
    }
   },
   "outputs": [
    {
     "data": {
      "text/html": [
       "'Number of specificity groups shared by at least two tumors derieved from spatially distinct sites from the different individuals : 42747'"
      ],
      "text/latex": [
       "'Number of specificity groups shared by at least two tumors derieved from spatially distinct sites from the different individuals : 42747'"
      ],
      "text/markdown": [
       "'Number of specificity groups shared by at least two tumors derieved from spatially distinct sites from the different individuals : 42747'"
      ],
      "text/plain": [
       "[1] \"Number of specificity groups shared by at least two tumors derieved from spatially distinct sites from the different individuals : 42747\""
      ]
     },
     "metadata": {},
     "output_type": "display_data"
    }
   ],
   "source": [
    "inter_tumor_sharing_count <- kstme_clustered_unknown_table |>\n",
    "    filter(!str_detect(repertoire_id, \"008_\\\\d+_A\")) |>\n",
    "    group_by(pattern) |>\n",
    "    summarise(nptids = length(unique(patient_id))) |>\n",
    "    filter(nptids > 1) |>\n",
    "    pull(pattern) |>\n",
    "    unique() |>\n",
    "    length()\n",
    "str_c(\"Number of specificity groups shared by at least two tumors derieved from spatially distinct sites from the different individuals\", inter_tumor_sharing_count, sep = \" : \")"
   ]
  },
  {
   "cell_type": "code",
   "execution_count": 136,
   "id": "249d384d-d7a6-4641-814b-0dcf9c9e110f",
   "metadata": {
    "execution": {
     "iopub.execute_input": "2024-02-06T20:50:30.537416Z",
     "iopub.status.busy": "2024-02-06T20:50:30.536325Z",
     "iopub.status.idle": "2024-02-06T20:50:31.409442Z",
     "shell.execute_reply": "2024-02-06T20:50:31.408103Z"
    }
   },
   "outputs": [
    {
     "data": {
      "text/html": [
       "<table class=\"dataframe\">\n",
       "<caption>A tibble: 2 × 2</caption>\n",
       "<thead>\n",
       "\t<tr><th scope=col>phenotype</th><th scope=col>ngliphs</th></tr>\n",
       "\t<tr><th scope=col>&lt;chr&gt;</th><th scope=col>&lt;int&gt;</th></tr>\n",
       "</thead>\n",
       "<tbody>\n",
       "\t<tr><td>Endemic KS </td><td>26735</td></tr>\n",
       "\t<tr><td>Epidemic KS</td><td>33469</td></tr>\n",
       "</tbody>\n",
       "</table>\n"
      ],
      "text/latex": [
       "A tibble: 2 × 2\n",
       "\\begin{tabular}{ll}\n",
       " phenotype & ngliphs\\\\\n",
       " <chr> & <int>\\\\\n",
       "\\hline\n",
       "\t Endemic KS  & 26735\\\\\n",
       "\t Epidemic KS & 33469\\\\\n",
       "\\end{tabular}\n"
      ],
      "text/markdown": [
       "\n",
       "A tibble: 2 × 2\n",
       "\n",
       "| phenotype &lt;chr&gt; | ngliphs &lt;int&gt; |\n",
       "|---|---|\n",
       "| Endemic KS  | 26735 |\n",
       "| Epidemic KS | 33469 |\n",
       "\n"
      ],
      "text/plain": [
       "  phenotype   ngliphs\n",
       "1 Endemic KS  26735  \n",
       "2 Epidemic KS 33469  "
      ]
     },
     "metadata": {},
     "output_type": "display_data"
    }
   ],
   "source": [
    "inter_by_cond_tumor_sharing_count <- kstme_clustered_unknown_table |>\n",
    "    filter(!str_detect(repertoire_id, \"008_\\\\d+_A\")) |>\n",
    "    group_by(pattern,phenotype) |>\n",
    "    summarise(nptids = length(unique(patient_id))) |>\n",
    "    filter(nptids > 1) |>\n",
    "    ungroup() |>\n",
    "    group_by(phenotype) |>\n",
    "    summarize(ngliphs = length(unique(pattern)))\n",
    "inter_by_cond_tumor_sharing_count "
   ]
  },
  {
   "cell_type": "code",
   "execution_count": 137,
   "id": "1bf9bb59-f1c6-49c7-9ebe-a5eff23d7a17",
   "metadata": {
    "execution": {
     "iopub.execute_input": "2024-02-06T20:50:31.412517Z",
     "iopub.status.busy": "2024-02-06T20:50:31.411424Z",
     "iopub.status.idle": "2024-02-06T20:50:31.827888Z",
     "shell.execute_reply": "2024-02-06T20:50:31.826500Z"
    }
   },
   "outputs": [
    {
     "data": {
      "text/html": [
       "'Number of specificity groups shared by at least two tumors derieved from spatially distinct sites from the epidemic and endemic individuals : 35731'"
      ],
      "text/latex": [
       "'Number of specificity groups shared by at least two tumors derieved from spatially distinct sites from the epidemic and endemic individuals : 35731'"
      ],
      "text/markdown": [
       "'Number of specificity groups shared by at least two tumors derieved from spatially distinct sites from the epidemic and endemic individuals : 35731'"
      ],
      "text/plain": [
       "[1] \"Number of specificity groups shared by at least two tumors derieved from spatially distinct sites from the epidemic and endemic individuals : 35731\""
      ]
     },
     "metadata": {},
     "output_type": "display_data"
    }
   ],
   "source": [
    "inter_cond_tumor_sharing_count <- kstme_clustered_unknown_table |>\n",
    "    filter(!str_detect(repertoire_id, \"008_\\\\d+_A\")) |>\n",
    "    group_by(pattern) |>\n",
    "    summarise(nptids = length(unique(phenotype))) |>\n",
    "    filter(nptids > 1) |>\n",
    "    pull(pattern) |>\n",
    "    unique() |>\n",
    "    length()\n",
    "str_c(\"Number of specificity groups shared by at least two tumors derieved from spatially distinct sites from the epidemic and endemic individuals\", inter_cond_tumor_sharing_count, sep = \" : \")"
   ]
  },
  {
   "cell_type": "markdown",
   "id": "f1cbadb9-0415-4ba4-8158-cef7591b41e1",
   "metadata": {},
   "source": [
    "## Calculate Jaccard index between repertoires based on sharing of GLIPH group"
   ]
  },
  {
   "cell_type": "code",
   "execution_count": 139,
   "id": "4fc25c35-42d6-4fef-a967-921c505d3cfa",
   "metadata": {
    "execution": {
     "iopub.execute_input": "2024-02-06T20:52:50.781637Z",
     "iopub.status.busy": "2024-02-06T20:52:50.778949Z",
     "iopub.status.idle": "2024-02-06T20:52:51.572406Z",
     "shell.execute_reply": "2024-02-06T20:52:51.570828Z"
    }
   },
   "outputs": [],
   "source": [
    "kstme_gliph_dist_table <- kstme_gliph_pattern_table |>\n",
    "    group_by(repertoire_id) |>\n",
    "    summarize(gliph_groups = list(unique(pattern))) |>\n",
    "    mutate(gliph_groups = map(gliph_groups, ~sort(as.character(.)))) |>\n",
    "    ungroup()"
   ]
  },
  {
   "cell_type": "code",
   "execution_count": 140,
   "id": "07ca627c-b970-4513-b0de-5516139d2d4a",
   "metadata": {
    "execution": {
     "iopub.execute_input": "2024-02-06T20:52:52.695996Z",
     "iopub.status.busy": "2024-02-06T20:52:52.693277Z",
     "iopub.status.idle": "2024-02-06T20:53:35.018826Z",
     "shell.execute_reply": "2024-02-06T20:53:35.017085Z"
    }
   },
   "outputs": [
    {
     "name": "stderr",
     "output_type": "stream",
     "text": [
      "\u001b[1m\u001b[22mNew names:\n",
      "\u001b[36m•\u001b[39m `repertoire_id` -> `repertoire_id...1`\n",
      "\u001b[36m•\u001b[39m `gliph_groups` -> `gliph_groups...2`\n",
      "\u001b[36m•\u001b[39m `repertoire_id` -> `repertoire_id...3`\n",
      "\u001b[36m•\u001b[39m `gliph_groups` -> `gliph_groups...4`\n"
     ]
    }
   ],
   "source": [
    "kstme_gliph_dist_tibble <- expand_grid(kstme_gliph_dist_table, \n",
    "    kstme_gliph_dist_table, .name_repair = \"unique\") |>\n",
    "  dplyr::rename(rep_one = repertoire_id...1,\n",
    "    glist_one = gliph_groups...2,\n",
    "    rep_two = repertoire_id...3,\n",
    "    glist_two = gliph_groups...4) |>\n",
    "  rowwise() |>\n",
    "  mutate(jaccard = length(intersect(glist_one, glist_two))/length(union(glist_one, glist_two)))  |>\n",
    "  dplyr::select(rep_one, rep_two, jaccard) |>\n",
    "  filter(str_detect(rep_one, \"008_\\\\d+\") & str_detect(rep_two, \"008_\\\\d+\") & \n",
    "    !is.na(jaccard) & \n",
    "    str_extract(rep_one, \"[A-Z]+$\") %in% c(\"A\",\"B\", \"C\", \"D\") &\n",
    "    str_extract(rep_two, \"[A-Z]+$\") %in% c(\"A\",\"B\", \"C\", \"D\")) |>\n",
    "  ungroup() |> \n",
    "  mutate(sample_group = if_else(str_extract(rep_one, \"008_\\\\d+\") ==\n",
    "      str_extract(rep_two, \"008_\\\\d+\"), \"Intra-sample\", \"Inter-sample\"),\n",
    "    tumor_group = case_when(\n",
    "      str_extract(rep_one, \"[A-Z]+$\") == \"A\" &\n",
    "        str_extract(rep_two, \"[A-Z]+$\") == \"A\" ~ \"NAT - NAT\",\n",
    "      str_extract(rep_one, \"[A-Z]+$\") == \"A\" &\n",
    "        str_extract(rep_two, \"[A-Z]+$\") %in% c(\"B\", \"C\", \"D\") ~ \"NAT - Tumor\",\n",
    "      str_extract(rep_two, \"[A-Z]+$\") == \"A\" &\n",
    "        str_extract(rep_one, \"[A-Z]+$\") %in% c(\"B\", \"C\", \"D\") ~ \"NAT - Tumor\",\n",
    "      str_extract(rep_two, \"[A-Z]+$\") %in% c(\"B\", \"C\", \"D\") &\n",
    "        str_extract(rep_one, \"[A-Z]+$\") %in% c(\"B\", \"C\", \"D\") ~ \"Tumor - Tumor\"),\n",
    "    ks_group = str_c(ptid_dict[str_extract(rep_one, \"008_\\\\d+\")],\n",
    "      ptid_dict[str_extract(rep_two, \"008_\\\\d+\")], sep = \" - \"),\n",
    "    ks_group = str_replace(ks_group, \"Epidemic KS - Endemic KS\",\n",
    "      \"Endemic KS - Epidemic KS\")) |>\n",
    "  filter(!(sample_group == \"Inter-sample\" & tumor_group == \"NAT - Tumor\") &\n",
    "    !(rep_one == rep_two))"
   ]
  },
  {
   "attachments": {},
   "cell_type": "markdown",
   "id": "b4a29677-e562-4321-b0f2-c90ea434619d",
   "metadata": {
    "jp-MarkdownHeadingCollapsed": true
   },
   "source": [
    "## Figure 4: T-cell repertoires in epidemic and endemic KS tumors are idiosyncratic and contain few TCRs specific for viral/self-antigens but share T-cells clusters with predicted specificity for uncharacterized antigen groups."
   ]
  },
  {
   "cell_type": "code",
   "execution_count": 143,
   "id": "f2a9a745-961b-4c69-91e9-c6c5b18e26f5",
   "metadata": {},
   "outputs": [
    {
     "name": "stderr",
     "output_type": "stream",
     "text": [
      "Warning message in wilcox.test.default(c(0.1583104587, 0.162004413, 0.1557680306, :\n",
      "“cannot compute exact p-value with ties”\n",
      "Warning message:\n",
      "“\u001b[1m\u001b[22mComputation failed in `stat_signif()`\n",
      "Caused by error in `if (scales$x$map(comp[1]) == data$group[1] | manual) ...`:\n",
      "\u001b[33m!\u001b[39m missing value where TRUE/FALSE needed”\n",
      "Warning message in wilcox.test.default(c(0.1583104587, 0.162004413, 0.1557680306, :\n",
      "“cannot compute exact p-value with ties”\n",
      "Warning message:\n",
      "“\u001b[1m\u001b[22mComputation failed in `stat_signif()`\n",
      "Caused by error in `if (scales$x$map(comp[1]) == data$group[1] | manual) ...`:\n",
      "\u001b[33m!\u001b[39m missing value where TRUE/FALSE needed”\n",
      "Warning message in wilcox.test.default(c(0.1583104587, 0.162004413, 0.1557680306, :\n",
      "“cannot compute exact p-value with ties”\n",
      "Warning message:\n",
      "“\u001b[1m\u001b[22mComputation failed in `stat_signif()`\n",
      "Caused by error in `if (scales$x$map(comp[1]) == data$group[1] | manual) ...`:\n",
      "\u001b[33m!\u001b[39m missing value where TRUE/FALSE needed”\n"
     ]
    }
   ],
   "source": [
    "### Overlapping TCRs section\n",
    "endemic_pal <- alluvial_data |>\n",
    "  filter(str_detect(repertoire_id,  \"008_057|008_061\")) |>\n",
    "  topSeqs(top = 500) |>\n",
    "  cloneTrack() |> \n",
    "  group_by(junction_aa) |>\n",
    "  summarize(reps = str_c(unique(str_extract(repertoire_id, \"[ABCD]$\")), collapse= \"\"),\n",
    "    samples = length(unique(str_extract(repertoire_id, \"\\\\d+_\\\\d+\"))),\n",
    "    seen = max(seen)) |>\n",
    "  mutate(pal = case_when(seen == 1 ~ \"#f0f0f0\",\n",
    "    samples > 1 & reps != \"A\" ~ \"#e7298a\",\n",
    "    samples > 1 & reps == \"A\" ~ \"#1b9e77\",\n",
    "    samples == 1 & seen > 1 & str_detect(reps, \"A\") & \n",
    "      str_detect(reps, \"B|C|D\") ~ \"#d95f02\",\n",
    "    samples == 1 & seen > 1 & !str_detect(reps, \"A\") ~ \"#7570b3\"))\n",
    "endemic_alluvial <- alluvial_data |>\n",
    "  filter(str_detect(repertoire_id, \"008_057|008_061\")) |>\n",
    "  topSeqs(top = 500) |>\n",
    "  cloneTrack() |>\n",
    "  plotTrack(alist = endemic_pal$junction_aa, apal = endemic_pal$pal) +\n",
    "  scale_x_discrete(limits = c(\"008_061_A\", \"008_061_B\", \"008_061_C\", \"008_061_D\",\n",
    "    \"008_057_D\", \"008_057_C\", \"008_057_B\", \"008_057_A\"),\n",
    "    labels = c(\"NAT\", \"Tumor B\", \"Tumor C\", \"Tumor D\", \"Tumor D\", \"Tumor C\",\n",
    "      \"Tumor B\", \"NAT\")) +\n",
    "  annotate(\"text\", label = \"Endemic KS\\nStudy Entry\", y = 0.95, size = 12, x = 2.5) +\n",
    "  annotate(\"text\", label = \"Endemic KS\\nStudy Entry\", y = 0.95, size = 12, x = 6.5) +\n",
    "  geom_vline(xintercept = 4.5, linetype=\"dotted\") + \n",
    "  ylim(0,1) +\n",
    "  theme_classic(base_size = 30) +\n",
    "  theme(legend.position = \"none\")\n",
    "\n",
    "\n",
    "epidemic_pal <- alluvial_data |>\n",
    "  filter(str_detect(repertoire_id, \"008_021|008_048\")) |>\n",
    "  topSeqs(top = 500) |>\n",
    "  cloneTrack() |> \n",
    "  group_by(junction_aa) |>\n",
    "  summarize(reps = str_c(unique(str_extract(repertoire_id, \"[ABCD]$\")), collapse= \"\"),\n",
    "    samples = length(unique(str_extract(repertoire_id, \"\\\\d+_\\\\d+\"))),\n",
    "    seen = max(seen)) |>\n",
    "  mutate(pal = case_when(seen == 1 ~ \"#f0f0f0\",\n",
    "    samples > 1 & reps != \"A\" ~ \"#e7298a\",\n",
    "    samples > 1 & reps == \"A\" ~ \"#1b9e77\",\n",
    "    samples == 1 & seen > 1 & str_detect(reps, \"A\") & \n",
    "      str_detect(reps, \"B|C|D\") ~ \"#d95f02\",\n",
    "    samples == 1 & seen > 1 & !str_detect(reps, \"A\") ~ \"#7570b3\"))\n",
    "\n",
    "epidemic_alluvial <- alluvial_data |>\n",
    "  filter(str_detect(repertoire_id, \"008_021|008_048\")) |>\n",
    "  topSeqs(top = 500) |>\n",
    "  cloneTrack() |>\n",
    "  plotTrack(alist = epidemic_pal$junction_aa, apal = epidemic_pal$pal) +\n",
    "  scale_x_discrete(limits = c(\"008_021_A\", \"008_021_B\", \"008_021_C\", \"008_021_D\",\n",
    "    \"008_048_D\", \"008_048_C\", \"008_048_B\", \"008_048_A\"),\n",
    "    labels = c(\"NAT\", \"Tumor B\", \"Tumor C\", \"Tumor D\", \"Tumor D\", \"Tumor C\",\n",
    "      \"Tumor B\", \"NAT\")) +\n",
    "  geom_vline(xintercept = 4.5, linetype=\"dotted\") + \n",
    "  annotate(\"text\", label = \"Epidemic KS\\nStudy Entry\", y = 0.95, size = 12, x = 2.5) +\n",
    "  annotate(\"text\", label = \"Epidemic KS\\nStudy Entry\", y = 0.95, size = 12, x = 6.5) +\n",
    "  ylim(0,1) +\n",
    "  theme_classic(base_size = 30) +\n",
    "  theme(legend.position = \"none\")\n",
    "\n",
    "endepi_pal <- alluvial_data |>\n",
    "  filter(str_detect(repertoire_id,  \"008_021|008_057\")) |>\n",
    "  topSeqs(top = 500) |>\n",
    "  cloneTrack() |> \n",
    "  group_by(junction_aa) |>\n",
    "  summarize(reps = str_c(unique(str_extract(repertoire_id, \"[ABCD]$\")), collapse= \"\"),\n",
    "    samples = length(unique(str_extract(repertoire_id, \"\\\\d+_\\\\d+\"))),\n",
    "    seen = max(seen)) |>\n",
    "  mutate(pal = case_when(seen == 1 ~ \"#f0f0f0\",\n",
    "    samples > 1 & reps != \"A\" ~ \"#e7298a\",\n",
    "    samples > 1 & reps == \"A\" ~ \"#1b9e77\",\n",
    "    samples == 1 & seen > 1 & str_detect(reps, \"A\") & \n",
    "      str_detect(reps, \"B|C|D\") ~ \"#d95f02\",\n",
    "    samples == 1 & seen > 1 & !str_detect(reps, \"A\") ~ \"#7570b3\"))\n",
    "endepi_alluvial <- alluvial_data |>\n",
    "  filter(str_detect(repertoire_id, \"008_021|008_057\")) |>\n",
    "  topSeqs(top = 500) |>\n",
    "  cloneTrack() |>\n",
    "  plotTrack(alist = endepi_pal$junction_aa, apal = endepi_pal$pal) +\n",
    "  scale_x_discrete(limits = c(\"008_021_A\", \"008_021_B\", \"008_021_C\", \"008_021_D\",\n",
    "    \"008_057_D\", \"008_057_C\", \"008_057_B\", \"008_057_A\"),\n",
    "    labels = c(\"NAT\", \"Tumor B\", \"Tumor C\", \"Tumor D\", \"Tumor D\", \"Tumor C\",\n",
    "      \"Tumor B\", \"NAT\")) +\n",
    "  geom_vline(xintercept = 4.5, linetype=\"dotted\") + \n",
    "  annotate(\"text\", label = \"Epidemic KS\\nStudy Entry\", y = 0.95, size = 12, x = 2.5) +\n",
    "  annotate(\"text\", label = \"Endemic KS\\nStudy Entry\", y = 0.95, size = 12, x = 6.5) +\n",
    "  ylim(0,1) +\n",
    "  theme_classic(base_size = 30) +\n",
    "  theme(legend.position = \"none\")\n",
    "\n",
    "endemic_compairr <- compairr_table |>\n",
    "  mutate(color_group = str_c(sample_group, tumor_group, sep = \"\\n\"),\n",
    "    overlap = if_else(overlap > 1, 1, overlap)) |>\n",
    "  filter(ks_group == \"Endemic KS - Endemic KS\") |>\n",
    "  ggboxplot(x = \"color_group\", y = \"overlap\", fill = \"color_group\",\n",
    "    order = c(\"Inter-subject\\nNAT - NAT\", \"Intra-subject\\nNAT - Tumor\",\n",
    "      \"Intra-subject\\nTumor - Tumor\", \"Inter-subject\\nTumor - Tumor\")) |>\n",
    "  ggpar(xlab = FALSE, ylab = \"Morisita-Horn index\", \n",
    "    ggtheme = theme_classic(base_size = 30), legend = \"none\",\n",
    "    legend.title = \"Group\", palette = c(\"Inter-subject\\nNAT - NAT\" = \"#1b9e77\", \n",
    "      \"Intra-subject\\nNAT - Tumor\" = \"#d95f02\",\n",
    "      \"Intra-subject\\nTumor - Tumor\" = \"#7570b3\", \n",
    "      \"Inter-subject\\nTumor - Tumor\" = \"#e7298a\")) +\n",
    "  stat_compare_means(comparisons = list(c(\"Intra-subject\\nNAT - Tumor\",\n",
    "      \"Intra-subject\\nTumor - Tumor\")), size = 6,  label = \"p.signif\") +\n",
    "  scale_y_continuous(expand = expansion(mult = c(0.05, 0.25)))\n",
    "\n",
    "epidemic_compairr <- compairr_table |>\n",
    "  mutate(color_group = str_c(sample_group, tumor_group, sep = \"\\n\"),\n",
    "    overlap = if_else(overlap > 1, 1, overlap)) |>\n",
    "  filter(ks_group == \"Epidemic KS - Epidemic KS\") |>\n",
    "  ggboxplot(x = \"color_group\", y = \"overlap\", fill = \"color_group\",\n",
    "    order = c(\"Inter-subject\\nNAT - NAT\", \"Intra-subject\\nNAT - Tumor\",\n",
    "      \"Intra-subject\\nTumor - Tumor\", \"Inter-subject\\nTumor - Tumor\")) |>\n",
    "  ggpar(xlab = FALSE, ylab = \"Morisita-Horn index\", \n",
    "    ggtheme = theme_classic(base_size = 30), legend = \"right\",\n",
    "    legend.title = \"Group\", palette = c(\"Inter-subject\\nNAT - NAT\" = \"#1b9e77\", \n",
    "      \"Intra-subject\\nNAT - Tumor\" = \"#d95f02\",\n",
    "      \"Intra-subject\\nTumor - Tumor\" = \"#7570b3\", \n",
    "      \"Inter-subject\\nTumor - Tumor\" = \"#e7298a\")) +\n",
    "  stat_compare_means(comparisons = list(c(\"Intra-subject\\nNAT - Tumor\",\n",
    "      \"Intra-subject\\nTumor - Tumor\")), size = 6,  label = \"p.signif\") +\n",
    "  scale_y_continuous(expand = expansion(mult = c(0.05, 0.25)))\n",
    "\n",
    "endemic_epidemic_compairr <- compairr_table |>\n",
    "  mutate(color_group = str_c(sample_group, tumor_group, sep = \"\\n\"),\n",
    "    overlap = if_else(overlap > 1, 1, overlap)) |>\n",
    "  filter(ks_group == \"Endemic KS - Epidemic KS\") |>\n",
    "  ggboxplot(x = \"color_group\", y = \"overlap\", fill = \"color_group\",\n",
    "    order = c(\"Inter-subject\\nNAT - NAT\", \"Inter-subject\\nTumor - Tumor\")) |>\n",
    "  ggpar(xlab = FALSE, ylab = \"Morisita-Horn index\", ylim = c(0,1),\n",
    "    ggtheme = theme_classic(base_size = 30),\n",
    "    legend = \"none\", palette = c(\"Inter-subject\\nNAT - NAT\" = \"#1b9e77\", \n",
    "      \"Intra-subject\\nNAT - Tumor\" = \"#d95f02\",\n",
    "      \"Intra-subject\\nTumor - Tumor\" = \"#7570b3\", \n",
    "      \"Inter-subject\\nTumor - Tumor\" = \"#e7298a\"), size = 6, label = \"p.signif\")\n",
    "### Public TCRs section\n",
    "public_tcrs_plot <- path_annotated_nprod_table |>\n",
    "  mutate(frequency = frequency * 100) |>\n",
    "  filter(cohort != \"ARKS\") |>\n",
    "  ggboxplot(x = \"pathology\", y = \"frequency\", color = \"cohort\", \n",
    "    add = \"jitter\", order = c(\"CMV\", \"DENV1\", \"DENV3/4\", \"EBV\", \"HCV\", \"HIV-1\",\n",
    "       \"HSV-2\",\n",
    "      \"InfluenzaA\", \"M.tuberculosis\", \"SARS-CoV-2\", \"Other\", \"Multi-pathogen\",\n",
    "      \"Unknown\")) |>\n",
    "  ggpar(xlab = FALSE, ylab = \"Cummulative frequency\", \n",
    "    legend.title = \"Cohort\", \n",
    "    format.scale = T, legend = \"right\",\n",
    "    ggtheme = theme_classic(base_size = 30),\n",
    "    palette = c(\"Epidemic KS - NAT\" = \"#fb8072\", \n",
    "  \"Epidemic KS - Tumor\" = \"#e41a1c\", \"Endemic KS - NAT\" = \"#80b1d3\",\n",
    "  \"Endemic KS - Tumor\" = \"#377eb8\")) +\n",
    "  geom_hline(yintercept = 1, linetype = 2) + \n",
    "  geom_hline(yintercept = 25, linetype = 2) + \n",
    "  geom_hline(yintercept = 75, linetype = 2) + \n",
    "  geom_hline(yintercept = 90, linetype = 2) + \n",
    "  scale_y_log10(breaks = scales::trans_breaks(\"log10\", function(x) 10^x),\n",
    "    labels = scales::trans_format(\"log10\", scales::math_format(10^.x))) +\n",
    "  annotation_logticks(sides = \"l\", short = unit(2,\"mm\"),\n",
    "    mid = unit(4,\"mm\"),long = unit(8,\"mm\"), size = 1) +\n",
    "  theme_classic(base_size = 30) +\n",
    "  theme(axis.text = element_text(face = \"bold\"),\n",
    "    axis.title.x = element_blank())\n",
    "\n",
    "public_gliph_plot <- path_annotated_gliph_nprod_table |>\n",
    "  mutate(frequency = frequency * 100) |>\n",
    "  ggboxplot(x = \"pathology\", y = \"frequency\", color = \"cohort\", \n",
    "    add = \"jitter\", order = c(\"CMV\", \"EBV\", \"HCV\", \"HIV-1\",\n",
    "       \"HSV-2\", \"InfluenzaA\", \"M.tuberculosis\", \"SARS-CoV-2\", \"Other\", \n",
    "       \"Multi-pathogen\",   \"Clustered\\nUnknown\", \"Unclustered\\nUnknown\")) |>\n",
    "  ggpar(xlab = FALSE, ylab = \"Cummulative frequency\", \n",
    "    legend.title = \"Cohort\", \n",
    "    format.scale = T, legend = \"right\",\n",
    "    ggtheme = theme_classic(base_size = 30),\n",
    "    palette = c(\"Epidemic KS - NAT\" = \"#fb8072\", \n",
    "  \"Epidemic KS - Tumor\" = \"#e41a1c\", \"Endemic KS - NAT\" = \"#80b1d3\",\n",
    "  \"Endemic KS - Tumor\" = \"#377eb8\")) +\n",
    "  geom_hline(yintercept = 1, linetype = 2) +\n",
    "  geom_hline(yintercept = 25, linetype = 2) +\n",
    "  geom_hline(yintercept = 75, linetype = 2) +  \n",
    "  geom_hline(yintercept = 90, linetype = 2) +  \n",
    "  scale_y_log10(breaks = scales::trans_breaks(\"log10\", function(x) 10^x),\n",
    "    labels = scales::trans_format(\"log10\", scales::math_format(10^.x))) +\n",
    "  annotation_logticks(sides = \"l\", short = unit(2,\"mm\"),\n",
    "    mid = unit(4,\"mm\"),long = unit(8,\"mm\"), size = 1) + \n",
    "  theme_classic(base_size = 30) +\n",
    "  theme(axis.text = element_text(face = \"bold\"),\n",
    "    axis.title.x = element_blank())\n",
    "\n",
    "### Overlapping clustered unknown section\n",
    "endemic_gliph_compairr <- kstme_gliph_dist_tibble |>\n",
    "  mutate(color_group = str_c(str_replace(sample_group, \"sample\", \"subject\"), tumor_group, sep = \"\\n\"),\n",
    "    jaccard = if_else(jaccard > 1, 1, jaccard)) |>\n",
    "  filter(ks_group == \"Endemic KS - Endemic KS\") |>\n",
    "  ggboxplot(x = \"color_group\", y = \"jaccard\", fill = \"color_group\",\n",
    "    order = c(\"Inter-subject\\nNAT - NAT\", \"Intra-subject\\nNAT - Tumor\",\n",
    "      \"Intra-subject\\nTumor - Tumor\", \"Inter-subject\\nTumor - Tumor\")) |>\n",
    "  ggpar(xlab = FALSE, ylab = \"Jaccard index\",  #title = \"Endemic KS - Endemic KS\",\n",
    "    ggtheme = theme_classic(base_size = 30), legend = \"none\",\n",
    "    legend.title = \"Group\", palette = c(\"Inter-subject\\nNAT - NAT\" = \"#1b9e77\", \n",
    "      \"Intra-subject\\nNAT - Tumor\" = \"#d95f02\",\n",
    "      \"Intra-subject\\nTumor - Tumor\" = \"#7570b3\", \n",
    "      \"Inter-subject\\nTumor - Tumor\" = \"#e7298a\"),\n",
    "    ylim = c(0,1)) +  stat_compare_means(comparisons = list(c(\"Intra-subject\\nNAT - Tumor\",\n",
    "      \"Intra-subject\\nTumor - Tumor\")), size = 6)\n",
    "\n",
    "epidemic_gliph_compairr <- kstme_gliph_dist_tibble |>\n",
    "  mutate(color_group = str_c(str_replace(sample_group, \"sample\", \"subject\"), tumor_group, sep = \"\\n\"),\n",
    "    jaccard = if_else(jaccard > 1, 1, jaccard)) |>\n",
    "  filter(ks_group == \"Epidemic KS - Epidemic KS\") |>\n",
    "  ggboxplot(x = \"color_group\", y = \"jaccard\", fill = \"color_group\",\n",
    "    order = c(\"Inter-subject\\nNAT - NAT\", \"Intra-subject\\nNAT - Tumor\",\n",
    "      \"Intra-subject\\nTumor - Tumor\", \"Inter-subject\\nTumor - Tumor\")) |>\n",
    "  ggpar(xlab = FALSE, ylab = \"Jaccard index\",  #title = \"Epidemic KS - Epidemic KS\",\n",
    "    ggtheme = theme_classic(base_size = 30), legend = \"right\",\n",
    "    legend.title = \"Group\", palette = c(\"Inter-subject\\nNAT - NAT\" = \"#1b9e77\", \n",
    "      \"Intra-subject\\nNAT - Tumor\" = \"#d95f02\",\n",
    "      \"Intra-subject\\nTumor - Tumor\" = \"#7570b3\", \n",
    "      \"Inter-subject\\nTumor - Tumor\" = \"#e7298a\"),\n",
    "    ylim = c(0,1)) +\n",
    "  stat_compare_means(comparisons = list(c(\"Intra-subject\\nNAT - Tumor\",\n",
    "      \"Intra-subject\\nTumor - Tumor\")), size = 6) \n",
    "\n",
    "endemic_epidemic_gliph_compairr <- kstme_gliph_dist_tibble |>\n",
    "  mutate(color_group = str_c(str_replace(sample_group, \"sample\", \"subject\"), tumor_group, sep = \"\\n\"),\n",
    "    jaccard = if_else(jaccard > 1, 1, jaccard)) |>\n",
    "  filter(ks_group == \"Endemic KS - Epidemic KS\") |>\n",
    "  ggboxplot(x = \"color_group\", y = \"jaccard\", fill = \"color_group\",\n",
    "    order = c(\"Inter-subject\\nNAT - NAT\", \"Inter-subject\\nTumor - Tumor\")) |>\n",
    "  ggpar(xlab = FALSE, ylab = \"Jaccard index\", ylim = c(0,1),\n",
    "    ggtheme = theme_classic(base_size = 30), #title = \"Endemic KS - Epidemic KS\",\n",
    "    legend = \"none\", palette = c(\"Inter-sample\\nNAT - NAT\" = \"#1b9e77\", \n",
    "      \"Intra-subject\\nNAT - Tumor\" = \"#d95f02\",\n",
    "      \"Intra-subject\\nTumor - Tumor\" = \"#7570b3\", \n",
    "      \"Inter-subject\\nTumor - Tumor\" = \"#e7298a\")) +\n",
    "  stat_compare_means(comparisons = list(c(\"Intet-subject\\nNAT - NAT\",\n",
    "      \"Intra-subject\\nTumor - Tumor\")), size = 6) \n",
    "\n",
    "\n",
    "figure_four_layout <- \"\n",
    "AAAABBBBCCCC\n",
    "AAAABBBBCCCC\n",
    "AAAABBBBCCCC\n",
    "DDDDEEEEFFFF\n",
    "DDDDEEEEFFFF\n",
    "GGGGGGGGGGGG\n",
    "GGGGGGGGGGGG\n",
    "HHHHHHHHHHHH\n",
    "HHHHHHHHHHHH\n",
    "IIIIJJJJKKKK\n",
    "IIIIJJJJKKKK\n",
    "\"\n",
    "\n",
    "figure_four <- endemic_alluvial + \n",
    "  epidemic_alluvial + \n",
    "  endepi_alluvial +\n",
    "  endemic_compairr +\n",
    "  epidemic_compairr +\n",
    "  endemic_epidemic_compairr + \n",
    "  public_tcrs_plot + \n",
    "  public_gliph_plot +\n",
    "  endemic_gliph_compairr +\n",
    "  epidemic_gliph_compairr +\n",
    "  endemic_epidemic_gliph_compairr + \n",
    "  plot_layout(design = figure_four_layout, guides = \"collect\") +\n",
    "  plot_annotation(tag_levels = \"A\") &\n",
    "  theme(plot.tag = element_text(size = 42,face = \"bold\"))\n",
    "\n",
    "ggsave(str_c(figures_path, \"pdf\", \"Figure_four.pdf\", sep = \"/\"), figure_four, \n",
    "  width = 48, height = 42, device = cairo_pdf, family = \"Arial Unicode MS\")\n",
    "ggsave(str_c(figures_path, \"svg\", \"Figure_four.svg\", sep = \"/\"), figure_four, \n",
    "  width = 48, height = 42)\n",
    "ggsave(str_c(figures_path, \"png\", \"Figure_four.png\", sep = \"/\"), figure_four, \n",
    "  width = 48, height = 42)\n"
   ]
  },
  {
   "attachments": {},
   "cell_type": "markdown",
   "id": "ad5c3df6-b63a-496a-9afb-b7c906e71798",
   "metadata": {},
   "source": [
    "## Supplementary Figure 3: Frequency of T-cells in GLIPH2-defined clusters with unknown antigenic specificity in tumors and NAT samples from individuals with epidemic and endemic KS."
   ]
  },
  {
   "cell_type": "code",
   "execution_count": 144,
   "id": "5d1a1901-047d-433e-ac2e-5afad8ed6a40",
   "metadata": {},
   "outputs": [],
   "source": [
    "supplementary_figure_three <- kstme_clustered_unknown_table |>\n",
    "    mutate(duplicate_frequency = duplicate_frequency * 100,\n",
    "        group = if_else(str_detect(repertoire_id, \"008_\\\\d+\"), \n",
    "          str_c(phenotype, tissue_type, sep = \" - \"), phenotype),\n",
    "        group = factor(group, levels = c(\"Epidemic KS - NAT\", \n",
    "          \"Epidemic KS - Tumor\", \"Endemic KS - NAT\",\n",
    "          \"Endemic KS - Tumor\", \"BL- Ghana\", \"BL - Uganda\"))) |>\n",
    "    ggboxplot(x = \"group\", y = \"duplicate_frequency\", color = \"group\") |>\n",
    "    ggpar(xlab = FALSE, ylab = \"Cummulative frequency\", \n",
    "    legend.title = \"Cohort\", \n",
    "    format.scale = T, legend = \"right\",\n",
    "    ggtheme = theme_classic(base_size = 32),\n",
    "    palette = c(\"Epidemic KS - NAT\" = \"#fb8072\", \n",
    "  \"Epidemic KS - Tumor\" = \"#e41a1c\", \"Endemic KS - NAT\" = \"#80b1d3\",\n",
    "  \"Endemic KS - Tumor\" = \"#377eb8\")) +\n",
    "  geom_hline(yintercept = 1, linetype = 2) +\n",
    "  geom_hline(yintercept = 10, linetype = 2) +\n",
    "  geom_hline(yintercept = 75, linetype = 2) +  \n",
    "  scale_y_log10(breaks = scales::trans_breaks(\"log10\", function(x) 10^x),\n",
    "    labels = scales::trans_format(\"log10\", scales::math_format(10^.x))) +\n",
    "  annotation_logticks(sides = \"l\", short = unit(2,\"mm\"),\n",
    "    mid = unit(4,\"mm\"),long = unit(8,\"mm\"), size = 1) +\n",
    "  theme(axis.text =  element_text(face = \"bold\"))\n",
    "ggsave(str_c(figures_path, \"pdf\", \"Supplementary_figure_three.pdf\", sep = \"/\"), supplementary_figure_three, \n",
    "  width = 24, height = 10)\n",
    "ggsave(str_c(figures_path, \"svg\", \"Supplementary_figure_three.svg\", sep = \"/\"), supplementary_figure_three, \n",
    "  width = 24, height = 10)\n",
    "ggsave(str_c(figures_path, \"png\", \"Supplementary_figure_thre.png\", sep = \"/\"), supplementary_figure_three, \n",
    "  width = 24, height = 10)"
   ]
  },
  {
   "cell_type": "markdown",
   "id": "46ef2a5f-528c-4727-964b-f40806913ee3",
   "metadata": {},
   "source": [
    "## Figure 5: Synchronously acquired, non-contiguous tumors from endemic KS show a greater degree of intra-tumor TCR sharing than epidemic KS, and inter-tumor sharing of TCR sequences is low both within and across epidemic and endemic KS. "
   ]
  },
  {
   "cell_type": "code",
   "execution_count": 149,
   "id": "b544e55b-7165-40a7-9238-9f9d168d1a3d",
   "metadata": {},
   "outputs": [
    {
     "data": {
      "text/html": [
       "<table class=\"dataframe\">\n",
       "<caption>A tibble: 41921 × 11</caption>\n",
       "<thead>\n",
       "\t<tr><th scope=col>repertoire_id</th><th scope=col>junction_aa</th><th scope=col>v_call</th><th scope=col>d_call</th><th scope=col>j_call</th><th scope=col>v_family</th><th scope=col>d_family</th><th scope=col>j_family</th><th scope=col>reading_frame</th><th scope=col>duplicate_count</th><th scope=col>duplicate_frequency</th></tr>\n",
       "\t<tr><th scope=col>&lt;chr&gt;</th><th scope=col>&lt;chr&gt;</th><th scope=col>&lt;chr&gt;</th><th scope=col>&lt;chr&gt;</th><th scope=col>&lt;chr&gt;</th><th scope=col>&lt;chr&gt;</th><th scope=col>&lt;chr&gt;</th><th scope=col>&lt;chr&gt;</th><th scope=col>&lt;chr&gt;</th><th scope=col>&lt;dbl&gt;</th><th scope=col>&lt;dbl&gt;</th></tr>\n",
       "</thead>\n",
       "<tbody>\n",
       "\t<tr><td>008_057_A</td><td>CAGGGRGAEDTQYF</td><td>TRBV7-8</td><td>TRBD2-1</td><td>TRBJ2-3</td><td>TRBV7</td><td>TRBD2</td><td>TRBJ2</td><td>in-frame</td><td>1</td><td>0.0007429421</td></tr>\n",
       "\t<tr><td>008_057_A</td><td>CAGRREETQYF   </td><td>TRBV2-1</td><td>TRBD1-1</td><td>TRBJ2-5</td><td>TRBV2</td><td>TRBD1</td><td>TRBJ2</td><td>in-frame</td><td>1</td><td>0.0007429421</td></tr>\n",
       "\t<tr><td>⋮</td><td>⋮</td><td>⋮</td><td>⋮</td><td>⋮</td><td>⋮</td><td>⋮</td><td>⋮</td><td>⋮</td><td>⋮</td><td>⋮</td></tr>\n",
       "\t<tr><td>008_061_D</td><td>WPAAATIPFHSDNEQFF</td><td>NA</td><td>TRBD2-1</td><td>TRBJ2-1</td><td>NA</td><td>TRBD2</td><td>TRBJ2</td><td>in-frame</td><td>1</td><td>6.928566e-05</td></tr>\n",
       "</tbody>\n",
       "</table>\n"
      ],
      "text/latex": [
       "A tibble: 41921 × 11\n",
       "\\begin{tabular}{lllllllllll}\n",
       " repertoire\\_id & junction\\_aa & v\\_call & d\\_call & j\\_call & v\\_family & d\\_family & j\\_family & reading\\_frame & duplicate\\_count & duplicate\\_frequency\\\\\n",
       " <chr> & <chr> & <chr> & <chr> & <chr> & <chr> & <chr> & <chr> & <chr> & <dbl> & <dbl>\\\\\n",
       "\\hline\n",
       "\t 008\\_057\\_A & CAGGGRGAEDTQYF & TRBV7-8 & TRBD2-1 & TRBJ2-3 & TRBV7 & TRBD2 & TRBJ2 & in-frame & 1 & 0.0007429421\\\\\n",
       "\t 008\\_057\\_A & CAGRREETQYF    & TRBV2-1 & TRBD1-1 & TRBJ2-5 & TRBV2 & TRBD1 & TRBJ2 & in-frame & 1 & 0.0007429421\\\\\n",
       "\t ⋮ & ⋮ & ⋮ & ⋮ & ⋮ & ⋮ & ⋮ & ⋮ & ⋮ & ⋮ & ⋮\\\\\n",
       "\t 008\\_061\\_D & WPAAATIPFHSDNEQFF & NA & TRBD2-1 & TRBJ2-1 & NA & TRBD2 & TRBJ2 & in-frame & 1 & 6.928566e-05\\\\\n",
       "\\end{tabular}\n"
      ],
      "text/markdown": [
       "\n",
       "A tibble: 41921 × 11\n",
       "\n",
       "| repertoire_id &lt;chr&gt; | junction_aa &lt;chr&gt; | v_call &lt;chr&gt; | d_call &lt;chr&gt; | j_call &lt;chr&gt; | v_family &lt;chr&gt; | d_family &lt;chr&gt; | j_family &lt;chr&gt; | reading_frame &lt;chr&gt; | duplicate_count &lt;dbl&gt; | duplicate_frequency &lt;dbl&gt; |\n",
       "|---|---|---|---|---|---|---|---|---|---|---|\n",
       "| 008_057_A | CAGGGRGAEDTQYF | TRBV7-8 | TRBD2-1 | TRBJ2-3 | TRBV7 | TRBD2 | TRBJ2 | in-frame | 1 | 0.0007429421 |\n",
       "| 008_057_A | CAGRREETQYF    | TRBV2-1 | TRBD1-1 | TRBJ2-5 | TRBV2 | TRBD1 | TRBJ2 | in-frame | 1 | 0.0007429421 |\n",
       "| ⋮ | ⋮ | ⋮ | ⋮ | ⋮ | ⋮ | ⋮ | ⋮ | ⋮ | ⋮ | ⋮ |\n",
       "| 008_061_D | WPAAATIPFHSDNEQFF | NA | TRBD2-1 | TRBJ2-1 | NA | TRBD2 | TRBJ2 | in-frame | 1 | 6.928566e-05 |\n",
       "\n"
      ],
      "text/plain": [
       "      repertoire_id junction_aa       v_call  d_call  j_call  v_family d_family\n",
       "1     008_057_A     CAGGGRGAEDTQYF    TRBV7-8 TRBD2-1 TRBJ2-3 TRBV7    TRBD2   \n",
       "2     008_057_A     CAGRREETQYF       TRBV2-1 TRBD1-1 TRBJ2-5 TRBV2    TRBD1   \n",
       "⋮     ⋮             ⋮                 ⋮       ⋮       ⋮       ⋮        ⋮       \n",
       "41921 008_061_D     WPAAATIPFHSDNEQFF NA      TRBD2-1 TRBJ2-1 NA       TRBD2   \n",
       "      j_family reading_frame duplicate_count duplicate_frequency\n",
       "1     TRBJ2    in-frame      1               0.0007429421       \n",
       "2     TRBJ2    in-frame      1               0.0007429421       \n",
       "⋮     ⋮        ⋮             ⋮               ⋮                  \n",
       "41921 TRBJ2    in-frame      1               6.928566e-05       "
      ]
     },
     "metadata": {},
     "output_type": "display_data"
    }
   ],
   "source": [
    "endemic_upset_input_table <- alluvial_data |>\n",
    "  filter(str_detect(repertoire_id,  \"008_057|008_061\"))\n",
    "endemic_upset_input_table"
   ]
  },
  {
   "cell_type": "code",
   "execution_count": 152,
   "id": "d67a6532-d987-4955-99b9-a70b306f258c",
   "metadata": {},
   "outputs": [],
   "source": [
    "# UpSetR plots for endemic KS comparisons\n",
    "\n",
    "endemic_upset_input_tibble <- alluvial_data |>\n",
    "    filter(str_detect(repertoire_id,  \"008_057|008_061\"))  |>\n",
    "    left_join(study_metadata, by = \"repertoire_id\") |>\n",
    "    dplyr::select(repertoire_id, junction_aa, tissue_type, phenotype) |>\n",
    "    mutate(present = 1,\n",
    "        row_id = str_c(repertoire_id, tissue_type, phenotype, sep = \" \")) |>\n",
    "    pivot_wider(id_cols = junction_aa, names_from = repertoire_id, values_from = present, values_fill = 0) |>\n",
    "    dplyr::select(junction_aa, \"008_057_A\", \"008_057_B\", \"008_057_C\", \"008_057_D\", \"008_061_D\",\n",
    "        \"008_061_C\", \"008_061_B\", \"008_061_A\")\n",
    "\n",
    "endemic_upset_rownames <- endemic_upset_input_tibble |>\n",
    "    pull(junction_aa)\n",
    "endemic_upset_input_table <- endemic_upset_input_tibble |>\n",
    "    dplyr::select(-junction_aa) |>\n",
    "    as.data.frame() \n",
    "rownames(endemic_upset_input_table) <- endemic_upset_rownames\n",
    "\n",
    "endemic_upset <- upset(endemic_upset_input_table, \n",
    "    intersect = c(\"008_057_A\", \"008_057_B\", \"008_057_C\", \"008_057_D\", \"008_061_D\", \"008_061_C\", \"008_061_B\", \"008_061_A\"),\n",
    "    queries = list(\n",
    "    upset_query(set = '008_061_A', fill = '#80b1d3'),\n",
    "    upset_query(set = '008_061_B', fill = '#377eb8'),\n",
    "    upset_query(set = '008_061_C', fill = '#377eb8'),\n",
    "    upset_query(set = '008_061_D', fill = '#377eb8'),\n",
    "    upset_query(set = '008_057_A', fill = '#80b1d3'),\n",
    "    upset_query(set = '008_057_B', fill = '#377eb8'),\n",
    "    upset_query(set = '008_057_C', fill = '#377eb8'),\n",
    "    upset_query(set = '008_057_D', fill = '#377eb8'),\n",
    "    upset_query(intersect = c('008_061_A'), color = '#80b1d3', fill = '#80b1d3', only_components=c('intersections_matrix', 'Intersection size')),\n",
    "    upset_query(intersect = c('008_057_A'), color = '#80b1d3', fill = '#80b1d3', only_components=c('intersections_matrix', 'Intersection size')),\n",
    "    upset_query(intersect = c('008_061_B'), color = '#377eb8', fill = '#377eb8', only_components=c('intersections_matrix', 'Intersection size')),\n",
    "    upset_query(intersect = c('008_061_C'), color = '#377eb8', fill = '#377eb8', only_components=c('intersections_matrix', 'Intersection size')),\n",
    "    upset_query(intersect = c('008_061_D'), color = '#377eb8', fill = '#377eb8', only_components=c('intersections_matrix', 'Intersection size')),\n",
    "    upset_query(intersect = c('008_057_B'), color = '#377eb8', fill = '#377eb8', only_components=c('intersections_matrix', 'Intersection size')),\n",
    "    upset_query(intersect = c('008_057_C'), color = '#377eb8', fill = '#377eb8', only_components=c('intersections_matrix', 'Intersection size')),\n",
    "    upset_query(intersect = c('008_057_D'), color = '#377eb8', fill = '#377eb8', only_components=c('intersections_matrix', 'Intersection size')),\n",
    "    upset_query(intersect = c('008_061_B','008_061_D'), color = '#7570b3', fill = '#7570b3', only_components=c('intersections_matrix', 'Intersection size')),\n",
    "    upset_query(intersect = c('008_057_B','008_057_D'), color = '#7570b3', fill = '#7570b3', only_components=c('intersections_matrix', 'Intersection size')),\n",
    "    upset_query(intersect = c('008_057_B','008_057_C', '008_057_D'), color = '#7570b3', fill = '#7570b3', only_components=c('intersections_matrix', 'Intersection size')),    \n",
    "    upset_query(intersect = c('008_061_B','008_061_C', '008_061_D'), color = '#7570b3', fill = '#7570b3', only_components=c('intersections_matrix', 'Intersection size')),    \n",
    "    upset_query(intersect = c('008_057_B','008_057_C'), color = '#7570b3', fill = '#7570b3', only_components=c('intersections_matrix', 'Intersection size')),\n",
    "    upset_query(intersect = c('008_057_C','008_057_D'), color = '#7570b3', fill = '#7570b3', only_components=c('intersections_matrix', 'Intersection size')),\n",
    "    upset_query(intersect = c('008_061_B','008_061_C'), color = '#7570b3', fill = '#7570b3', only_components=c('intersections_matrix', 'Intersection size')),\n",
    "    upset_query(intersect = c('008_061_C','008_061_D'), color = '#7570b3', fill = '#7570b3', only_components=c('intersections_matrix', 'Intersection size')),\n",
    "    upset_query(intersect = c('008_057_A','008_057_B', '008_057_C', '008_057_D'), color = '#d95f02', fill = '#d95f02', only_components=c('intersections_matrix', 'Intersection size')),\n",
    "    upset_query(intersect = c('008_061_A','008_061_B', '008_061_D'), color = '#d95f02', fill = '#d95f02', only_components=c('intersections_matrix', 'Intersection size')),\n",
    "    upset_query(intersect = c('008_061_A','008_061_B'), color = '#d95f02', fill = '#d95f02', only_components=c('intersections_matrix', 'Intersection size')),\n",
    "    upset_query(intersect = c('008_061_A','008_061_B', '008_061_C', '008_061_D'), color = '#d95f02', fill = '#d95f02', only_components=c('intersections_matrix', 'Intersection size')),\n",
    "    upset_query(intersect = c('008_061_A','008_061_D'), color = '#d95f02', fill = '#d95f02', only_components=c('intersections_matrix', 'Intersection size')),\n",
    "    upset_query(intersect = c('008_057_A','008_057_D'), color = '#d95f02', fill = '#d95f02', only_components=c('intersections_matrix', 'Intersection size')),\n",
    "    upset_query(intersect = c('008_057_A','008_057_B'), color = '#d95f02', fill = '#d95f02', only_components=c('intersections_matrix', 'Intersection size')),\n",
    "    upset_query(intersect = c('008_057_A','008_057_B', '008_057_D'), color = '#d95f02', fill = '#d95f02', only_components=c('intersections_matrix', 'Intersection size')),\n",
    "    upset_query(intersect = c('008_057_A','008_057_C'), color = '#d95f02', fill = '#d95f02', only_components=c('intersections_matrix', 'Intersection size')),\n",
    "    upset_query(intersect = c('008_057_A','008_057_C', '008_057_D'), color = '#d95f02', fill = '#d95f02', only_components=c('intersections_matrix', 'Intersection size')),\n",
    "    upset_query(intersect = c('008_061_A','008_061_B', '008_061_C'), color = '#d95f02', fill = '#d95f02', only_components=c('intersections_matrix', 'Intersection size')),\n",
    "    upset_query(intersect = c('008_061_A','008_061_C'), color = '#d95f02', fill = '#d95f02', only_components=c('intersections_matrix', 'Intersection size')),\n",
    "    upset_query(intersect = c('008_061_B','008_057_B'), color = '#e7298a', fill = '#e7298a', only_components=c('intersections_matrix', 'Intersection size')),\n",
    "    upset_query(intersect = c('008_057_A','008_057_B', '008_057_C'), color = '#d95f02', fill = '#d95f02', only_components=c('intersections_matrix', 'Intersection size')),\n",
    "    upset_query(intersect = c('008_061_D','008_057_D'), color = '#e7298a', fill = '#e7298a', only_components=c('intersections_matrix', 'Intersection size')),\n",
    "    upset_query(intersect = c('008_061_B','008_057_C'), color = '#e7298a', fill = '#e7298a', only_components=c('intersections_matrix', 'Intersection size')),\n",
    "    upset_query(intersect = c('008_061_B','008_057_D'), color = '#e7298a', fill = '#e7298a', only_components=c('intersections_matrix', 'Intersection size')),\n",
    "    upset_query(intersect = c('008_061_A','008_061_C', '008_061_D'), color = '#d95f02', fill = '#d95f02', only_components=c('intersections_matrix', 'Intersection size')),\n",
    "    upset_query(intersect = c('008_061_D','008_057_B'), color = '#e7298a', fill = '#e7298a', only_components=c('intersections_matrix', 'Intersection size')),\n",
    "    upset_query(intersect = c('008_061_B','008_057_D', '008_057_C', '008_057_B'), color = '#e7298a', fill = '#e7298a', only_components=c('intersections_matrix', 'Intersection size')),\n",
    "    upset_query(intersect = c('008_061_A','008_057_D'), color = '#606060', fill = '#606060', only_components=c('intersections_matrix', 'Intersection size')),\n",
    "    upset_query(intersect = c('008_061_D','008_057_C'), color = '#e7298a', fill = '#e7298a', only_components=c('intersections_matrix', 'Intersection size')),\n",
    "    upset_query(intersect = c('008_061_D','008_057_D', '008_057_B'), color = '#e7298a', fill = '#e7298a', only_components=c('intersections_matrix', 'Intersection size')),\n",
    "    upset_query(intersect = c('008_061_B','008_057_D', '008_057_B'), color = '#e7298a', fill = '#e7298a', only_components=c('intersections_matrix', 'Intersection size')),\n",
    "    upset_query(intersect = c('008_061_B','008_061_C', '008_057_B'), color = '#e7298a', fill = '#e7298a', only_components=c('intersections_matrix', 'Intersection size')),\n",
    "    upset_query(intersect = c('008_061_B','008_061_C', '008_057_C'), color = '#e7298a', fill = '#e7298a', only_components=c('intersections_matrix', 'Intersection size')),\n",
    "    upset_query(intersect = c('008_061_C','008_057_C'), color = '#e7298a', fill = '#e7298a', only_components=c('intersections_matrix', 'Intersection size')),\n",
    "    upset_query(intersect = c('008_061_B','008_061_C', '008_061_D', '008_057_B'), color = '#e7298a', fill = '#e7298a', only_components=c('intersections_matrix', 'Intersection size')),\n",
    "    upset_query(intersect = c('008_061_B','008_061_D', '008_057_B'), color = '#e7298a', fill = '#e7298a', only_components=c('intersections_matrix', 'Intersection size')),\n",
    "    upset_query(intersect = c('008_061_C','008_057_B'), color = '#e7298a', fill = '#e7298a', only_components=c('intersections_matrix', 'Intersection size')),\n",
    "    upset_query(intersect = c('008_061_A','008_057_B'), color = '#606060', fill = '#606060', only_components=c('intersections_matrix', 'Intersection size')),\n",
    "    upset_query(intersect = c('008_061_A','008_057_D','008_057_C','008_057_B'), color = '#606060', fill = '#606060', only_components=c('intersections_matrix', 'Intersection size')),\n",
    "    upset_query(intersect = c('008_061_B','008_061_D', '008_057_D'), color = '#e7298a', fill = '#e7298a', only_components=c('intersections_matrix', 'Intersection size')),\n",
    "    upset_query(intersect = c('008_061_B','008_061_C', '008_061_D', '008_057_C'), color = '#e7298a', fill = '#e7298a', only_components=c('intersections_matrix', 'Intersection size')),\n",
    "    upset_query(intersect = c('008_061_C','008_061_D', '008_057_C'), color = '#e7298a', fill = '#e7298a', only_components=c('intersections_matrix', 'Intersection size')),    \n",
    "    upset_query(intersect = c('008_057_C','008_061_A'), color = '#606060', fill = '#606060', only_components=c('intersections_matrix', 'Intersection size')),\n",
    "    upset_query(intersect = c('008_061_B','008_057_D','008_057_C'), color = '#e7298a', fill = '#e7298a', only_components=c('intersections_matrix', 'Intersection size')),\n",
    "    upset_query(intersect = c('008_061_A','008_061_B', '008_057_B'), color = '#e7298a', fill = '#e7298a', only_components=c('intersections_matrix', 'Intersection size')),\n",
    "    upset_query(intersect = c('008_061_C','008_061_D', '008_057_D', '008_057_B'), color = '#e7298a', fill = '#e7298a', only_components=c('intersections_matrix', 'Intersection size')),\n",
    "    upset_query(intersect = c('008_061_A','008_061_D', '008_057_D', '008_057_B'), color = '#e7298a', fill = '#e7298a', only_components=c('intersections_matrix', 'Intersection size')),\n",
    "    upset_query(intersect = c('008_061_C','008_057_D', '008_057_B'), color = '#e7298a', fill = '#e7298a', only_components=c('intersections_matrix', 'Intersection size')),\n",
    "    upset_query(intersect = c('008_061_C','008_061_D', '008_057_C', '008_057_B'), color = '#e7298a', fill = '#e7298a', only_components=c('intersections_matrix', 'Intersection size')),\n",
    "    upset_query(intersect = c('008_061_A','008_061_B', '008_061_D', '008_057_C', '008_057_B'), color = '#e7298a', fill = '#e7298a', only_components=c('intersections_matrix', 'Intersection size')),\n",
    "    upset_query(intersect = c('008_061_B','008_057_C', '008_057_B'), color = '#e7298a', fill = '#e7298a', only_components=c('intersections_matrix', 'Intersection size')),\n",
    "    upset_query(intersect = c('008_061_D','008_057_D', '008_057_C', '008_057_B'), color = '#e7298a', fill = '#e7298a', only_components=c('intersections_matrix', 'Intersection size')),\n",
    "    upset_query(intersect = c('008_061_A','008_061_D','008_057_A'), color = '#606060', fill = '#606060', only_components=c('intersections_matrix', 'Intersection size')),\n",
    "    upset_query(intersect = c('008_061_B','008_057_A'), color = '#606060', fill = '#606060', only_components=c('intersections_matrix', 'Intersection size')),\n",
    "    upset_query(intersect = c('008_061_A','008_057_A'), color = '#1b9e77', fill = '#1b9e77', only_components=c('intersections_matrix', 'Intersection size')),\n",
    "    upset_query(intersect = c('008_061_B','008_057_D','008_057_A'), color = '#e7298a', fill = '#e7298a', only_components=c('intersections_matrix', 'Intersection size')),\n",
    "    upset_query(intersect = c('008_061_B','008_061_C','008_061_D', '008_057_C', '008_057_A'), color = '#e7298a', fill = '#e7298a', only_components=c('intersections_matrix', 'Intersection size')),\n",
    "    upset_query(intersect = c('008_061_D','008_057_B','008_057_A'), color = '#e7298a', fill = '#e7298a', only_components=c('intersections_matrix', 'Intersection size')),\n",
    "    upset_query(intersect = c('008_061_A','008_057_B','008_057_A'), color = '#606060', fill = '#606060', only_components=c('intersections_matrix', 'Intersection size')),\n",
    "    upset_query(intersect = c('008_061_A','008_057_D','008_057_B','008_057_A'), color = '#606060', fill = '#606060', only_components=c('intersections_matrix', 'Intersection size')),\n",
    "    upset_query(intersect = c('008_061_D','008_057_D','008_057_C','008_057_B','008_057_A'), color = '#e7298a', fill = '#e7298a', only_components=c('intersections_matrix', 'Intersection size')),\n",
    "    upset_query(intersect = c('008_061_C','008_057_D','008_057_C','008_057_B','008_057_A'), color = '#e7298a', fill = '#e7298a', only_components=c('intersections_matrix', 'Intersection size')),\n",
    "    upset_query(intersect = c('008_061_A','008_057_D','008_057_C','008_057_B','008_057_A'), color = '#606060', fill = '#606060', only_components=c('intersections_matrix', 'Intersection size'))),\n",
    "    intersections = list('008_061_B', '008_057_B','008_057_D', '008_061_D',\n",
    "        '008_057_C', '008_061_A', '008_061_C', '008_057_A', \n",
    "        c('008_061_B','008_061_D'),\n",
    "        c('008_061_B','008_061_C','008_061_D'),\n",
    "        c('008_061_B','008_061_C'),\n",
    "        c('008_061_D','008_061_C'),\n",
    "        c('008_057_D','008_057_B'),\n",
    "        c('008_057_D','008_057_C','008_057_B'), \n",
    "        c('008_057_C','008_057_B'),\n",
    "        c('008_057_D','008_057_C'),\n",
    "        c('008_061_A','008_061_B','008_061_D'),\n",
    "        c('008_061_A','008_061_B'),\n",
    "        c('008_061_A','008_061_B','008_061_C','008_061_D'),\n",
    "        c('008_061_A','008_061_D'),\n",
    "        c('008_061_A','008_061_B','008_061_C'),\n",
    "        c('008_061_A','008_061_C'),\n",
    "        c('008_061_A','008_061_C','008_061_D'),\n",
    "        c('008_057_D','008_057_C','008_057_B','008_057_A'),\n",
    "        c('008_057_D','008_057_A'),\n",
    "        c('008_057_B','008_057_A'),\n",
    "        c('008_057_D','008_057_B','008_057_A'),\n",
    "        c('008_057_C','008_057_A'),\n",
    "        c('008_057_D','008_057_C','008_057_A'),\n",
    "        c('008_057_C','008_057_B','008_057_A'),\n",
    "        c('008_057_B','008_061_B'),\n",
    "        c('008_057_D','008_061_D'),\n",
    "        c('008_061_B','008_057_C'),\n",
    "        c('008_061_B','008_057_D'),\n",
    "        c('008_061_D','008_057_B'),\n",
    "        c('008_061_B','008_057_D','008_057_C','008_057_B'),\n",
    "        c('008_061_D','008_057_C'),\n",
    "        c('008_061_D','008_057_D','008_057_B'),\n",
    "        c('008_061_B','008_057_D','008_057_B'),\n",
    "        c('008_061_B','008_061_C','008_057_B'),\n",
    "        c('008_061_B','008_061_C','008_057_C'),\n",
    "        c('008_061_C','008_057_C'),\n",
    "        c('008_061_B','008_061_C','008_061_D','008_057_B'),\n",
    "        c('008_061_B','008_061_D','008_057_B'),\n",
    "        c('008_061_C','008_057_B'),\n",
    "        c('008_061_B','008_061_D','008_057_D'),\n",
    "        c('008_061_B','008_061_C','008_061_D','008_057_C'),\n",
    "        c('008_061_C','008_061_D','008_057_C'),\n",
    "        c('008_061_B','008_057_D','008_057_C'),\n",
    "        c('008_061_A','008_061_B','008_057_B'),\n",
    "        c('008_061_C','008_061_D','008_057_D','008_057_B'),\n",
    "        c('008_061_A','008_061_D','008_057_D','008_057_B'),\n",
    "        c('008_061_C','008_057_D','008_057_B'),\n",
    "        c('008_061_C','008_061_D','008_057_C','008_057_B'),\n",
    "        c('008_061_A','008_061_B','008_061_D','008_057_C','008_057_B'),\n",
    "        c('008_061_B','008_057_C','008_057_B'),\n",
    "        c('008_061_D','008_057_D','008_057_C','008_057_B'),\n",
    "        c('008_061_B','008_057_D','008_057_A'),\n",
    "        c('008_061_B','008_061_C','008_061_D','008_057_C','008_057_A'),\n",
    "        c('008_061_D','008_057_B','008_057_A'),\n",
    "        c('008_061_D','008_057_D','008_057_C','008_057_B','008_057_A'),\n",
    "        c('008_061_C','008_057_D','008_057_C','008_057_B','008_057_A'),\n",
    "        c('008_061_A','008_057_A'),\n",
    "        c('008_061_A','008_057_D'),    \n",
    "        c('008_061_A','008_057_B'),\n",
    "        c('008_061_A','008_057_D','008_057_C','008_057_B'),\n",
    "        c('008_061_A','008_057_C'),\n",
    "        c('008_061_A','008_061_D','008_057_A'),\n",
    "        c('008_061_B','008_057_A'),\n",
    "        c('008_061_A','008_057_B','008_057_A'),\n",
    "        c('008_061_A','008_057_D','008_057_B','008_057_A'),\n",
    "        c('008_061_A','008_057_D','008_057_C','008_057_B','008_057_A')),\n",
    "    sort_sets=FALSE,\n",
    "    sort_intersections=FALSE,\n",
    "    width_ratio=0.1,\n",
    "    name = \"Overlap between TCR repertoires\",\n",
    "    base_annotations = list(\n",
    "            'Intersection size'=intersection_size(\n",
    "                text = list(size = 7, angle = 90, hjust = 0, vjust = 0.5)\n",
    "            ) + ylab('Number of overlapping TCRs') \n",
    "            + ggtitle(\"Endemic KS - Endemic KS\")\n",
    "            + theme_classic() \n",
    "            + labs(tag = \"A\")\n",
    "            + theme(axis.title.x = element_blank(),\n",
    "                plot.title = element_text(size = 30, face = \"bold\", family = \"NimbusSan\", hjust = 0.5),\n",
    "                axis.text.x = element_blank(),\n",
    "                axis.ticks.x = element_blank(),\n",
    "                axis.title.y = element_text(size = 24, face = \"bold\", family = \"NimbusSan\"),\n",
    "                axis.text.y = element_text(size = 22, face = \"bold\", family = \"NimbusSan\"),\n",
    "                plot.tag = element_text(size = 28, face = \"bold\", family = \"NimbusSan\"))),\n",
    "    set_sizes=(upset_set_size()+ ylab('Number of\\nunique TCRs') \n",
    "            + theme_void() \n",
    "            + theme(axis.title.y = element_blank(),\n",
    "                axis.text.y = element_blank(),\n",
    "                axis.ticks.y = element_blank(),\n",
    "                axis.title.x = element_blank(),\n",
    "                axis.text.x = element_text(size = 20, face = \"bold\", family = \"NimbusSan\", angle = 90, vjust = 0.5),\n",
    "                axis.ticks.x = element_line(linewidth = 2, colour = 'black' ))\n",
    "    )) +\n",
    "    theme(axis.title.x = element_blank(),\n",
    "        axis.text.y = element_text(size = 24, face = \"bold\", family = \"NimbusSan\"))\n"
   ]
  },
  {
   "cell_type": "code",
   "execution_count": 153,
   "id": "33e6648a-62c0-4fe3-8e96-8d731f44bac0",
   "metadata": {},
   "outputs": [],
   "source": [
    "# UpSetR plots for epidemic KS comparisons\n",
    "epidemic_upset_input_tibble <- alluvial_data |>\n",
    "    filter(str_detect(repertoire_id, \"008_021|008_048\"))  |>\n",
    "    left_join(study_metadata, by = \"repertoire_id\") |>\n",
    "    dplyr::select(repertoire_id, junction_aa, tissue_type, phenotype) |>\n",
    "    mutate(present = 1,\n",
    "        row_id = str_c(repertoire_id, tissue_type, phenotype, sep = \" \")) |>\n",
    "    pivot_wider(id_cols = junction_aa, names_from = repertoire_id, values_from = present, values_fill = 0)\n",
    "\n",
    "epidemic_upset_rownames <- epidemic_upset_input_tibble |>\n",
    "    pull(junction_aa)\n",
    "epidemic_upset_input_table <- epidemic_upset_input_tibble |>\n",
    "    dplyr::select(-junction_aa) |>\n",
    "    as.data.frame() \n",
    "rownames(epidemic_upset_input_table) <- epidemic_upset_rownames\n",
    "\n",
    "epidemic_upset <- upset(epidemic_upset_input_tibble, \n",
    "    intersect = c(\"008_021_A\", \"008_021_B\", \"008_021_C\", \"008_021_D\", \"008_048_D\", \"008_048_C\", \"008_048_B\", \"008_048_A\"),\n",
    "    queries = list(\n",
    "        upset_query(set = '008_021_A', fill = '#fb8072'),\n",
    "        upset_query(set = '008_021_B', fill = '#e41a1c'),\n",
    "        upset_query(set = '008_021_C', fill = '#e41a1c'),\n",
    "        upset_query(set = '008_021_D', fill = '#e41a1c'),\n",
    "        upset_query(set = '008_048_A', fill = '#fb8072'),\n",
    "        upset_query(set = '008_048_B', fill = '#e41a1c'),\n",
    "        upset_query(set = '008_048_C', fill = '#e41a1c'),\n",
    "        upset_query(set = '008_048_D', fill = '#e41a1c'),\n",
    "        upset_query(intersect = c('008_048_A','008_048_B','008_048_C','008_048_D'), color = '#d95f02', fill = '#d95f02', only_components=c('intersections_matrix', 'Intersection size')),\n",
    "        upset_query(intersect = c('008_048_B','008_048_C','008_048_D'), color = '#7570b3', fill = '#7570b3', only_components=c('intersections_matrix', 'Intersection size')),\n",
    "        upset_query(intersect = c('008_048_A','008_048_C','008_048_D'), color = '#d95f02', fill = '#d95f02', only_components=c('intersections_matrix', 'Intersection size')),\n",
    "        upset_query(intersect = c('008_048_C','008_048_D'), color = '#7570b3', fill = '#7570b3', only_components=c('intersections_matrix', 'Intersection size')),\n",
    "        upset_query(intersect = c('008_048_A','008_048_B','008_048_D'), color = '#d95f02', fill = '#d95f02', only_components=c('intersections_matrix', 'Intersection size')),\n",
    "        upset_query(intersect = c('008_048_B','008_048_D'), color = '#7570b3', fill = '#7570b3', only_components=c('intersections_matrix', 'Intersection size')),\n",
    "        upset_query(intersect = c('008_048_A','008_048_D'), color = '#d95f02', fill = '#d95f02', only_components=c('intersections_matrix', 'Intersection size')),\n",
    "        upset_query(intersect = c('008_048_D'), color = '#e41a1c', fill = '#e41a1c', only_components=c('intersections_matrix', 'Intersection size')),\n",
    "        upset_query(intersect = c('008_048_A','008_048_B','008_048_C'), color = '#d95f02', fill = '#d95f02', only_components=c('intersections_matrix', 'Intersection size')),\n",
    "        upset_query(intersect = c('008_048_B','008_048_C'), color = '#7570b3', fill = '#7570b3', only_components=c('intersections_matrix', 'Intersection size')),\n",
    "        upset_query(intersect = c('008_048_A','008_048_C'), color = '#d95f02', fill = '#d95f02', only_components=c('intersections_matrix', 'Intersection size')),\n",
    "        upset_query(intersect = c('008_048_C'), color = '#e41a1c', fill = '#e41a1c', only_components=c('intersections_matrix', 'Intersection size')),\n",
    "        upset_query(intersect = c('008_048_A','008_048_B'), color = '#d95f02', fill = '#d95f02', only_components=c('intersections_matrix', 'Intersection size')),\n",
    "        upset_query(intersect = c('008_048_B'), color = '#e41a1c', fill = '#e41a1c', only_components=c('intersections_matrix', 'Intersection size')),\n",
    "        upset_query(intersect = c('008_048_A'), color = '#fb8072', fill = '#fb8072', only_components=c('intersections_matrix', 'Intersection size')),\n",
    "        upset_query(intersect = c('008_048_B','008_048_D','008_021_D'), color = '#e7298a', fill = '#e7298a', only_components=c('intersections_matrix', 'Intersection size')),\n",
    "        upset_query(intersect = c('008_048_D','008_021_D'), color = '#e7298a', fill = '#e7298a', only_components=c('intersections_matrix', 'Intersection size')),\n",
    "        upset_query(intersect = c('008_048_B','008_021_D'), color = '#e7298a', fill = '#e7298a', only_components=c('intersections_matrix', 'Intersection size')),\n",
    "        upset_query(intersect = c('008_021_D'), color = '#e41a1c', fill = '#e41a1c', only_components=c('intersections_matrix', 'Intersection size')),\n",
    "        upset_query(intersect = c('008_048_A','008_048_B','008_048_C','008_048_D','008_021_C'), color = '#e7298a', fill = '#e7298a', only_components=c('intersections_matrix', 'Intersection size')),\n",
    "        upset_query(intersect = c('008_048_B','008_048_C','008_048_D','008_021_C'), color = '#e7298a', fill = '#e7298a', only_components=c('intersections_matrix', 'Intersection size')),\n",
    "        upset_query(intersect = c('008_048_C','008_048_D','008_021_C'), color = '#e7298a', fill = '#e7298a', only_components=c('intersections_matrix', 'Intersection size')),\n",
    "        upset_query(intersect = c('008_048_B','008_048_D','008_021_C'), color = '#e7298a', fill = '#e7298a', only_components=c('intersections_matrix', 'Intersection size')),\n",
    "        upset_query(intersect = c('008_048_C','008_021_C'), color = '#e7298a', fill = '#e7298a', only_components=c('intersections_matrix', 'Intersection size')),\n",
    "        upset_query(intersect = c('008_048_B','008_021_C'), color = '#e7298a', fill = '#e7298a', only_components=c('intersections_matrix', 'Intersection size')),\n",
    "        upset_query(intersect = c('008_048_A','008_048_B','008_048_C','008_048_D','008_021_D','008_021_C'), color = '#e7298a', fill = '#e7298a', only_components=c('intersections_matrix', 'Intersection size')),\n",
    "        upset_query(intersect = c('008_048_B','008_048_C','008_048_D','008_021_D','008_021_C'), color = '#e7298a', fill = '#e7298a', only_components=c('intersections_matrix', 'Intersection size')),\n",
    "        upset_query(intersect = c('008_048_B','008_048_D','008_021_D','008_021_C'), color = '#e7298a', fill = '#e7298a', only_components=c('intersections_matrix', 'Intersection size')),\n",
    "        upset_query(intersect = c('008_048_D','008_021_D','008_021_C'), color = '#e7298a', fill = '#e7298a', only_components=c('intersections_matrix', 'Intersection size')),\n",
    "        upset_query(intersect = c('008_021_D','008_021_C'), color = '#7570b3', fill = '#7570b3', only_components=c('intersections_matrix', 'Intersection size')),\n",
    "        upset_query(intersect = c('008_021_C'), color = '#e41a1c', fill = '#e41a1c', only_components=c('intersections_matrix', 'Intersection size')),\n",
    "        upset_query(intersect = c('008_048_A','008_048_B','008_048_C','008_048_D','008_021_B'), color = '#e7298a', fill = '#e7298a', only_components=c('intersections_matrix', 'Intersection size')),\n",
    "        upset_query(intersect = c('008_048_B','008_048_D','008_021_B'), color = '#e7298a', fill = '#e7298a', only_components=c('intersections_matrix', 'Intersection size')),\n",
    "        upset_query(intersect = c('008_048_D','008_021_B'), color = '#e7298a', fill = '#e7298a', only_components=c('intersections_matrix', 'Intersection size')),\n",
    "        upset_query(intersect = c('008_048_B','008_021_B'), color = '#e7298a', fill = '#e7298a', only_components=c('intersections_matrix', 'Intersection size')),\n",
    "        upset_query(intersect = c('008_048_A','008_021_B'), color = '#606060', fill = '#606060', only_components=c('intersections_matrix', 'Intersection size')),\n",
    "        upset_query(intersect = c('008_048_D','008_021_D','008_021_B'), color = '#e7298a', fill = '#e7298a', only_components=c('intersections_matrix', 'Intersection size')),\n",
    "        upset_query(intersect = c('008_021_D','008_021_B'), color = '#7570b3', fill = '#7570b3', only_components=c('intersections_matrix', 'Intersection size')),\n",
    "        upset_query(intersect = c('008_048_D','008_021_C','008_021_B'), color = '#e7298a', fill = '#e7298a', only_components=c('intersections_matrix', 'Intersection size')),\n",
    "        upset_query(intersect = c('008_048_C','008_021_C','008_021_B'), color = '#e7298a', fill = '#e7298a', only_components=c('intersections_matrix', 'Intersection size')),\n",
    "        upset_query(intersect = c('008_021_D','008_021_C','008_021_B'), color = '#7570b3', fill = '#7570b3', only_components=c('intersections_matrix', 'Intersection size')),\n",
    "        upset_query(intersect = c('008_021_C','008_021_B'), color = '#7570b3', fill = '#7570b3', only_components=c('intersections_matrix', 'Intersection size')),\n",
    "        upset_query(intersect = c('008_021_B'), color = '#e41a1c', fill = '#e41a1c', only_components=c('intersections_matrix', 'Intersection size')),\n",
    "        upset_query(intersect = c('008_048_D','008_021_A'), color = '#606060', fill = '#606060', only_components=c('intersections_matrix', 'Intersection size')),\n",
    "        upset_query(intersect = c('008_048_B','008_021_A'), color = '#606060', fill = '#606060', only_components=c('intersections_matrix', 'Intersection size')),\n",
    "        upset_query(intersect = c('008_048_D','008_021_D','008_021_A'), color = '#e7298a', fill = '#e7298a', only_components=c('intersections_matrix', 'Intersection size')),\n",
    "        upset_query(intersect = c('008_021_D','008_021_A'), color = '#d95f02', fill = '#d95f02', only_components=c('intersections_matrix', 'Intersection size')),\n",
    "        upset_query(intersect = c('008_021_D','008_021_C','008_021_A'), color = '#d95f02', fill = '#d95f02', only_components=c('intersections_matrix', 'Intersection size')),\n",
    "        upset_query(intersect = c('008_021_C','008_021_A'), color = '#d95f02', fill = '#d95f02', only_components=c('intersections_matrix', 'Intersection size')),\n",
    "        upset_query(intersect = c('008_021_D','008_021_B','008_021_A'), color = '#d95f02', fill = '#d95f02', only_components=c('intersections_matrix', 'Intersection size')),\n",
    "        upset_query(intersect = c('008_048_D','008_021_C','008_021_B','008_021_A'), color = '#e7298a', fill = '#e7298a', only_components=c('intersections_matrix', 'Intersection size')),\n",
    "        upset_query(intersect = c('008_048_A','008_048_C','008_048_D','008_021_D','008_021_C','008_021_B','008_021_A'), color = '#e7298a', fill = '#e7298a', only_components=c('intersections_matrix', 'Intersection size')),\n",
    "        upset_query(intersect = c('008_048_D','008_021_D','008_021_C','008_021_B','008_021_A'), color = '#e7298a', fill = '#e7298a', only_components=c('intersections_matrix', 'Intersection size')),\n",
    "        upset_query(intersect = c('008_048_B','008_021_D','008_021_C','008_021_B','008_021_A'), color = '#e7298a', fill = '#e7298a', only_components=c('intersections_matrix', 'Intersection size')),\n",
    "        upset_query(intersect = c('008_048_A','008_021_D','008_021_C','008_021_B','008_021_A'), color = '#606060', fill = '#606060', only_components=c('intersections_matrix', 'Intersection size')),\n",
    "        upset_query(intersect = c('008_021_D','008_021_C','008_021_B','008_021_A'), color = '#d95f02', fill = '#d95f02', only_components=c('intersections_matrix', 'Intersection size')),\n",
    "        upset_query(intersect = c('008_021_C','008_021_B','008_021_A'), color = '#d95f02', fill = '#d95f02', only_components=c('intersections_matrix', 'Intersection size')),\n",
    "        upset_query(intersect = c('008_021_B','008_021_A'), color = '#d95f02', fill = '#d95f02', only_components=c('intersections_matrix', 'Intersection size')),\n",
    "        upset_query(intersect = c('008_021_A'), color = '#fb8072', fill = '#fb8072', only_components=c('intersections_matrix', 'Intersection size'))\n",
    "    ),\n",
    "    intersections = list(\n",
    "        '008_048_B','008_048_D','008_021_C','008_021_D',\n",
    "        '008_048_A','008_021_B','008_048_C','008_021_A',\n",
    "        c('008_048_B','008_048_D'),\n",
    "        c('008_048_B','008_048_C','008_048_D'),\n",
    "        c('008_048_C','008_048_D'),\n",
    "        c('008_048_B','008_048_C'),\n",
    "        c('008_021_D','008_021_C'),\n",
    "        c('008_021_D','008_021_C','008_021_B'),\n",
    "        c('008_021_C','008_021_B'),\n",
    "        c('008_021_D','008_021_B'),\n",
    "        c('008_048_A','008_048_B','008_048_C','008_048_D'),\n",
    "        c('008_048_A','008_048_B','008_048_D'),\n",
    "        c('008_048_A','008_048_B'),\n",
    "        c('008_048_A','008_048_D'),\n",
    "        c('008_048_A','008_048_B','008_048_C'),\n",
    "        c('008_048_A','008_048_C','008_048_D'),\n",
    "        c('008_048_A','008_048_C'),\n",
    "        c('008_021_D','008_021_C','008_021_B','008_021_A'),\n",
    "        c('008_021_D','008_021_C','008_021_A'),\n",
    "        c('008_021_B','008_021_A'),\n",
    "        c('008_021_C','008_021_A'),\n",
    "        c('008_021_C','008_021_B','008_021_A'),\n",
    "        c('008_021_D','008_021_B','008_021_A'),\n",
    "        c('008_021_D','008_021_A'),\n",
    "        c('008_048_B','008_021_C'),\n",
    "        c('008_048_D','008_021_D'),\n",
    "        c('008_048_B','008_021_D','008_021_C','008_021_B','008_021_A'),\n",
    "        c('008_048_D','008_021_B'),\n",
    "        c('008_048_A','008_048_B','008_048_C','008_048_D','008_021_D','008_021_C'),\n",
    "        c('008_048_B','008_048_D','008_021_C'),\n",
    "        c('008_048_B','008_048_D','008_021_B'),\n",
    "        c('008_048_B','008_021_B'),\n",
    "        c('008_048_B','008_048_D','008_021_D'),\n",
    "        c('008_048_B','008_021_D'),\n",
    "        c('008_048_A','008_048_B','008_048_C','008_048_D','008_021_C'),\n",
    "        c('008_048_B','008_048_C','008_048_D','008_021_C'),\n",
    "        c('008_048_C','008_048_D','008_021_C'),\n",
    "        c('008_048_C','008_021_C'),\n",
    "        c('008_048_B','008_048_C','008_048_D','008_021_D','008_021_C'),\n",
    "        c('008_048_B','008_048_D','008_021_D','008_021_C'),\n",
    "        c('008_048_D','008_021_D','008_021_C'),\n",
    "        c('008_048_A','008_048_B','008_048_C','008_048_D','008_021_B'),\n",
    "        c('008_048_D','008_021_D','008_021_B'),\n",
    "        c('008_048_D','008_021_C','008_021_B'),\n",
    "        c('008_048_C','008_021_C','008_021_B'),\n",
    "        c('008_048_D','008_021_D','008_021_A'),\n",
    "        c('008_048_D','008_021_C','008_021_B','008_021_A'),\n",
    "        c('008_048_A','008_048_C','008_048_D','008_021_D','008_021_C','008_021_B','008_021_A'),\n",
    "        c('008_048_D','008_021_D','008_021_C','008_021_B','008_021_A'),\n",
    "        c('008_048_A','008_021_D','008_021_C','008_021_B','008_021_A'),\n",
    "        c('008_048_A','008_021_B'),\n",
    "        c('008_048_D','008_021_A'),\n",
    "        c('008_048_B','008_021_A')),\n",
    "    sort_sets=FALSE,\n",
    "    sort_intersections=FALSE,\n",
    "    width_ratio=0.1,\n",
    "    name = \"Overlap between TCR repertoires\",\n",
    "    base_annotations = list(\n",
    "            'Intersection size'=intersection_size(\n",
    "                text = list(size = 7, angle = 90, hjust = 0, vjust = 0.5)\n",
    "            ) + ylab('Number of overlapping TCRs') \n",
    "            + ggtitle(\"Epidemic KS - Epidemic KS\")\n",
    "            + theme_classic() \n",
    "            + labs(tag = \"B\")\n",
    "            + theme(axis.title.x = element_blank(),\n",
    "                plot.title = element_text(size = 30, face = \"bold\", family = \"NimbusSan\", hjust = 0.5),\n",
    "                axis.text.x = element_blank(),\n",
    "                axis.ticks.x = element_blank(),\n",
    "                axis.title.y = element_text(size = 24, face = \"bold\", family = \"NimbusSan\"),\n",
    "                axis.text.y = element_text(size = 22, face = \"bold\", family = \"NimbusSan\"),\n",
    "                plot.tag = element_text(size = 28, face = \"bold\", family = \"NimbusSan\"))),\n",
    "    set_sizes=(upset_set_size()+ ylab('Number of\\nunique TCRs') \n",
    "            + theme_void() \n",
    "            + theme(axis.title.y = element_blank(),\n",
    "                axis.text.y = element_blank(),\n",
    "                axis.ticks.y = element_blank(),\n",
    "                axis.title.x = element_blank(),\n",
    "                axis.text.x = element_text(size = 20, face = \"bold\", family = \"NimbusSan\", angle = 90, vjust = 0.5),\n",
    "                axis.ticks.x = element_line(linewidth = 2, colour = 'black' ))\n",
    "    )) +\n",
    "    theme(axis.title.x = element_blank(),\n",
    "        axis.text.y = element_text(size = 24, face = \"bold\", family = \"NimbusSan\"))\n",
    "\n"
   ]
  },
  {
   "cell_type": "code",
   "execution_count": 154,
   "id": "425a0128-ba6e-461d-a26b-d2d82197da55",
   "metadata": {},
   "outputs": [],
   "source": [
    "# UpSetR plots for epidemic - endemic KS data comparisons\n",
    "epiend_upset_input_tibble <- alluvial_data |>\n",
    "    filter(str_detect(repertoire_id, \"008_021|008_057\"))  |>\n",
    "    left_join(study_metadata, by = \"repertoire_id\") |>\n",
    "    dplyr::select(repertoire_id, junction_aa, tissue_type, phenotype) |>\n",
    "    mutate(present = 1,\n",
    "        row_id = str_c(repertoire_id, tissue_type, phenotype, sep = \" \")) |>\n",
    "    pivot_wider(id_cols = junction_aa, names_from = repertoire_id, values_from = present, values_fill = 0)\n",
    "\n",
    "epiend_upset_rownames <- epiend_upset_input_tibble |>\n",
    "    pull(junction_aa)\n",
    "epiend_upset_input_table <- epiend_upset_input_tibble |>\n",
    "    dplyr::select(-junction_aa) |>\n",
    "    as.data.frame() \n",
    "rownames(epiend_upset_input_table) <- epiend_upset_rownames\n",
    "\n",
    "epiend_upset_data <- upset_data(epiend_upset_input_table, \n",
    "    intersect = c(\"008_021_A\", \"008_021_B\", \"008_021_C\", \"008_021_D\", \"008_057_D\", \"008_057_C\", \"008_057_B\", \"008_057_A\"))\n",
    "\n",
    "combined_pal <- c(\"Epidemic KS - NAT\" = \"#fb8072\", \n",
    "  \"Epidemic KS - Tumor\" = \"#e41a1c\", \"Endemic KS - NAT\" = \"#80b1d3\",\n",
    "  \"Endemic KS - Tumor\" = \"#377eb8\", \"Inter-subject\\nNAT - NAT\" = \"#1b9e77\", \n",
    "  \"Intra-subject\\nNAT - Tumor\" = \"#d95f02\",\n",
    "  \"Intra-subject\\nTumor - Tumor\" = \"#7570b3\", \n",
    "  \"Inter-subject\\nTumor - Tumor\" = \"#e7298a\",\n",
    "  \"Other\" = \"#606060\")\n",
    "epiend_pal_table <- epiend_upset_data$plot_intersections_subset |>\n",
    "    as_tibble() |> \n",
    "    dplyr::rename(intersections = value) |>\n",
    "    mutate(group = case_when(intersections == \"008_021_A\" ~ \"Epidemic KS - NAT\",\n",
    "        intersections == \"008_057_A\" ~ \"Endemic KS - NAT\",\n",
    "        intersections %in% c(\"008_057_B\",\"008_057_C\",\"008_057_D\")~ \"Endemic KS - Tumor\",\n",
    "        intersections %in% c(\"008_021_B\",\"008_021_C\",\"008_021_D\")~ \"Epidemic KS - Tumor\",\n",
    "        str_detect(intersections, \"008_021\") & !str_detect(intersections,\"008_057\") & str_detect(intersections,\"A\") & str_detect(intersections,'-') ~ \"Intra-subject\\nNAT - Tumor\",\n",
    "        !str_detect(intersections, \"008_021\") & str_detect(intersections,\"008_057\") & str_detect(intersections,\"A\") & str_detect(intersections,'[BCD]') ~ \"Intra-subject\\nNAT - Tumor\",\n",
    "        str_detect(intersections, \"008_021\") & !str_detect(intersections,\"008_057\") & !str_detect(intersections,\"A\") & str_detect(intersections,'[BCD]') ~ \"Intra-subject\\nTumor - Tumor\",\n",
    "        !str_detect(intersections, \"008_021\") & str_detect(intersections,\"008_057\") & !str_detect(intersections,\"A\") & str_detect(intersections,'[BCD]') ~ \"Intra-subject\\nTumor - Tumor\",\n",
    "        str_detect(intersections, \"008_021\") & str_detect(intersections,\"008_057\") & str_detect(intersections,\"008_021_B|008_021_C|008_021_D\") & str_detect(intersections,\"008_057_B|008_057_C|008_057_D\") ~ \"Inter-subject\\nTumor - Tumor\",\n",
    "        intersections == \"008_021_A-008_057_A\" ~ \"Inter-subject\\nNAT - NAT\",\n",
    "        str_detect(intersections,\"008_021\") & str_detect(intersections,\"008_057\") & !str_detect(intersections,\"008_021_B\") & !str_detect(intersections,\"008_021_C\") & !str_detect(intersections,\"008_021_D\") ~ \"Other\",\n",
    "        str_detect(intersections,\"008_021\") & str_detect(intersections,\"008_057\") & !str_detect(intersections,\"008_057_B\") & !str_detect(intersections,\"008_057_C\") & !str_detect(intersections,\"008_057_D\") ~ \"Other\"),\n",
    "        color = combined_pal[group])\n",
    "epiend_pal <- epiend_pal_table |>\n",
    "  pull(color) \n",
    "names(epiend_pal) <- epiend_pal_table |>\n",
    "  pull(intersections) \n",
    "\n",
    "epiend_upset <- upset(epiend_upset_input_table, \n",
    "    intersect = c(\"008_021_A\", \"008_021_B\", \"008_021_C\", \"008_021_D\", \"008_057_D\", \"008_057_C\", \"008_057_B\", \"008_057_A\"),\n",
    "    queries = list(\n",
    "        upset_query(set = '008_021_A', fill = '#fb8072'),\n",
    "        upset_query(set = '008_021_B', fill = '#e41a1c'),\n",
    "        upset_query(set = '008_021_C', fill = '#e41a1c'),\n",
    "        upset_query(set = '008_021_D', fill = '#e41a1c'),\n",
    "        upset_query(set = '008_057_A', fill = '#80b1d3'),\n",
    "        upset_query(set = '008_057_B', fill = '#377eb8'),\n",
    "        upset_query(set = '008_057_C', fill = '#377eb8'),\n",
    "        upset_query(set = '008_057_D', fill = '#377eb8'),\n",
    "        upset_query(intersect = c('008_057_A','008_057_B','008_057_C','008_057_D'), color = '#d95f02', fill = '#d95f02', only_components=c('intersections_matrix', 'Intersection size')),\n",
    "        upset_query(intersect = c('008_057_B','008_057_C','008_057_D'), color = '#7570b3', fill = '#7570b3', only_components=c('intersections_matrix', 'Intersection size')),\n",
    "        upset_query(intersect = c('008_057_A','008_057_C','008_057_D'), color = '#d95f02', fill = '#d95f02', only_components=c('intersections_matrix', 'Intersection size')),\n",
    "        upset_query(intersect = c('008_057_C','008_057_D'), color = '#7570b3', fill = '#7570b3', only_components=c('intersections_matrix', 'Intersection size')),\n",
    "        upset_query(intersect = c('008_057_A','008_057_B','008_057_D'), color = '#d95f02', fill = '#d95f02', only_components=c('intersections_matrix', 'Intersection size')),\n",
    "        upset_query(intersect = c('008_057_B','008_057_D'), color = '#7570b3', fill = '#7570b3', only_components=c('intersections_matrix', 'Intersection size')),\n",
    "        upset_query(intersect = c('008_057_A','008_057_D'), color = '#d95f02', fill = '#d95f02', only_components=c('intersections_matrix', 'Intersection size')),\n",
    "        upset_query(intersect = c('008_057_D'), color = '#377eb8', fill = '#377eb8', only_components=c('intersections_matrix', 'Intersection size')),\n",
    "        upset_query(intersect = c('008_057_A','008_057_B','008_057_C'), color = '#d95f02', fill = '#d95f02', only_components=c('intersections_matrix', 'Intersection size')),\n",
    "        upset_query(intersect = c('008_057_B','008_057_C'), color = '#7570b3', fill = '#7570b3', only_components=c('intersections_matrix', 'Intersection size')),\n",
    "        upset_query(intersect = c('008_057_A','008_057_C'), color = '#d95f02', fill = '#d95f02', only_components=c('intersections_matrix', 'Intersection size')),\n",
    "        upset_query(intersect = c('008_057_C'), color = '#377eb8', fill = '#377eb8', only_components=c('intersections_matrix', 'Intersection size')),\n",
    "        upset_query(intersect = c('008_057_A','008_057_B'), color = '#d95f02', fill = '#d95f02', only_components=c('intersections_matrix', 'Intersection size')),\n",
    "        upset_query(intersect = c('008_057_B'), color = '#377eb8', fill = '#377eb8', only_components=c('intersections_matrix', 'Intersection size')),\n",
    "        upset_query(intersect = c('008_057_A'), color = '#80b1d3', fill = '#80b1d3', only_components=c('intersections_matrix', 'Intersection size')),\n",
    "        upset_query(intersect = c('008_057_B','008_057_C','008_057_D','008_021_D'), color = '#e7298a', fill = '#e7298a', only_components=c('intersections_matrix', 'Intersection size')),\n",
    "        upset_query(intersect = c('008_057_D','008_021_D'), color = '#e7298a', fill = '#e7298a', only_components=c('intersections_matrix', 'Intersection size')),\n",
    "        upset_query(intersect = c('008_057_C','008_021_D'), color = '#e7298a', fill = '#e7298a', only_components=c('intersections_matrix', 'Intersection size')),\n",
    "        upset_query(intersect = c('008_057_B','008_021_D'), color = '#e7298a', fill = '#e7298a', only_components=c('intersections_matrix', 'Intersection size')),\n",
    "        upset_query(intersect = c('008_057_A','008_021_D'), color = '#606060', fill = '#606060', only_components=c('intersections_matrix', 'Intersection size')),\n",
    "        upset_query(intersect = c('008_021_D'), color = '#e41a1c', fill = '#e41a1c', only_components=c('intersections_matrix', 'Intersection size')),\n",
    "        upset_query(intersect = c('008_057_C','008_057_D','008_021_C'), color = '#e7298a', fill = '#e7298a', only_components=c('intersections_matrix', 'Intersection size')),\n",
    "        upset_query(intersect = c('008_057_A','008_057_B','008_057_D','008_021_C'), color = '#e7298a', fill = '#e7298a', only_components=c('intersections_matrix', 'Intersection size')),\n",
    "        upset_query(intersect = c('008_057_B','008_057_D','008_021_C'), color = '#e7298a', fill = '#e7298a', only_components=c('intersections_matrix', 'Intersection size')),\n",
    "        upset_query(intersect = c('008_057_D','008_021_C'), color = '#e7298a', fill = '#e7298a', only_components=c('intersections_matrix', 'Intersection size')),\n",
    "        upset_query(intersect = c('008_057_B','008_057_C','008_021_C'), color = '#e7298a', fill = '#e7298a', only_components=c('intersections_matrix', 'Intersection size')),\n",
    "        upset_query(intersect = c('008_057_C','008_021_C'), color = '#e7298a', fill = '#e7298a', only_components=c('intersections_matrix', 'Intersection size')),\n",
    "        upset_query(intersect = c('008_057_B','008_021_C'), color = '#e7298a', fill = '#e7298a', only_components=c('intersections_matrix', 'Intersection size')),\n",
    "        upset_query(intersect = c('008_057_A','008_021_C'), color = '#606060', fill = '#606060', only_components=c('intersections_matrix', 'Intersection size')),\n",
    "        upset_query(intersect = c('008_057_B','008_057_D','008_021_D','008_021_C'), color = '#e7298a', fill = '#e7298a', only_components=c('intersections_matrix', 'Intersection size')),\n",
    "        upset_query(intersect = c('008_057_D','008_021_D','008_021_C'), color = '#e7298a', fill = '#e7298a', only_components=c('intersections_matrix', 'Intersection size')),\n",
    "        upset_query(intersect = c('008_021_D','008_021_C'), color = '#7570b3', fill = '#7570b3', only_components=c('intersections_matrix', 'Intersection size')),\n",
    "        upset_query(intersect = c('008_021_C'), color = '#e41a1c', fill = '#e41a1c', only_components=c('intersections_matrix', 'Intersection size')),\n",
    "        upset_query(intersect = c('008_057_B','008_057_D','008_021_B'), color = '#e7298a', fill = '#e7298a', only_components=c('intersections_matrix', 'Intersection size')),\n",
    "        upset_query(intersect = c('008_057_D','008_021_B'), color = '#e7298a', fill = '#e7298a', only_components=c('intersections_matrix', 'Intersection size')),\n",
    "        upset_query(intersect = c('008_057_B','008_021_B'), color = '#e7298a', fill = '#e7298a', only_components=c('intersections_matrix', 'Intersection size')),\n",
    "        upset_query(intersect = c('008_057_C','008_021_D','008_021_B'), color = '#e7298a', fill = '#e7298a', only_components=c('intersections_matrix', 'Intersection size')),\n",
    "        upset_query(intersect = c('008_021_D','008_021_B'), color = '#7570b3', fill = '#7570b3', only_components=c('intersections_matrix', 'Intersection size')),\n",
    "        upset_query(intersect = c('008_057_A','008_021_C','008_021_B'), color = '#606060', fill = '#606060', only_components=c('intersections_matrix', 'Intersection size')),\n",
    "        upset_query(intersect = c('008_021_D','008_021_C','008_021_B'), color = '#7570b3', fill = '#7570b3', only_components=c('intersections_matrix', 'Intersection size')),\n",
    "        upset_query(intersect = c('008_021_C','008_021_B'), color = '#7570b3', fill = '#7570b3', only_components=c('intersections_matrix', 'Intersection size')),\n",
    "        upset_query(intersect = c('008_021_B'), color = '#e41a1c', fill = '#e41a1c', only_components=c('intersections_matrix', 'Intersection size')),\n",
    "        upset_query(intersect = c('008_057_D','008_021_A'), color = '#606060', fill = '#606060', only_components=c('intersections_matrix', 'Intersection size')),\n",
    "        upset_query(intersect = c('008_021_D','008_021_A'), color = '#d95f02', fill = '#d95f02', only_components=c('intersections_matrix', 'Intersection size')),\n",
    "        upset_query(intersect = c('008_021_D','008_021_C','008_021_A'), color = '#d95f02', fill = '#d95f02', only_components=c('intersections_matrix', 'Intersection size')),\n",
    "        upset_query(intersect = c('008_021_C','008_021_A'), color = '#d95f02', fill = '#d95f02', only_components=c('intersections_matrix', 'Intersection size')),\n",
    "        upset_query(intersect = c('008_021_D','008_021_B','008_021_A'), color = '#d95f02', fill = '#d95f02', only_components=c('intersections_matrix', 'Intersection size')),\n",
    "        upset_query(intersect = c('008_057_A','008_057_B','008_057_C','008_057_D','008_021_D','008_021_C','008_021_B','008_021_A'), color = '#e7298a', fill = '#e7298a', only_components=c('intersections_matrix', 'Intersection size')),\n",
    "        upset_query(intersect = c('008_057_A','008_057_B','008_057_D','008_021_D','008_021_C','008_021_B','008_021_A'), color = '#e7298a', fill = '#e7298a', only_components=c('intersections_matrix', 'Intersection size')),\n",
    "        upset_query(intersect = c('008_057_D','008_021_D','008_021_C','008_021_B','008_021_A'), color = '#e7298a', fill = '#e7298a', only_components=c('intersections_matrix', 'Intersection size')),\n",
    "        upset_query(intersect = c('008_057_B','008_021_D','008_021_C','008_021_B','008_021_A'), color = '#e7298a', fill = '#e7298a', only_components=c('intersections_matrix', 'Intersection size')),\n",
    "        upset_query(intersect = c('008_021_D','008_021_C','008_021_B','008_021_A'), color = '#d95f02', fill = '#d95f02', only_components=c('intersections_matrix', 'Intersection size')),\n",
    "        upset_query(intersect = c('008_021_C','008_021_B','008_021_A'), color = '#d95f02', fill = '#d95f02', only_components=c('intersections_matrix', 'Intersection size')),\n",
    "        upset_query(intersect = c('008_021_B','008_021_A'), color = '#d95f02', fill = '#d95f02', only_components=c('intersections_matrix', 'Intersection size')),\n",
    "        upset_query(intersect = c('008_021_A'), color = '#fb8072', fill = '#fb8072', only_components=c('intersections_matrix', 'Intersection size'))),\n",
    "    intersections = list(\n",
    "        '008_057_B','008_057_D','008_057_C','008_057_A',\n",
    "        '008_021_C','008_021_D','008_021_B','008_021_A',\n",
    "        c('008_057_B','008_057_D'),\n",
    "        c('008_057_B','008_057_C','008_057_D'),\n",
    "        c('008_057_B','008_057_C'),\n",
    "        c('008_057_C','008_057_D'),\n",
    "        c('008_021_D','008_021_C'),\n",
    "        c('008_021_D','008_021_C','008_021_B'),\n",
    "        c('008_021_C','008_021_B'),\n",
    "        c('008_021_D','008_021_B'),\n",
    "        c('008_057_A','008_057_B','008_057_C','008_057_D'),\n",
    "        c('008_057_A','008_057_D'),\n",
    "        c('008_057_A','008_057_B'),\n",
    "        c('008_057_A','008_057_C'),\n",
    "        c('008_057_A','008_057_B','008_057_D'),\n",
    "        c('008_057_A','008_057_C','008_057_D'),\n",
    "        c('008_057_A','008_057_B','008_057_C'),\n",
    "        c('008_021_D','008_021_C','008_021_B','008_021_A'),\n",
    "        c('008_021_D','008_021_C','008_021_A'),\n",
    "        c('008_021_B','008_021_A'),\n",
    "        c('008_021_C','008_021_A'),\n",
    "        c('008_021_C','008_021_B','008_021_A'),\n",
    "        c('008_021_D','008_021_A'),\n",
    "        c('008_021_D','008_021_B','008_021_A'),\n",
    "        c('008_057_B','008_057_D','008_021_C'),\n",
    "        c('008_057_B','008_021_C'),\n",
    "        c('008_057_D','008_021_D'),\n",
    "        c('008_057_B','008_021_D'),\n",
    "        c('008_057_D','008_021_C'),\n",
    "        c('008_057_D','008_021_B'),\n",
    "        c('008_057_B','008_021_B'),\n",
    "        c('008_057_B','008_021_D','008_021_C','008_021_B','008_021_A'),\n",
    "        c('008_057_B','008_057_C','008_057_D','008_021_D'),\n",
    "        c('008_057_C','008_021_D'),\n",
    "        c('008_057_C','008_057_D','008_021_C'),\n",
    "        c('008_057_A','008_057_B','008_057_D','008_021_C'),\n",
    "        c('008_057_B','008_057_C','008_021_C'),\n",
    "        c('008_057_C','008_021_C'),\n",
    "        c('008_057_B','008_057_D','008_021_D','008_021_C'),\n",
    "        c('008_057_D','008_021_D','008_021_C'),\n",
    "        c('008_057_B','008_057_D','008_021_B'),\n",
    "        c('008_057_C','008_021_D','008_021_B'),\n",
    "        c('008_057_A','008_057_B','008_057_C','008_057_D','008_021_D','008_021_C','008_021_B','008_021_A'),\n",
    "        c('008_057_A','008_057_B','008_057_D','008_021_D','008_021_C','008_021_B','008_021_A'),\n",
    "        c('008_057_D','008_021_D','008_021_C','008_021_B','008_021_A'),\n",
    "        c('008_057_A','008_021_D'),\n",
    "        c('008_057_A','008_021_C'),\n",
    "        c('008_057_A','008_021_C','008_021_B'),\n",
    "        c('008_057_D','008_021_A')\n",
    "\n",
    "    ),\n",
    "    sort_sets=FALSE,\n",
    "    sort_intersections=FALSE,\n",
    "    width_ratio=0.1,\n",
    "    name = \"Overlap between TCR repertoires\",\n",
    "    base_annotations = list(\n",
    "            'Intersection size'=intersection_size(\n",
    "                aes(fill = intersection),\n",
    "                text = list(size = 7, angle = 90, hjust = 0, vjust = 0.5)\n",
    "            ) + ylab('Number of overlapping TCRs') \n",
    "            + theme_classic() \n",
    "            + ggtitle(\"Endemic KS - Epidemic KS\") \n",
    "            + labs(tag = \"C\") \n",
    "            + scale_fill_manual(values = epiend_pal)\n",
    "            + theme(axis.title.x = element_blank(),\n",
    "                plot.title = element_text(size = 30, face = \"bold\", family = \"NimbusSan\", hjust = 0.5),\n",
    "                axis.text.x = element_blank(),\n",
    "                axis.ticks.x = element_blank(),\n",
    "                axis.title.y = element_text(size = 24, face = \"bold\", family = \"NimbusSan\"),\n",
    "                axis.text.y = element_text(size = 22, face = \"bold\", family = \"NimbusSan\"),\n",
    "                plot.tag = element_text(size = 28, face = \"bold\", family = \"NimbusSan\"),\n",
    "                legend.position = \"right\")),\n",
    "    set_sizes=(upset_set_size()+ ylab('Number of\\nunique TCRs') \n",
    "            + theme_void() \n",
    "            + theme(axis.title.y = element_blank(),\n",
    "                axis.text.y = element_blank(),\n",
    "                axis.ticks.y = element_blank(),\n",
    "                axis.title.x = element_text(size = 24, face = \"bold\", family = \"NimbusSan\"),\n",
    "                axis.text.x = element_text(size = 20, face = \"bold\", family = \"NimbusSan\", angle = 90, vjust = 0.5),\n",
    "                axis.ticks.x = element_line(linewidth = 2, colour = 'black' ))\n",
    "    ), guides = \"collect\") +\n",
    "    scale_fill_manual(values = epiend_pal) +\n",
    "    theme(axis.title.x = element_text(size = 24, face = \"bold\", family = \"NimbusSan\"),\n",
    "        axis.text.y = element_text(size = 24, face = \"bold\", family = \"NimbusSan\")) \n"
   ]
  },
  {
   "cell_type": "code",
   "execution_count": 155,
   "id": "894aaae8-3502-4853-8726-5d271a874eaf",
   "metadata": {},
   "outputs": [],
   "source": [
    "figure_five <- endemic_upset / epidemic_upset / epiend_upset + \n",
    "    plot_layout(guides = \"collect\")  & \n",
    "    theme(text = element_text('NimbusSan'))\n",
    "\n",
    "ggsave(str_c(figures_path, \"pdf\", \"Figure_five.pdf\", sep = \"/\"), figure_five, width = 32, \n",
    "    height = 30, device = cairo_pdf, family = \"Arial Unicode MS\")\n",
    "ggsave(str_c(figures_path, \"png\", \"Figure_five.png\", sep = \"/\"), figure_five, width = 32, \n",
    "    height = 30)\n",
    "ggsave(str_c(figures_path, \"svg\", \"Figure_five.svg\", sep = \"/\"), figure_five, width = 32, \n",
    "    height = 30)\n"
   ]
  },
  {
   "cell_type": "markdown",
   "id": "6fdb0e47-0e45-457c-87b0-27bfd8924a2e",
   "metadata": {},
   "source": [
    "# T-cells from clustered unknown antigenic specificity groups persist in KS tumors across time"
   ]
  },
  {
   "attachments": {},
   "cell_type": "markdown",
   "id": "7b590759-6b01-4cfd-9d88-f0ba3836a95a",
   "metadata": {},
   "source": [
    "## Figure 6: T-cells from GLIPH2-defined groups with specificity for unknown antigens persist in the TME across time and space in individuals with epidemic and endemic KS."
   ]
  },
  {
   "cell_type": "code",
   "execution_count": 156,
   "id": "246a4d88-0b79-4742-a75a-fecbe9e61275",
   "metadata": {},
   "outputs": [
    {
     "name": "stderr",
     "output_type": "stream",
     "text": [
      "\n",
      "Subsetting productive sequences [=>----------]  14% eta:  2s\n",
      "\n",
      "Subsetting productive sequences [==>---------]  21% eta:  3s\n",
      "\n",
      "Subsetting productive sequences [==>---------]  29% eta:  3s\n",
      "\n",
      "Subsetting productive sequences [===>--------]  36% eta:  3s\n",
      "\n",
      "Subsetting productive sequences [====>-------]  43% eta:  7s\n",
      "\n",
      "Subsetting productive sequences [=====>------]  50% eta:  5s\n",
      "\n",
      "Subsetting productive sequences [======>-----]  57% eta:  4s\n",
      "\n",
      "Subsetting productive sequences [=======>----]  64% eta:  3s\n",
      "\n",
      "Subsetting productive sequences [========>---]  71% eta:  3s\n",
      "\n",
      "Subsetting productive sequences [========>---]  79% eta:  3s\n",
      "\n",
      "Subsetting productive sequences [=========>--]  86% eta:  2s\n",
      "\n",
      "Subsetting productive sequences [==========>-]  93% eta:  1s\n",
      "\n",
      "Subsetting productive sequences [============] 100% eta:  0s\n",
      "\n",
      "\n"
     ]
    },
    {
     "ename": "ERROR",
     "evalue": "Error in eval(expr, envir, enclos): object 'temporal_map_dict' not found\n",
     "output_type": "error",
     "traceback": [
      "Error in eval(expr, envir, enclos): object 'temporal_map_dict' not found\nTraceback:\n",
      "1. scale_x_discrete(labels = temporal_map_dict)",
      "2. discrete_scale(c(\"x\", \"xmin\", \"xmax\", \"xend\"), \"position_d\", \n .     identity, ..., expand = expand, guide = guide, position = position, \n .     super = ScaleDiscretePosition)",
      "3. check_breaks_labels(breaks, labels)"
     ]
    }
   ],
   "source": [
    "temopral_example_table <- study_annotated_nprod_table |>\n",
    "  filter(patient_id %in% c(\"008_141\", \"008_008\")) |>\n",
    "  productiveSeq(aggregate = \"junction_aa\") \n",
    "\n",
    "temporal_overlap_samples <- study_metadata |> \n",
    "  filter(tissue_type %in% c( \"Tumor\") & \n",
    "    str_detect(repertoire_id, \"008_\\\\d+\")) |>  \n",
    "  group_by(patient_id, hiv_status, visit_code) |> \n",
    "  summarize(count = length(unique(repertoire_id))) |> \n",
    "  pivot_wider(names_from = visit_code, values_from = count, values_fill = 0) |> \n",
    "  filter(V01 != 0 & (V05 != 0 | V08 != 0)) |>\n",
    "  pull(patient_id)\n",
    "\n",
    "visit_map <- study_metadata |>\n",
    "  filter(tissue_type %in% c( \"Tumor\") & \n",
    "    str_detect(repertoire_id, \"008_\\\\d+\")) |>\n",
    "  pull(visit_code)\n",
    "names(visit_map) <- study_metadata |>\n",
    "  filter(tissue_type %in% c( \"Tumor\") & \n",
    "    str_detect(repertoire_id, \"008_\\\\d+\")) |>\n",
    "  pull(trb_repertoire_id)\n",
    "\n",
    "endemic_ug <- temopral_example_table |> \n",
    "  filter(junction_aa %in% kstme_clustered_unknown_table$junction_aa & \n",
    "    str_detect(repertoire_id, \"008_141\")) |>\n",
    "  mutate(color = \"#377eb8\") |>\n",
    "  pull(color) \n",
    "\n",
    "endemic_alist <- temopral_example_table |> \n",
    "  filter(junction_aa %in% kstme_clustered_unknown_table$junction_aa & \n",
    "    str_detect(repertoire_id, \"008_141\")) |>\n",
    "  mutate(color = \"#377eb8\") |>\n",
    "  pull(junction_aa) \n",
    "names(endemic_ug) <- temopral_example_table |> \n",
    "  filter(junction_aa %in% kstme_clustered_unknown_table$junction_aa & \n",
    "    str_detect(repertoire_id, \"008_141\")) |>\n",
    "  mutate(color = \"#377eb8\") |>\n",
    "  pull(junction_aa) \n",
    "\n",
    "endemic_alluvial <- temopral_example_table |>\n",
    "  filter(str_detect(repertoire_id, \"008_141\")) |>\n",
    "  topSeqs(top = 500) |>\n",
    "  cloneTrack() |>\n",
    "  plotTrack(alist = endemic_alist, apal = endemic_ug) +\n",
    "  scale_x_discrete(labels = temporal_map_dict) +\n",
    "  labs(x = \"Sample\") + \n",
    "  theme_classic(base_size = 30) +\n",
    "  theme(legend.position = \"none\", \n",
    "    axis.text.x = element_text(face = \"bold\", color = \"black\"))\n",
    "\n",
    "epidemic_ug <- temopral_example_table |> \n",
    "  filter(junction_aa %in% kstme_clustered_unknown_table$junction_aa & \n",
    "    str_detect(repertoire_id, \"008_008\")) |>\n",
    "  mutate(color = \"#e41a1c\") |>\n",
    "  pull(color) \n",
    "epidemic_alist <- temopral_example_table |> \n",
    "  filter(junction_aa %in% kstme_clustered_unknown_table$junction_aa & \n",
    "    str_detect(repertoire_id, \"008_008\")) |>\n",
    "  mutate(color = \"#e41a1c\") |>\n",
    "  pull(junction_aa) \n",
    "names(epidemic_ug) <- temopral_example_table |> \n",
    "  filter(junction_aa %in% kstme_clustered_unknown_table$junction_aa & \n",
    "    str_detect(repertoire_id, \"008_008\")) |>\n",
    "  mutate(color = \"#e41a1c\") |>\n",
    "  pull(junction_aa) \n",
    "\n",
    "epidemic_alluvial <- temopral_example_table |>\n",
    "  filter(str_detect(repertoire_id, \"008_008\")) |>\n",
    "  topSeqs(top = 500) |>\n",
    "  cloneTrack() |>\n",
    "  plotTrack(alist = epidemic_alist, apal = epidemic_ug) +\n",
    "  scale_x_discrete(labels = temporal_map_dict) +\n",
    "  labs(x = \"Sample\") + \n",
    "  theme_classic(base_size = 30)  +\n",
    "  theme(legend.position = \"none\",\n",
    "   axis.text.x = element_text(face = \"bold\", color = \"black\"))\n",
    "\n",
    "figure_six_layout <- \"\n",
    "11112222\n",
    "11112222\n",
    "11112222\"\n",
    "figure_six <- (endemic_alluvial + epidemic_alluvial +plot_layout(guides = \"auto\"))  +\n",
    "  plot_layout(design = figure_six_layout) +\n",
    "  plot_annotation(tag_levels = 'A') & theme(text = element_text('NimbusSan', face = \"bold\"))\n",
    "ggsave(str_c(figures_path, \"pdf\", \"Figure_six.pdf\", sep = \"/\"), figure_six, \n",
    "  width = 30, height = 30)\n",
    "ggsave(str_c(figures_path, \"svg\", \"Figure_six.svg\", sep = \"/\"), figure_six, \n",
    "  width = 30, height = 30)\n",
    "ggsave(str_c(figures_path, \"png\", \"Figure_six.png\", sep = \"/\"), figure_six, \n",
    "  width =  30, height = 30)"
   ]
  },
  {
   "cell_type": "code",
   "execution_count": null,
   "id": "1120a381-ecd7-4a04-b883-0be3f21d09e9",
   "metadata": {},
   "outputs": [],
   "source": []
  }
 ],
 "metadata": {
  "kernelspec": {
   "display_name": "R [conda env:ksmanuscript] *",
   "language": "R",
   "name": "conda-env-ksmanuscript-r"
  },
  "language_info": {
   "codemirror_mode": "r",
   "file_extension": ".r",
   "mimetype": "text/x-r-source",
   "name": "R",
   "pygments_lexer": "r",
   "version": "4.3.2"
  }
 },
 "nbformat": 4,
 "nbformat_minor": 5
}
